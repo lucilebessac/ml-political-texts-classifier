{
 "cells": [
  {
   "cell_type": "markdown",
   "metadata": {},
   "source": [
    "# 🧠 Apprentissage Artificiel - Projet Final 2024 🧠\n",
    "\n",
    "**Autrice** : Lucile BESSAC - n°43017374 - UPN (Parcours Pro)\n",
    "\n",
    "Ce notebook contient le projet final réalisé dans le cadre du cours **Apprentissage Artificiel** à l'université Paris Nanterre, semestre 2024. Le projet porte sur la classification par parti politique des interventions au Parlement européen, dans le cadre de la tâche 3 de l'édition 2009 du DÉfi Fouille de Texte (DEFT).\n",
    "\n",
    "---\n",
    "\n",
    "## 📚 Description du projet\n",
    "\n",
    "Ce projet vise à :  \n",
    "1. Construire un ou plusieurs modèles de classification pour la tâche DEFT 2009.  \n",
    "2. Évaluer leurs performances à l'aide des métriques standards (précision, rappel, F1, etc.).  \n",
    "3. Comparer les résultats obtenus aux benchmarks fournis dans les actes du DEFT 2009.  \n",
    "4. Produire un rapport synthétique au format ACL, détaillant le contexte, la méthodologie et les résultats obtenus.\n",
    "\n",
    "---\n",
    "\n",
    "## 🛠️ Fonctionnalités principales\n",
    "\n",
    "- **Chargement des données** : Manipulation des données issues du DEFT 2009.  \n",
    "- **Prétraitement** : Nettoyage, vectorisation, et préparation des données textuelles.  \n",
    "- **Classification** : Implémentation de divers algorithmes (hors réseaux de neurones).  \n",
    "- **Évaluation** : Analyse des performances des modèles (métriques et visualisations).  \n",
    "- **Documentation** : Rapport scientifique en 4 pages au format ACL."
   ]
  },
  {
   "cell_type": "markdown",
   "metadata": {},
   "source": []
  },
  {
   "cell_type": "code",
   "execution_count": 13,
   "metadata": {},
   "outputs": [],
   "source": [
    "# -*- coding: utf-8 -*-\n",
    "\"\"\"\n",
    "Créé le 08/12/2024\n",
    "\n",
    "\"\"\"\n",
    "\n",
    "# Importation des librairies\n",
    "import sklearn\n",
    "from sklearn.datasets import fetch_20newsgroups_vectorized"
   ]
  },
  {
   "cell_type": "code",
   "execution_count": 14,
   "metadata": {},
   "outputs": [],
   "source": [
    "# Importation des données\n",
    "newsgroups_train = fetch_20newsgroups_vectorized(subset='train')"
   ]
  },
  {
   "cell_type": "code",
   "execution_count": 15,
   "metadata": {},
   "outputs": [
    {
     "name": "stdout",
     "output_type": "stream",
     "text": [
      "['alt.atheism',\n",
      " 'comp.graphics',\n",
      " 'comp.os.ms-windows.misc',\n",
      " 'comp.sys.ibm.pc.hardware',\n",
      " 'comp.sys.mac.hardware',\n",
      " 'comp.windows.x',\n",
      " 'misc.forsale',\n",
      " 'rec.autos',\n",
      " 'rec.motorcycles',\n",
      " 'rec.sport.baseball',\n",
      " 'rec.sport.hockey',\n",
      " 'sci.crypt',\n",
      " 'sci.electronics',\n",
      " 'sci.med',\n",
      " 'sci.space',\n",
      " 'soc.religion.christian',\n",
      " 'talk.politics.guns',\n",
      " 'talk.politics.mideast',\n",
      " 'talk.politics.misc',\n",
      " 'talk.religion.misc']\n"
     ]
    }
   ],
   "source": [
    "# Affichage des catégories du corpus sous forme de liste\n",
    "from pprint import pprint\n",
    "pprint(list(newsgroups_train.target_names))"
   ]
  },
  {
   "cell_type": "code",
   "execution_count": null,
   "metadata": {},
   "outputs": [],
   "source": []
  }
 ],
 "metadata": {
  "kernelspec": {
   "display_name": "apprautovenv",
   "language": "python",
   "name": "python3"
  },
  "language_info": {
   "codemirror_mode": {
    "name": "ipython",
    "version": 3
   },
   "file_extension": ".py",
   "mimetype": "text/x-python",
   "name": "python",
   "nbconvert_exporter": "python",
   "pygments_lexer": "ipython3",
   "version": "3.11.4"
  }
 },
 "nbformat": 4,
 "nbformat_minor": 2
}
