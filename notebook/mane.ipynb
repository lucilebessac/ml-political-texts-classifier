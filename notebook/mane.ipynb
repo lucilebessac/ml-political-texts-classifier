{
 "cells": [
  {
   "cell_type": "markdown",
   "metadata": {},
   "source": [
    "**IMPORTS :** "
   ]
  },
  {
   "cell_type": "code",
   "execution_count": null,
   "metadata": {},
   "outputs": [],
   "source": [
    "import os\n",
    "import xml.etree.ElementTree as ET\n",
    "from nltk.corpus import stopwords \n",
    "from sklearn.feature_extraction.text import TfidfVectorizer\n",
    "from sklearn.model_selection import GridSearchCV\n",
    "from sklearn.neighbors import KNeighborsClassifier\n",
    "from sklearn.naive_bayes import MultinomialNB, ComplementNB\n",
    "from sklearn.metrics import classification_report, confusion_matrix, ConfusionMatrixDisplay, accuracy_score, precision_score, recall_score, f1_score\n",
    "import pandas as pd"
   ]
  },
  {
   "cell_type": "markdown",
   "metadata": {},
   "source": [
    "**Récupération du corpus** (pour qu'on puisse l'utiliser avec sklearn)"
   ]
  },
  {
   "cell_type": "code",
   "execution_count": null,
   "metadata": {},
   "outputs": [],
   "source": [
    "dossier_train = \"../../deft09/corpus_train\"\n",
    "dossier_test = \"../../deft09/corpus_test\""
   ]
  },
  {
   "cell_type": "code",
   "execution_count": null,
   "metadata": {},
   "outputs": [],
   "source": [
    "def recup_train_data(dossier) : \n",
    "    \"\"\"\n",
    "    extraction du texte et des étiquettes des documents XML d'un répertoire.\n",
    "    \"\"\"\n",
    "    textes = []\n",
    "    labels = []\n",
    "    for fichier in os.listdir(dossier) : \n",
    "        if fichier.endswith(\".xml\"):\n",
    "            chemin_fichier = os.path.join(dossier, fichier)\n",
    "            tree = ET.parse(chemin_fichier) #analyse et parsing du fichier\n",
    "            root = tree.getroot() #obtient l'élément racine de l'arbre XML (le noeud principal de l'arbre)\n",
    "\n",
    "            for doc in root.findall(\"doc\") : \n",
    "                intervention = doc.find(\".//texte/p\")\n",
    "                if intervention is not None and intervention.text is not None : \n",
    "                 texte = intervention.text\n",
    "                else : \n",
    "                    texte = \"\"\n",
    "                parti = doc.find(\".//EVALUATION/EVAL_PARTI/PARTI\")\n",
    "                if parti is not None and \"valeur\" in parti.attrib : \n",
    "                    label = parti.get(\"valeur\")\n",
    "                else : \n",
    "                    label = \"Unknown\"\n",
    "\n",
    "                textes.append(texte)\n",
    "                labels.append(label)\n",
    "                \n",
    "    return textes, labels\n",
    "\n",
    "\n",
    "def recup_test_data(dossier) : \n",
    "    \"\"\"\n",
    "    extraction du texte des documents XML d'un répertoire.\n",
    "    \"\"\"\n",
    "    textes = []\n",
    "    for fichier in os.listdir(dossier) : \n",
    "        if fichier.endswith(\".xml\"):\n",
    "            chemin_fichier = os.path.join(dossier, fichier)\n",
    "            tree = ET.parse(chemin_fichier) #analyse et parsing du fichier\n",
    "            root = tree.getroot() #obtient l'élément racine de l'arbre XML (le noeud principal de l'arbre)\n",
    "\n",
    "            for doc in root.findall(\"doc\") : \n",
    "                intervention = doc.find(\".//texte/p\")\n",
    "                if intervention is not None and intervention.text is not None : \n",
    "                 texte = intervention.text\n",
    "                else : \n",
    "                    texte = \"\"\n",
    "\n",
    "                textes.append(texte)\n",
    "    \n",
    "    return textes"
   ]
  },
  {
   "cell_type": "code",
   "execution_count": null,
   "metadata": {},
   "outputs": [],
   "source": [
    "textes_train, labels_train = recup_train_data(dossier_train)\n",
    "textes_test = recup_test_data(dossier_test)"
   ]
  },
  {
   "cell_type": "markdown",
   "metadata": {},
   "source": [
    "**Vectorisation TFIDF** (+enlever les stopwords)"
   ]
  },
  {
   "cell_type": "code",
   "execution_count": null,
   "metadata": {},
   "outputs": [],
   "source": [
    "stopwords_list = stopwords.words(\"english\") + stopwords.words(\"french\") + stopwords.words(\"italian\")"
   ]
  },
  {
   "cell_type": "code",
   "execution_count": null,
   "metadata": {},
   "outputs": [],
   "source": [
    "tfidf = TfidfVectorizer(stop_words=stopwords_list)\n",
    "X_train = tfidf.fit_transform(textes_train)\n",
    "X_test = tfidf.transform(textes_test)"
   ]
  },
  {
   "cell_type": "markdown",
   "metadata": {},
   "source": [
    "## KNeighbors Classifier"
   ]
  },
  {
   "cell_type": "code",
   "execution_count": 1,
   "metadata": {},
   "outputs": [
    {
     "ename": "NameError",
     "evalue": "name 'KNeighborsClassifier' is not defined",
     "output_type": "error",
     "traceback": [
      "\u001b[0;31m---------------------------------------------------------------------------\u001b[0m",
      "\u001b[0;31mNameError\u001b[0m                                 Traceback (most recent call last)",
      "Cell \u001b[0;32mIn[1], line 6\u001b[0m\n\u001b[1;32m      1\u001b[0m param_gridKNN \u001b[38;5;241m=\u001b[39m {\n\u001b[1;32m      2\u001b[0m     \u001b[38;5;124m\"\u001b[39m\u001b[38;5;124mn_neighbors\u001b[39m\u001b[38;5;124m\"\u001b[39m : [\u001b[38;5;241m1\u001b[39m, \u001b[38;5;241m2\u001b[39m, \u001b[38;5;241m5\u001b[39m, \u001b[38;5;241m10\u001b[39m],\n\u001b[1;32m      3\u001b[0m     \u001b[38;5;124m\"\u001b[39m\u001b[38;5;124mweights\u001b[39m\u001b[38;5;124m\"\u001b[39m : [\u001b[38;5;124m\"\u001b[39m\u001b[38;5;124muniform\u001b[39m\u001b[38;5;124m\"\u001b[39m, \u001b[38;5;124m\"\u001b[39m\u001b[38;5;124mdistance\u001b[39m\u001b[38;5;124m\"\u001b[39m], \n\u001b[1;32m      4\u001b[0m }\n\u001b[0;32m----> 6\u001b[0m model_knn \u001b[38;5;241m=\u001b[39m \u001b[43mKNeighborsClassifier\u001b[49m()\n\u001b[1;32m      8\u001b[0m knn_grid \u001b[38;5;241m=\u001b[39m GridSearchCV(model_knn, param_gridKNN, cv\u001b[38;5;241m=\u001b[39m\u001b[38;5;241m5\u001b[39m, verbose\u001b[38;5;241m=\u001b[39m\u001b[38;5;241m1\u001b[39m)\n\u001b[1;32m     10\u001b[0m knn_grid\u001b[38;5;241m.\u001b[39mfit(X_train, labels_train)\n",
      "\u001b[0;31mNameError\u001b[0m: name 'KNeighborsClassifier' is not defined"
     ]
    }
   ],
   "source": [
    "param_gridKNN = {\n",
    "    \"n_neighbors\" : [1, 2, 5, 10],\n",
    "    \"weights\" : [\"uniform\", \"distance\"], \n",
    "}\n",
    "\n",
    "#Initialisation\n",
    "model_KNN = KNeighborsClassifier()\n",
    "KNN_grid = GridSearchCV(model_KNN, param_gridKNN, cv=5, verbose=1)\n",
    "\n",
    "#Entraînement du modèle\n",
    "KNN_grid.fit(X_train, labels_train)\n",
    "\n",
    "#Afficher les meilleurs paramètres\n",
    "print(\"Meilleurs paramètres : \", KNN_grid.best_params_)\n",
    "\n",
    "#Prédiction avec les meilleurs paramètres obtenus\n",
    "best_KNN = KNN_grid.best_estimator_\n",
    "y_pred_best_KNN = best_KNN.predict(X_test)\n",
    "\n",
    "#Résultats\n",
    "print(\"Résultats KNeighbors Classifier : \")\n",
    "print(\"Rapport de Classification KNN:\\n\")\n",
    "print(classification_report(y_test, y_pred_best_KNN))"
   ]
  },
  {
   "cell_type": "markdown",
   "metadata": {},
   "source": [
    "## Multinomial Naive Bayes"
   ]
  },
  {
   "cell_type": "code",
   "execution_count": null,
   "metadata": {},
   "outputs": [],
   "source": [
    "param_gridMultiNB = {\n",
    "    \"alpha\": [0.05, 0.2, 0.7, 1.0, 2],\n",
    "    \"fit_prior\": [True, False]\n",
    "}\n",
    "\n",
    "#Initialisation\n",
    "model_MultiNB = MultinomialNB()\n",
    "multiNB_grid = GridSearchCV(model_MultiNB, param_gridMultiNB, cv=5, verbose=1 )\n",
    "\n",
    "#Entraînement du modèle\n",
    "multiNB_grid.fit(X_train, labels_train)\n",
    "\n",
    "#Afficher les meilleurs paramètres\n",
    "print(\"Meilleurs paramètres : \", multiNB_grid.best_params_)\n",
    "\n",
    "#Prédiction avec les meilleurs paramètres obtenus\n",
    "best_MultiNB = multiNB_grid.best_estimator_\n",
    "y_pred_best_MultiNB = best_MultiNB.predict(X_test)\n",
    "\n",
    "#Résultats\n",
    "print(\"Résultat Multinomial Naive Bayes : \")\n",
    "print(\"Rapport de Classification MultiNB:\\n\")\n",
    "print(classification_report(y_test, y_pred_best_MultiNB))"
   ]
  },
  {
   "cell_type": "markdown",
   "metadata": {},
   "source": [
    "## Complement Naive Bayes"
   ]
  },
  {
   "cell_type": "code",
   "execution_count": null,
   "metadata": {},
   "outputs": [],
   "source": [
    "param_gridComplNB = {\n",
    "    \"alpha\": [0.05, 0.2, 0.7, 1.0, 2],\n",
    "    \"fit_prior\": [True, False],\n",
    "    \"norm\": [True, False]\n",
    "}\n",
    "\n",
    "#Initialisation\n",
    "model_ComplNB = ComplementNB()\n",
    "ComplNB_grid = GridSearchCV(model_ComplNB, param_gridComplNB, cv=5, verbose=1 )\n",
    "\n",
    "#Entraînement du modèle\n",
    "ComplNB_grid.fit(X_train, labels_train)\n",
    "\n",
    "#Afficher les meilleurs paramètres\n",
    "print(\"Meilleurs paramètres : \", ComplNB_grid.best_params_)\n",
    "\n",
    "#Prédiction avec les meilleurs paramètres obtenus\n",
    "best_ComplNB = ComplNB_grid.best_estimator_\n",
    "y_pred_best_ComplNB = best_ComplNB.predict(X_test)\n",
    "\n",
    "#Résultats\n",
    "print(\"Résultat Complement Naive Bayes : \")\n",
    "print(\"Rapport de Classification ComplNB:\\n\")\n",
    "print(classification_report(y_test, y_pred_best_ComplNB))"
   ]
  },
  {
   "cell_type": "markdown",
   "metadata": {},
   "source": [
    "## COMPARAISON DES PERFORMANCES DES MODÈLES"
   ]
  },
  {
   "cell_type": "code",
   "execution_count": null,
   "metadata": {},
   "outputs": [],
   "source": [
    "resultats = pd.DataFrame({\n",
    "    \"Modèle\": [\"KNeighbors\", \"Multinomial Naive Bayes\", \"Complement Naive Bayes\"],\n",
    "    \"Accuracy\" : \n",
    "        [accuracy_score(y_test, y_pred_best_KNN),\n",
    "        accuracy_score(y_test, y_pred_best_MultiNB),\n",
    "        accuracy_score(y_test, y_pred_best_ComplNB)],\n",
    "    \"Précision\": \n",
    "        [precision_score(y_test, y_pred_best_KNN, average='weighted'),\n",
    "        precision_score(y_test, y_pred_best_MultiNB, average='weighted'),\n",
    "        precision_score(y_test, y_pred_best_ComplNB, average='weighted')],\n",
    "    \"Rappel\" : \n",
    "        [recall_score(y_test, y_pred_best_KNN, average='weighted'),\n",
    "        recall_score(y_test, y_pred_best_MultiNB, average='weighted'),\n",
    "        recall_score(y_test, y_pred_best_ComplNB, average='weighted')],\n",
    "    \"F-mesure\" : \n",
    "        [f1_score(y_test, y_pred_best_KNN, average='weighted'),\n",
    "        f1_score(y_test, y_pred_best_MultiNB, average='weighted'),\n",
    "        f1_score(y_test, y_pred_best_ComplNB, average='weighted')]\n",
    "})\n",
    "\n",
    "print(resultats)"
   ]
  }
 ],
 "metadata": {
  "kernelspec": {
   "display_name": "app_auto",
   "language": "python",
   "name": "python3"
  },
  "language_info": {
   "codemirror_mode": {
    "name": "ipython",
    "version": 3
   },
   "file_extension": ".py",
   "mimetype": "text/x-python",
   "name": "python",
   "nbconvert_exporter": "python",
   "pygments_lexer": "ipython3",
   "version": "3.11.7"
  }
 },
 "nbformat": 4,
 "nbformat_minor": 2
}
