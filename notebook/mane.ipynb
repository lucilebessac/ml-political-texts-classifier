{
 "cells": [
  {
   "cell_type": "markdown",
   "metadata": {},
   "source": [
    "## IMPORTS :"
   ]
  },
  {
   "cell_type": "code",
   "execution_count": 50,
   "metadata": {},
   "outputs": [],
   "source": [
    "import os\n",
    "import xml.etree.ElementTree as ET\n",
    "from nltk.corpus import stopwords \n",
    "from sklearn.feature_extraction.text import TfidfVectorizer\n",
    "from sklearn.model_selection import train_test_split\n",
    "from sklearn.model_selection import GridSearchCV\n",
    "from sklearn.neighbors import KNeighborsClassifier\n",
    "from sklearn.naive_bayes import MultinomialNB, ComplementNB\n",
    "from sklearn.svm import LinearSVC\n",
    "from sklearn.linear_model import LogisticRegression\n",
    "from sklearn.ensemble import RandomForestClassifier\n",
    "from sklearn.metrics import classification_report, confusion_matrix, ConfusionMatrixDisplay, accuracy_score, precision_score, recall_score, f1_score\n",
    "import pandas as pd"
   ]
  },
  {
   "cell_type": "markdown",
   "metadata": {},
   "source": [
    "## Récupération du corpus\n",
    "(pour qu'on puisse l'utiliser avec sklearn)"
   ]
  },
  {
   "cell_type": "code",
   "execution_count": 3,
   "metadata": {},
   "outputs": [],
   "source": [
    "dossier_train = \"../../deft09/corpus_train\"\n",
    "dossier_test = \"../../deft09/corpus_test\"\n",
    "dossier_ref = \"../../deft09/donnees_ref\""
   ]
  },
  {
   "cell_type": "code",
   "execution_count": 38,
   "metadata": {},
   "outputs": [],
   "source": [
    "def recup_train_data(dossier) : \n",
    "    \"\"\"\n",
    "    extraction du texte et des étiquettes des documents XML d'un répertoire.\n",
    "    \"\"\"\n",
    "    train_textes = []\n",
    "    labels_train = []\n",
    "    for fichier in os.listdir(dossier) : \n",
    "        if fichier.endswith(\".xml\"):\n",
    "            chemin_fichier = os.path.join(dossier, fichier)\n",
    "            tree = ET.parse(chemin_fichier) #analyse et parsing du fichier\n",
    "            root = tree.getroot() #obtient l'élément racine de l'arbre XML (le noeud principal de l'arbre)\n",
    "\n",
    "            for doc in root.findall(\"doc\") : \n",
    "                intervention = doc.find(\".//texte/p\")\n",
    "                if intervention is not None and intervention.text is not None : \n",
    "                 texte = intervention.text\n",
    "                else : \n",
    "                    texte = \"\"\n",
    "                parti = doc.find(\".//EVALUATION/EVAL_PARTI/PARTI\")\n",
    "                if parti is not None and \"valeur\" in parti.attrib : \n",
    "                    label = parti.get(\"valeur\")\n",
    "                else : \n",
    "                    label = \"Unknown\"\n",
    "\n",
    "                train_textes.append(texte)\n",
    "                labels_train.append(label)\n",
    "                \n",
    "    print(f\"Nb textes train : {len(train_textes)}\")\n",
    "    print(f\"Nb labels train : {len(labels_train)}\")\n",
    "\n",
    "    return train_textes, labels_train\n",
    "\n",
    "def recup_test_data(dossier) : \n",
    "    test_textes = []\n",
    "    for fichier in os.listdir(dossier) : \n",
    "        if fichier.endswith(\".xml\"):\n",
    "            chemin_fichier = os.path.join(dossier, fichier)\n",
    "\n",
    "            tree = ET.parse(chemin_fichier) #analyse et parsing du fichier\n",
    "            root = tree.getroot() #obtient l'élément racine de l'arbre XML (le noeud principal de l'arbre)\n",
    "\n",
    "            for doc in root.findall('doc'):\n",
    "                texte_complet = \"\"\n",
    "                for p in doc.find('texte').findall('p'):\n",
    "                    if p.text : \n",
    "                        texte_complet += p.text.strip() + \" \"\n",
    "                test_textes.append(texte_complet.strip())\n",
    "\n",
    "    print(f\"Nb textes test : {len(test_textes)}\")\n",
    "  \n",
    "    return test_textes\n",
    "    \n",
    "def recup_donnees_ref(dossier) :\n",
    "    labels_test = []\n",
    "    for fichier in os.listdir(dossier) : \n",
    "        if fichier.endswith(\".txt\"):\n",
    "            chemin_fichier = os.path.join(dossier, fichier)\n",
    "\n",
    "            with open(chemin_fichier, \"r\", encoding=\"latin1\") as file : \n",
    "                for ligne in file : \n",
    "                    ligne = ligne.strip()\n",
    "                    ligne = ligne.replace(\"\\t\", \" \")\n",
    "                    parties = ligne.split()\n",
    "                    if len(parties) > 1: \n",
    "                        labels_test.append(parties[1])\n",
    "                    else:\n",
    "                        print(f\"Ligne ignorée : {ligne} sur le fichier {fichier}\")\n",
    "                        labels_test.append(\"Unknown\")\n",
    "\n",
    "    print(f\"Nb labels test : {len(labels_test)}\")\n",
    "    \n",
    "    return labels_test"
   ]
  },
  {
   "cell_type": "code",
   "execution_count": 39,
   "metadata": {},
   "outputs": [
    {
     "name": "stdout",
     "output_type": "stream",
     "text": [
      "Nb textes train : 58110\n",
      "Nb labels train : 58110\n"
     ]
    }
   ],
   "source": [
    "textes_train, y_train = recup_train_data(dossier_train)"
   ]
  },
  {
   "cell_type": "code",
   "execution_count": 40,
   "metadata": {},
   "outputs": [
    {
     "name": "stdout",
     "output_type": "stream",
     "text": [
      "Nb textes test : 38751\n",
      "Ligne ignorée : 2602 sur le fichier deft09_parlement_ref_en_utf8.txt\n",
      "Ligne ignorée : 12172 sur le fichier deft09_parlement_ref_en_utf8.txt\n",
      "Ligne ignorée : 1175 sur le fichier deft09_parlement_ref_fr_utf8.txt\n",
      "Ligne ignorée : 4574 sur le fichier deft09_parlement_ref_fr_utf8.txt\n",
      "Ligne ignorée : 1239 sur le fichier deft09_parlement_ref_it_utf8.txt\n",
      "Ligne ignorée : 8634 sur le fichier deft09_parlement_ref_it_utf8.txt\n",
      "Nb labels test : 38751\n"
     ]
    }
   ],
   "source": [
    "textes_test = recup_test_data(dossier_test)\n",
    "y_test = recup_donnees_ref(dossier_ref)"
   ]
  },
  {
   "cell_type": "markdown",
   "metadata": {},
   "source": [
    "**Vectorisation TFIDF** (+enlever les stopwords)"
   ]
  },
  {
   "cell_type": "code",
   "execution_count": 41,
   "metadata": {},
   "outputs": [],
   "source": [
    "stopwords_list = stopwords.words(\"english\") + stopwords.words(\"french\") + stopwords.words(\"italian\")"
   ]
  },
  {
   "cell_type": "code",
   "execution_count": 42,
   "metadata": {},
   "outputs": [],
   "source": [
    "tfidf = TfidfVectorizer(stop_words=stopwords_list)\n",
    "X_train = tfidf.fit_transform(textes_train)\n",
    "X_test = tfidf.transform(textes_test)"
   ]
  },
  {
   "cell_type": "markdown",
   "metadata": {},
   "source": [
    "## KNeighbors Classifier"
   ]
  },
  {
   "cell_type": "code",
   "execution_count": 43,
   "metadata": {},
   "outputs": [
    {
     "name": "stdout",
     "output_type": "stream",
     "text": [
      "Fitting 5 folds for each of 8 candidates, totalling 40 fits\n",
      "[CV] END .....................n_neighbors=1, weights=uniform; total time=  59.4s\n",
      "[CV] END .....................n_neighbors=1, weights=uniform; total time= 1.2min\n",
      "[CV] END .....................n_neighbors=1, weights=uniform; total time= 1.3min\n",
      "[CV] END .....................n_neighbors=1, weights=uniform; total time= 1.3min\n",
      "[CV] END ....................n_neighbors=1, weights=distance; total time=  54.2s\n",
      "[CV] END .....................n_neighbors=1, weights=uniform; total time= 1.1min\n",
      "[CV] END ....................n_neighbors=1, weights=distance; total time= 1.0min\n",
      "[CV] END ....................n_neighbors=1, weights=distance; total time= 1.1min\n",
      "[CV] END ....................n_neighbors=1, weights=distance; total time=  55.5s\n",
      "[CV] END ....................n_neighbors=1, weights=distance; total time=  56.4s\n",
      "[CV] END .....................n_neighbors=2, weights=uniform; total time=  43.9s\n",
      "[CV] END .....................n_neighbors=2, weights=uniform; total time= 1.1min\n",
      "[CV] END .....................n_neighbors=2, weights=uniform; total time=  54.1s\n",
      "[CV] END .....................n_neighbors=2, weights=uniform; total time=  57.3s\n",
      "[CV] END .....................n_neighbors=2, weights=uniform; total time= 1.1min\n",
      "[CV] END ....................n_neighbors=2, weights=distance; total time=  49.0s\n",
      "[CV] END ....................n_neighbors=2, weights=distance; total time=  58.6s\n",
      "[CV] END ....................n_neighbors=2, weights=distance; total time=  58.8s\n",
      "[CV] END ....................n_neighbors=2, weights=distance; total time=  59.8s\n",
      "[CV] END ....................n_neighbors=2, weights=distance; total time=  57.2s\n",
      "[CV] END ....................n_neighbors=10, weights=uniform; total time=  48.9s\n",
      "[CV] END ....................n_neighbors=10, weights=uniform; total time=  53.4s\n",
      "[CV] END ....................n_neighbors=10, weights=uniform; total time=  54.0s\n",
      "[CV] END ....................n_neighbors=10, weights=uniform; total time= 1.0min\n",
      "[CV] END ....................n_neighbors=10, weights=uniform; total time= 1.1min\n",
      "[CV] END ...................n_neighbors=10, weights=distance; total time= 1.0min\n",
      "[CV] END ...................n_neighbors=10, weights=distance; total time= 1.0min\n",
      "[CV] END ...................n_neighbors=10, weights=distance; total time=  57.6s\n",
      "[CV] END ...................n_neighbors=10, weights=distance; total time=  57.6s\n",
      "[CV] END ...................n_neighbors=10, weights=distance; total time= 1.0min\n",
      "[CV] END ....................n_neighbors=15, weights=uniform; total time=  51.0s\n",
      "[CV] END ....................n_neighbors=15, weights=uniform; total time= 1.0min\n",
      "[CV] END ....................n_neighbors=15, weights=uniform; total time=  43.8s\n",
      "[CV] END ....................n_neighbors=15, weights=uniform; total time=  49.3s\n",
      "[CV] END ....................n_neighbors=15, weights=uniform; total time=  58.2s\n",
      "[CV] END ...................n_neighbors=15, weights=distance; total time=  49.1s\n",
      "[CV] END ...................n_neighbors=15, weights=distance; total time=  50.8s\n",
      "[CV] END ...................n_neighbors=15, weights=distance; total time=  49.4s\n",
      "[CV] END ...................n_neighbors=15, weights=distance; total time=  44.6s\n",
      "[CV] END ...................n_neighbors=15, weights=distance; total time=  34.0s\n"
     ]
    },
    {
     "name": "stderr",
     "output_type": "stream",
     "text": [
      "/Users/manongourves/envs/app_auto/lib/python3.11/site-packages/numpy/ma/core.py:2846: RuntimeWarning: invalid value encountered in cast\n",
      "  _data = np.array(data, dtype=dtype, copy=copy,\n"
     ]
    },
    {
     "name": "stdout",
     "output_type": "stream",
     "text": [
      "Meilleurs paramètres :  {'n_neighbors': 15, 'weights': 'distance'}\n",
      "Rapport de Classification KNeighbors Classifier:\n",
      "\n"
     ]
    },
    {
     "name": "stderr",
     "output_type": "stream",
     "text": [
      "/Users/manongourves/envs/app_auto/lib/python3.11/site-packages/sklearn/metrics/_classification.py:1531: UndefinedMetricWarning: Precision is ill-defined and being set to 0.0 in labels with no predicted samples. Use `zero_division` parameter to control this behavior.\n",
      "  _warn_prf(average, modifier, f\"{metric.capitalize()} is\", len(result))\n"
     ]
    },
    {
     "name": "stdout",
     "output_type": "stream",
     "text": [
      "              precision    recall  f1-score   support\n",
      "\n",
      "        ELDR       0.35      0.04      0.07      4017\n",
      "     GUE-NGL       0.40      0.04      0.08      5379\n",
      "      PPE-DE       0.58      0.05      0.09     13713\n",
      "         PSE       0.29      0.95      0.44     10881\n",
      "     Unknown       0.00      0.00      0.00         6\n",
      "   Verts-ALE       0.40      0.04      0.07      4755\n",
      "\n",
      "    accuracy                           0.30     38751\n",
      "   macro avg       0.34      0.19      0.13     38751\n",
      "weighted avg       0.43      0.30      0.18     38751\n",
      "\n"
     ]
    },
    {
     "name": "stderr",
     "output_type": "stream",
     "text": [
      "/Users/manongourves/envs/app_auto/lib/python3.11/site-packages/sklearn/metrics/_classification.py:1531: UndefinedMetricWarning: Precision is ill-defined and being set to 0.0 in labels with no predicted samples. Use `zero_division` parameter to control this behavior.\n",
      "  _warn_prf(average, modifier, f\"{metric.capitalize()} is\", len(result))\n",
      "/Users/manongourves/envs/app_auto/lib/python3.11/site-packages/sklearn/metrics/_classification.py:1531: UndefinedMetricWarning: Precision is ill-defined and being set to 0.0 in labels with no predicted samples. Use `zero_division` parameter to control this behavior.\n",
      "  _warn_prf(average, modifier, f\"{metric.capitalize()} is\", len(result))\n"
     ]
    }
   ],
   "source": [
    "param_gridKNN = {\n",
    "    \"n_neighbors\" : [1, 2, 10, 15],\n",
    "    \"weights\" : [\"uniform\", \"distance\"], \n",
    "}\n",
    "\n",
    "#Initialisation\n",
    "KNN = KNeighborsClassifier()\n",
    "KNN_grid = GridSearchCV(KNN, param_gridKNN, cv=5, verbose=2, n_jobs=-1)\n",
    "\n",
    "#Entraînement du modèle\n",
    "KNN_grid.fit(X_train, y_train)\n",
    "\n",
    "#Afficher les meilleurs paramètres\n",
    "print(\"Meilleurs paramètres : \", KNN_grid.best_params_)\n",
    "\n",
    "#Prédiction avec les meilleurs paramètres obtenus\n",
    "best_KNN = KNN_grid.best_estimator_\n",
    "y_pred_best_KNN = best_KNN.predict(X_test)\n",
    "\n",
    "#Résultats\n",
    "print(\"Rapport de Classification KNeighbors Classifier:\\n\")\n",
    "print(classification_report(y_test, y_pred_best_KNN))"
   ]
  },
  {
   "cell_type": "markdown",
   "metadata": {},
   "source": [
    "## Multinomial Naive Bayes"
   ]
  },
  {
   "cell_type": "code",
   "execution_count": 44,
   "metadata": {},
   "outputs": [
    {
     "name": "stdout",
     "output_type": "stream",
     "text": [
      "Fitting 5 folds for each of 10 candidates, totalling 50 fits\n",
      "[CV] END .........................alpha=0.05, fit_prior=True; total time=   0.4s\n",
      "[CV] END .........................alpha=0.05, fit_prior=True; total time=   0.5s\n",
      "[CV] END .........................alpha=0.05, fit_prior=True; total time=   0.5s\n",
      "[CV] END .........................alpha=0.05, fit_prior=True; total time=   0.6s\n",
      "[CV] END .........................alpha=0.05, fit_prior=True; total time=   0.6s\n",
      "[CV] END ........................alpha=0.05, fit_prior=False; total time=   0.5s\n",
      "[CV] END ........................alpha=0.05, fit_prior=False; total time=   0.6s\n",
      "[CV] END ........................alpha=0.05, fit_prior=False; total time=   0.4s\n",
      "[CV] END ........................alpha=0.05, fit_prior=False; total time=   0.5s\n",
      "[CV] END ........................alpha=0.05, fit_prior=False; total time=   0.5s\n",
      "[CV] END ..........................alpha=0.2, fit_prior=True; total time=   0.4s\n",
      "[CV] END ..........................alpha=0.2, fit_prior=True; total time=   0.5s\n",
      "[CV] END ..........................alpha=0.2, fit_prior=True; total time=   0.4s\n",
      "[CV] END ..........................alpha=0.2, fit_prior=True; total time=   0.4s\n",
      "[CV] END ..........................alpha=0.2, fit_prior=True; total time=   0.4s\n",
      "[CV] END .........................alpha=0.2, fit_prior=False; total time=   0.3s\n",
      "[CV] END .........................alpha=0.2, fit_prior=False; total time=   0.4s\n",
      "[CV] END .........................alpha=0.2, fit_prior=False; total time=   0.4s\n",
      "[CV] END .........................alpha=0.2, fit_prior=False; total time=   0.4s\n",
      "[CV] END .........................alpha=0.2, fit_prior=False; total time=   0.3s\n",
      "[CV] END ..........................alpha=0.7, fit_prior=True; total time=   0.3s\n",
      "[CV] END ..........................alpha=0.7, fit_prior=True; total time=   0.4s\n",
      "[CV] END ..........................alpha=0.7, fit_prior=True; total time=   0.4s\n",
      "[CV] END ..........................alpha=0.7, fit_prior=True; total time=   0.3s\n",
      "[CV] END ..........................alpha=0.7, fit_prior=True; total time=   0.3s\n",
      "[CV] END .........................alpha=0.7, fit_prior=False; total time=   0.3s\n",
      "[CV] END .........................alpha=0.7, fit_prior=False; total time=   0.3s\n",
      "[CV] END .........................alpha=0.7, fit_prior=False; total time=   0.4s\n",
      "[CV] END .........................alpha=0.7, fit_prior=False; total time=   0.4s\n",
      "[CV] END .........................alpha=0.7, fit_prior=False; total time=   0.4s\n",
      "[CV] END ..........................alpha=1.0, fit_prior=True; total time=   0.3s\n",
      "[CV] END ..........................alpha=1.0, fit_prior=True; total time=   0.4s\n",
      "[CV] END ..........................alpha=1.0, fit_prior=True; total time=   0.3s\n",
      "[CV] END ..........................alpha=1.0, fit_prior=True; total time=   0.3s\n",
      "[CV] END ..........................alpha=1.0, fit_prior=True; total time=   0.3s\n",
      "[CV] END .........................alpha=1.0, fit_prior=False; total time=   0.4s\n",
      "[CV] END .........................alpha=1.0, fit_prior=False; total time=   0.3s\n",
      "[CV] END .........................alpha=1.0, fit_prior=False; total time=   0.4s\n",
      "[CV] END .........................alpha=1.0, fit_prior=False; total time=   0.4s\n",
      "[CV] END .........................alpha=1.0, fit_prior=False; total time=   0.4s\n",
      "[CV] END ............................alpha=2, fit_prior=True; total time=   0.4s\n",
      "[CV] END ............................alpha=2, fit_prior=True; total time=   0.4s\n",
      "[CV] END ............................alpha=2, fit_prior=True; total time=   0.3s\n",
      "[CV] END ............................alpha=2, fit_prior=True; total time=   0.4s\n",
      "[CV] END ............................alpha=2, fit_prior=True; total time=   0.4s\n",
      "[CV] END ...........................alpha=2, fit_prior=False; total time=   0.3s\n",
      "[CV] END ...........................alpha=2, fit_prior=False; total time=   0.3s\n",
      "[CV] END ...........................alpha=2, fit_prior=False; total time=   0.3s\n",
      "[CV] END ...........................alpha=2, fit_prior=False; total time=   0.3s\n",
      "[CV] END ...........................alpha=2, fit_prior=False; total time=   0.3s\n",
      "Meilleurs paramètres :  {'alpha': 0.05, 'fit_prior': True}\n",
      "Rapport de Classification Multinomial Naive Bayes:\n",
      "\n"
     ]
    },
    {
     "name": "stderr",
     "output_type": "stream",
     "text": [
      "/Users/manongourves/envs/app_auto/lib/python3.11/site-packages/sklearn/metrics/_classification.py:1531: UndefinedMetricWarning: Precision is ill-defined and being set to 0.0 in labels with no predicted samples. Use `zero_division` parameter to control this behavior.\n",
      "  _warn_prf(average, modifier, f\"{metric.capitalize()} is\", len(result))\n"
     ]
    },
    {
     "name": "stdout",
     "output_type": "stream",
     "text": [
      "              precision    recall  f1-score   support\n",
      "\n",
      "        ELDR       0.35      0.06      0.10      4017\n",
      "     GUE-NGL       0.31      0.29      0.30      5379\n",
      "      PPE-DE       0.41      0.65      0.50     13713\n",
      "         PSE       0.37      0.34      0.35     10881\n",
      "     Unknown       0.00      0.00      0.00         6\n",
      "   Verts-ALE       0.35      0.10      0.16      4755\n",
      "\n",
      "    accuracy                           0.38     38751\n",
      "   macro avg       0.30      0.24      0.24     38751\n",
      "weighted avg       0.37      0.38      0.35     38751\n",
      "\n"
     ]
    },
    {
     "name": "stderr",
     "output_type": "stream",
     "text": [
      "/Users/manongourves/envs/app_auto/lib/python3.11/site-packages/sklearn/metrics/_classification.py:1531: UndefinedMetricWarning: Precision is ill-defined and being set to 0.0 in labels with no predicted samples. Use `zero_division` parameter to control this behavior.\n",
      "  _warn_prf(average, modifier, f\"{metric.capitalize()} is\", len(result))\n",
      "/Users/manongourves/envs/app_auto/lib/python3.11/site-packages/sklearn/metrics/_classification.py:1531: UndefinedMetricWarning: Precision is ill-defined and being set to 0.0 in labels with no predicted samples. Use `zero_division` parameter to control this behavior.\n",
      "  _warn_prf(average, modifier, f\"{metric.capitalize()} is\", len(result))\n"
     ]
    }
   ],
   "source": [
    "param_gridMultiNB = {\n",
    "    \"alpha\": [0.05, 0.2, 0.7, 1.0, 2],\n",
    "    \"fit_prior\": [True, False]\n",
    "}\n",
    "\n",
    "#Initialisation\n",
    "MultiNB = MultinomialNB()\n",
    "MultiNB_grid = GridSearchCV(MultiNB, param_gridMultiNB, cv=5, verbose=2, n_jobs=-1)\n",
    "\n",
    "#Entraînement du modèle\n",
    "MultiNB_grid.fit(X_train, y_train)\n",
    "\n",
    "#Afficher les meilleurs paramètres\n",
    "print(\"Meilleurs paramètres : \", MultiNB_grid.best_params_)\n",
    "\n",
    "#Prédiction avec les meilleurs paramètres obtenus\n",
    "best_MultiNB = MultiNB_grid.best_estimator_\n",
    "y_pred_best_MultiNB = best_MultiNB.predict(X_test)\n",
    "\n",
    "#Résultats\n",
    "print(\"Rapport de Classification Multinomial Naive Bayes:\\n\")\n",
    "print(classification_report(y_test, y_pred_best_MultiNB))"
   ]
  },
  {
   "cell_type": "markdown",
   "metadata": {},
   "source": [
    "## Complement Naive Bayes"
   ]
  },
  {
   "cell_type": "code",
   "execution_count": 45,
   "metadata": {},
   "outputs": [
    {
     "name": "stdout",
     "output_type": "stream",
     "text": [
      "Fitting 5 folds for each of 20 candidates, totalling 100 fits\n",
      "[CV] END ..............alpha=0.05, fit_prior=True, norm=True; total time=   0.4s\n",
      "[CV] END ..............alpha=0.05, fit_prior=True, norm=True; total time=   0.4s\n",
      "[CV] END ..............alpha=0.05, fit_prior=True, norm=True; total time=   0.5s\n",
      "[CV] END ..............alpha=0.05, fit_prior=True, norm=True; total time=   0.5s\n",
      "[CV] END ..............alpha=0.05, fit_prior=True, norm=True; total time=   0.4s\n",
      "[CV] END .............alpha=0.05, fit_prior=True, norm=False; total time=   0.4s\n",
      "[CV] END .............alpha=0.05, fit_prior=True, norm=False; total time=   0.4s\n",
      "[CV] END .............alpha=0.05, fit_prior=True, norm=False; total time=   0.3s\n",
      "[CV] END .............alpha=0.05, fit_prior=True, norm=False; total time=   0.7s\n",
      "[CV] END .............alpha=0.05, fit_prior=True, norm=False; total time=   0.7s\n",
      "[CV] END .............alpha=0.05, fit_prior=False, norm=True; total time=   0.7s\n",
      "[CV] END .............alpha=0.05, fit_prior=False, norm=True; total time=   0.7s\n",
      "[CV] END .............alpha=0.05, fit_prior=False, norm=True; total time=   0.9s\n",
      "[CV] END .............alpha=0.05, fit_prior=False, norm=True; total time=   0.9s\n",
      "[CV] END .............alpha=0.05, fit_prior=False, norm=True; total time=   0.9s\n",
      "[CV] END ............alpha=0.05, fit_prior=False, norm=False; total time=   0.8s\n",
      "[CV] END ............alpha=0.05, fit_prior=False, norm=False; total time=   0.4s\n",
      "[CV] END ............alpha=0.05, fit_prior=False, norm=False; total time=   0.3s\n",
      "[CV] END ............alpha=0.05, fit_prior=False, norm=False; total time=   0.3s\n",
      "[CV] END ............alpha=0.05, fit_prior=False, norm=False; total time=   0.3s\n",
      "[CV] END ...............alpha=0.2, fit_prior=True, norm=True; total time=   0.3s\n",
      "[CV] END ...............alpha=0.2, fit_prior=True, norm=True; total time=   0.4s\n",
      "[CV] END ...............alpha=0.2, fit_prior=True, norm=True; total time=   0.3s\n",
      "[CV] END ...............alpha=0.2, fit_prior=True, norm=True; total time=   0.3s\n",
      "[CV] END ...............alpha=0.2, fit_prior=True, norm=True; total time=   0.3s\n",
      "[CV] END ..............alpha=0.2, fit_prior=True, norm=False; total time=   0.4s\n",
      "[CV] END ..............alpha=0.2, fit_prior=True, norm=False; total time=   0.3s\n",
      "[CV] END ..............alpha=0.2, fit_prior=True, norm=False; total time=   0.4s\n",
      "[CV] END ..............alpha=0.2, fit_prior=True, norm=False; total time=   0.7s\n",
      "[CV] END ..............alpha=0.2, fit_prior=True, norm=False; total time=   0.7s\n",
      "[CV] END ..............alpha=0.2, fit_prior=False, norm=True; total time=   0.6s\n",
      "[CV] END ..............alpha=0.2, fit_prior=False, norm=True; total time=   0.5s\n",
      "[CV] END ..............alpha=0.2, fit_prior=False, norm=True; total time=   0.7s\n",
      "[CV] END ..............alpha=0.2, fit_prior=False, norm=True; total time=   0.7s\n",
      "[CV] END ..............alpha=0.2, fit_prior=False, norm=True; total time=   0.7s\n",
      "[CV] END .............alpha=0.2, fit_prior=False, norm=False; total time=   0.7s\n",
      "[CV] END .............alpha=0.2, fit_prior=False, norm=False; total time=   0.5s\n",
      "[CV] END .............alpha=0.2, fit_prior=False, norm=False; total time=   0.6s\n",
      "[CV] END .............alpha=0.2, fit_prior=False, norm=False; total time=   0.6s\n",
      "[CV] END .............alpha=0.2, fit_prior=False, norm=False; total time=   0.6s\n",
      "[CV] END ...............alpha=0.7, fit_prior=True, norm=True; total time=   0.4s[CV] END ...............alpha=0.7, fit_prior=True, norm=True; total time=   0.5s\n",
      "\n",
      "[CV] END ...............alpha=0.7, fit_prior=True, norm=True; total time=   0.4s\n",
      "[CV] END ...............alpha=0.7, fit_prior=True, norm=True; total time=   0.4s\n",
      "[CV] END ...............alpha=0.7, fit_prior=True, norm=True; total time=   0.4s\n",
      "[CV] END ..............alpha=0.7, fit_prior=True, norm=False; total time=   0.4s\n",
      "[CV] END ..............alpha=0.7, fit_prior=True, norm=False; total time=   0.4s\n",
      "[CV] END ..............alpha=0.7, fit_prior=True, norm=False; total time=   0.4s\n",
      "[CV] END ..............alpha=0.7, fit_prior=True, norm=False; total time=   0.3s\n",
      "[CV] END ..............alpha=0.7, fit_prior=True, norm=False; total time=   0.3s\n",
      "[CV] END ..............alpha=0.7, fit_prior=False, norm=True; total time=   0.4s\n",
      "[CV] END ..............alpha=0.7, fit_prior=False, norm=True; total time=   0.4s\n",
      "[CV] END ..............alpha=0.7, fit_prior=False, norm=True; total time=   0.4s\n",
      "[CV] END ..............alpha=0.7, fit_prior=False, norm=True; total time=   0.4s\n",
      "[CV] END ..............alpha=0.7, fit_prior=False, norm=True; total time=   0.4s\n",
      "[CV] END .............alpha=0.7, fit_prior=False, norm=False; total time=   0.4s\n",
      "[CV] END .............alpha=0.7, fit_prior=False, norm=False; total time=   0.3s\n",
      "[CV] END .............alpha=0.7, fit_prior=False, norm=False; total time=   0.4s\n",
      "[CV] END .............alpha=0.7, fit_prior=False, norm=False; total time=   0.4s\n",
      "[CV] END .............alpha=0.7, fit_prior=False, norm=False; total time=   0.4s\n",
      "[CV] END ...............alpha=1.0, fit_prior=True, norm=True; total time=   0.4s\n",
      "[CV] END ...............alpha=1.0, fit_prior=True, norm=True; total time=   0.3s\n",
      "[CV] END ...............alpha=1.0, fit_prior=True, norm=True; total time=   0.4s\n",
      "[CV] END ...............alpha=1.0, fit_prior=True, norm=True; total time=   0.4s\n",
      "[CV] END ..............alpha=1.0, fit_prior=True, norm=False; total time=   0.3s\n",
      "[CV] END ...............alpha=1.0, fit_prior=True, norm=True; total time=   0.4s\n",
      "[CV] END ..............alpha=1.0, fit_prior=True, norm=False; total time=   0.4s\n",
      "[CV] END ..............alpha=1.0, fit_prior=True, norm=False; total time=   0.3s\n",
      "[CV] END ..............alpha=1.0, fit_prior=True, norm=False; total time=   0.3s\n",
      "[CV] END ..............alpha=1.0, fit_prior=True, norm=False; total time=   0.4s\n",
      "[CV] END ..............alpha=1.0, fit_prior=False, norm=True; total time=   0.3s\n",
      "[CV] END ..............alpha=1.0, fit_prior=False, norm=True; total time=   0.4s\n",
      "[CV] END ..............alpha=1.0, fit_prior=False, norm=True; total time=   0.4s\n",
      "[CV] END ..............alpha=1.0, fit_prior=False, norm=True; total time=   0.4s\n",
      "[CV] END ..............alpha=1.0, fit_prior=False, norm=True; total time=   0.4s\n",
      "[CV] END .............alpha=1.0, fit_prior=False, norm=False; total time=   0.4s\n",
      "[CV] END .............alpha=1.0, fit_prior=False, norm=False; total time=   0.4s\n",
      "[CV] END .............alpha=1.0, fit_prior=False, norm=False; total time=   0.4s\n",
      "[CV] END .............alpha=1.0, fit_prior=False, norm=False; total time=   0.4s\n",
      "[CV] END .............alpha=1.0, fit_prior=False, norm=False; total time=   0.4s\n",
      "[CV] END .................alpha=2, fit_prior=True, norm=True; total time=   0.3s\n",
      "[CV] END .................alpha=2, fit_prior=True, norm=True; total time=   0.4s\n",
      "[CV] END .................alpha=2, fit_prior=True, norm=True; total time=   0.4s\n",
      "[CV] END .................alpha=2, fit_prior=True, norm=True; total time=   0.3s\n",
      "[CV] END .................alpha=2, fit_prior=True, norm=True; total time=   0.3s\n",
      "[CV] END ................alpha=2, fit_prior=True, norm=False; total time=   0.3s\n",
      "[CV] END ................alpha=2, fit_prior=True, norm=False; total time=   0.3s\n",
      "[CV] END ................alpha=2, fit_prior=True, norm=False; total time=   0.3s\n",
      "[CV] END ................alpha=2, fit_prior=True, norm=False; total time=   0.4s\n",
      "[CV] END ................alpha=2, fit_prior=False, norm=True; total time=   0.3s\n",
      "[CV] END ................alpha=2, fit_prior=True, norm=False; total time=   0.3s\n",
      "[CV] END ................alpha=2, fit_prior=False, norm=True; total time=   0.3s\n",
      "[CV] END ................alpha=2, fit_prior=False, norm=True; total time=   0.4s\n",
      "[CV] END ................alpha=2, fit_prior=False, norm=True; total time=   0.4s\n",
      "[CV] END ................alpha=2, fit_prior=False, norm=True; total time=   0.3s\n",
      "[CV] END ...............alpha=2, fit_prior=False, norm=False; total time=   0.3s\n",
      "[CV] END ...............alpha=2, fit_prior=False, norm=False; total time=   0.4s\n",
      "[CV] END ...............alpha=2, fit_prior=False, norm=False; total time=   0.3s\n",
      "[CV] END ...............alpha=2, fit_prior=False, norm=False; total time=   0.3s\n",
      "[CV] END ...............alpha=2, fit_prior=False, norm=False; total time=   0.3s\n",
      "Meilleurs paramètres :  {'alpha': 0.2, 'fit_prior': True, 'norm': True}\n",
      "Rapport de Classification Complement Naive Bayes :\n",
      "\n"
     ]
    },
    {
     "name": "stderr",
     "output_type": "stream",
     "text": [
      "/Users/manongourves/envs/app_auto/lib/python3.11/site-packages/sklearn/metrics/_classification.py:1531: UndefinedMetricWarning: Precision is ill-defined and being set to 0.0 in labels with no predicted samples. Use `zero_division` parameter to control this behavior.\n",
      "  _warn_prf(average, modifier, f\"{metric.capitalize()} is\", len(result))\n"
     ]
    },
    {
     "name": "stdout",
     "output_type": "stream",
     "text": [
      "              precision    recall  f1-score   support\n",
      "\n",
      "        ELDR       0.36      0.05      0.09      4017\n",
      "     GUE-NGL       0.36      0.22      0.28      5379\n",
      "      PPE-DE       0.40      0.71      0.51     13713\n",
      "         PSE       0.37      0.32      0.34     10881\n",
      "     Unknown       0.00      0.00      0.00         6\n",
      "   Verts-ALE       0.36      0.07      0.12      4755\n",
      "\n",
      "    accuracy                           0.39     38751\n",
      "   macro avg       0.31      0.23      0.22     38751\n",
      "weighted avg       0.38      0.39      0.34     38751\n",
      "\n"
     ]
    },
    {
     "name": "stderr",
     "output_type": "stream",
     "text": [
      "/Users/manongourves/envs/app_auto/lib/python3.11/site-packages/sklearn/metrics/_classification.py:1531: UndefinedMetricWarning: Precision is ill-defined and being set to 0.0 in labels with no predicted samples. Use `zero_division` parameter to control this behavior.\n",
      "  _warn_prf(average, modifier, f\"{metric.capitalize()} is\", len(result))\n",
      "/Users/manongourves/envs/app_auto/lib/python3.11/site-packages/sklearn/metrics/_classification.py:1531: UndefinedMetricWarning: Precision is ill-defined and being set to 0.0 in labels with no predicted samples. Use `zero_division` parameter to control this behavior.\n",
      "  _warn_prf(average, modifier, f\"{metric.capitalize()} is\", len(result))\n"
     ]
    }
   ],
   "source": [
    "param_gridComplNB = {\n",
    "    \"alpha\": [0.05, 0.2, 0.7, 1.0, 2],\n",
    "    \"fit_prior\": [True, False],\n",
    "    \"norm\": [True, False]\n",
    "}\n",
    "\n",
    "#Initialisation\n",
    "ComplNB = ComplementNB()\n",
    "ComplNB_grid = GridSearchCV(ComplNB, param_gridComplNB, cv=5, verbose=2, n_jobs=-1)\n",
    "\n",
    "#Entraînement du modèle\n",
    "ComplNB_grid.fit(X_train, y_train)\n",
    "\n",
    "#Afficher les meilleurs paramètres\n",
    "print(\"Meilleurs paramètres : \", ComplNB_grid.best_params_)\n",
    "\n",
    "#Prédiction avec les meilleurs paramètres obtenus\n",
    "best_ComplNB = ComplNB_grid.best_estimator_\n",
    "y_pred_best_ComplNB = best_ComplNB.predict(X_test)\n",
    "\n",
    "#Résultats\n",
    "print(\"Rapport de Classification Complement Naive Bayes :\\n\")\n",
    "print(classification_report(y_test, y_pred_best_ComplNB))"
   ]
  },
  {
   "cell_type": "markdown",
   "metadata": {},
   "source": [
    "## SVM"
   ]
  },
  {
   "cell_type": "code",
   "execution_count": 46,
   "metadata": {},
   "outputs": [
    {
     "name": "stdout",
     "output_type": "stream",
     "text": [
      "Fitting 5 folds for each of 24 candidates, totalling 120 fits\n",
      "[CV] END C=0.2, class_weight=balanced, dual=True, max_iter=700; total time=   6.4s\n",
      "[CV] END C=0.2, class_weight=balanced, dual=True, max_iter=700; total time=   6.4s\n",
      "[CV] END C=0.2, class_weight=balanced, dual=True, max_iter=700; total time=   6.5s\n",
      "[CV] END C=0.2, class_weight=balanced, dual=True, max_iter=700; total time=   6.6s\n",
      "[CV] END C=0.2, class_weight=balanced, dual=True, max_iter=700; total time=   5.8s\n",
      "[CV] END C=0.2, class_weight=balanced, dual=True, max_iter=1000; total time=   5.7s\n",
      "[CV] END C=0.2, class_weight=balanced, dual=True, max_iter=1000; total time=   5.9s\n",
      "[CV] END C=0.2, class_weight=balanced, dual=True, max_iter=1000; total time=   5.8s\n",
      "[CV] END C=0.2, class_weight=balanced, dual=True, max_iter=1000; total time=   5.6s\n",
      "[CV] END C=0.2, class_weight=balanced, dual=True, max_iter=1000; total time=   5.7s\n",
      "[CV] END C=0.2, class_weight=balanced, dual=False, max_iter=700; total time=  17.3s\n",
      "[CV] END C=0.2, class_weight=balanced, dual=False, max_iter=700; total time=  18.0s\n",
      "[CV] END C=0.2, class_weight=balanced, dual=False, max_iter=700; total time=  16.4s\n",
      "[CV] END C=0.2, class_weight=balanced, dual=False, max_iter=700; total time=  18.2s\n",
      "[CV] END C=0.2, class_weight=balanced, dual=False, max_iter=700; total time=  17.3s\n",
      "[CV] END C=0.2, class_weight=balanced, dual=False, max_iter=1000; total time=  17.3s\n",
      "[CV] END C=0.2, class_weight=balanced, dual=False, max_iter=1000; total time=  17.0s\n",
      "[CV] END C=0.2, class_weight=balanced, dual=False, max_iter=1000; total time=  18.7s\n",
      "[CV] END ..C=0.2, class_weight=None, dual=True, max_iter=700; total time=   5.3s\n",
      "[CV] END ..C=0.2, class_weight=None, dual=True, max_iter=700; total time=   5.2s\n",
      "[CV] END ..C=0.2, class_weight=None, dual=True, max_iter=700; total time=   5.3s\n",
      "[CV] END C=0.2, class_weight=balanced, dual=False, max_iter=1000; total time=  17.4s\n",
      "[CV] END ..C=0.2, class_weight=None, dual=True, max_iter=700; total time=   5.9s\n",
      "[CV] END C=0.2, class_weight=balanced, dual=False, max_iter=1000; total time=  18.5s\n",
      "[CV] END ..C=0.2, class_weight=None, dual=True, max_iter=700; total time=   6.0s\n",
      "[CV] END .C=0.2, class_weight=None, dual=True, max_iter=1000; total time=   5.7s\n",
      "[CV] END .C=0.2, class_weight=None, dual=True, max_iter=1000; total time=   5.6s\n",
      "[CV] END .C=0.2, class_weight=None, dual=True, max_iter=1000; total time=   5.7s\n",
      "[CV] END .C=0.2, class_weight=None, dual=True, max_iter=1000; total time=   5.6s\n",
      "[CV] END .C=0.2, class_weight=None, dual=True, max_iter=1000; total time=   5.6s\n",
      "[CV] END .C=0.2, class_weight=None, dual=False, max_iter=700; total time=  18.5s\n",
      "[CV] END .C=0.2, class_weight=None, dual=False, max_iter=700; total time=  18.4s\n",
      "[CV] END .C=0.2, class_weight=None, dual=False, max_iter=700; total time=  18.3s\n",
      "[CV] END .C=0.2, class_weight=None, dual=False, max_iter=700; total time=  18.7s\n",
      "[CV] END .C=0.2, class_weight=None, dual=False, max_iter=700; total time=  17.7s\n",
      "[CV] END C=0.2, class_weight=None, dual=False, max_iter=1000; total time=  17.8s\n",
      "[CV] END C=0.2, class_weight=None, dual=False, max_iter=1000; total time=  17.7s\n",
      "[CV] END C=0.2, class_weight=None, dual=False, max_iter=1000; total time=  17.9s\n",
      "[CV] END C=1, class_weight=balanced, dual=True, max_iter=700; total time=  14.6s\n",
      "[CV] END C=0.2, class_weight=None, dual=False, max_iter=1000; total time=  18.2s\n",
      "[CV] END C=0.2, class_weight=None, dual=False, max_iter=1000; total time=  17.9s\n",
      "[CV] END C=1, class_weight=balanced, dual=True, max_iter=700; total time=  14.9s\n",
      "[CV] END C=1, class_weight=balanced, dual=True, max_iter=700; total time=  16.2s\n",
      "[CV] END C=1, class_weight=balanced, dual=True, max_iter=700; total time=  16.2s\n",
      "[CV] END C=1, class_weight=balanced, dual=True, max_iter=700; total time=  16.0s\n",
      "[CV] END C=1, class_weight=balanced, dual=True, max_iter=1000; total time=  15.9s\n",
      "[CV] END C=1, class_weight=balanced, dual=True, max_iter=1000; total time=  15.1s\n",
      "[CV] END C=1, class_weight=balanced, dual=True, max_iter=1000; total time=  15.4s\n",
      "[CV] END C=1, class_weight=balanced, dual=True, max_iter=1000; total time=  15.5s\n",
      "[CV] END C=1, class_weight=balanced, dual=True, max_iter=1000; total time=  15.5s\n",
      "[CV] END C=1, class_weight=balanced, dual=False, max_iter=700; total time=  33.7s\n",
      "[CV] END C=1, class_weight=balanced, dual=False, max_iter=700; total time=  30.9s\n",
      "[CV] END C=1, class_weight=balanced, dual=False, max_iter=700; total time=  32.3s\n",
      "[CV] END C=1, class_weight=balanced, dual=False, max_iter=700; total time=  35.9s\n",
      "[CV] END C=1, class_weight=balanced, dual=False, max_iter=1000; total time=  31.1s\n",
      "[CV] END C=1, class_weight=balanced, dual=False, max_iter=1000; total time=  32.0s\n",
      "[CV] END C=1, class_weight=balanced, dual=False, max_iter=700; total time=  32.5s\n",
      "[CV] END C=1, class_weight=balanced, dual=False, max_iter=1000; total time=  34.9s\n",
      "[CV] END ....C=1, class_weight=None, dual=True, max_iter=700; total time=  13.7s\n",
      "[CV] END ....C=1, class_weight=None, dual=True, max_iter=700; total time=  13.8s\n",
      "[CV] END ....C=1, class_weight=None, dual=True, max_iter=700; total time=  13.0s\n",
      "[CV] END C=1, class_weight=balanced, dual=False, max_iter=1000; total time=  30.4s\n",
      "[CV] END C=1, class_weight=balanced, dual=False, max_iter=1000; total time=  33.2s\n",
      "[CV] END ....C=1, class_weight=None, dual=True, max_iter=700; total time=  12.8s\n",
      "[CV] END ....C=1, class_weight=None, dual=True, max_iter=700; total time=  12.9s\n",
      "[CV] END ...C=1, class_weight=None, dual=True, max_iter=1000; total time=  12.9s\n",
      "[CV] END ...C=1, class_weight=None, dual=True, max_iter=1000; total time=  13.0s\n",
      "[CV] END ...C=1, class_weight=None, dual=True, max_iter=1000; total time=  13.1s\n",
      "[CV] END ...C=1, class_weight=None, dual=True, max_iter=1000; total time=  13.2s\n",
      "[CV] END ...C=1, class_weight=None, dual=True, max_iter=1000; total time=  13.3s\n",
      "[CV] END ...C=1, class_weight=None, dual=False, max_iter=700; total time=  32.0s\n",
      "[CV] END ...C=1, class_weight=None, dual=False, max_iter=700; total time=  32.4s\n",
      "[CV] END ...C=1, class_weight=None, dual=False, max_iter=700; total time=  31.1s\n",
      "[CV] END ...C=1, class_weight=None, dual=False, max_iter=700; total time=  31.3s\n",
      "[CV] END ...C=1, class_weight=None, dual=False, max_iter=700; total time=  29.7s\n",
      "[CV] END ..C=1, class_weight=None, dual=False, max_iter=1000; total time=  30.5s\n",
      "[CV] END ..C=1, class_weight=None, dual=False, max_iter=1000; total time=  29.3s\n",
      "[CV] END ..C=1, class_weight=None, dual=False, max_iter=1000; total time=  29.1s\n",
      "[CV] END ..C=1, class_weight=None, dual=False, max_iter=1000; total time=  30.6s\n",
      "[CV] END ..C=1, class_weight=None, dual=False, max_iter=1000; total time=  30.5s\n"
     ]
    },
    {
     "name": "stderr",
     "output_type": "stream",
     "text": [
      "/Users/manongourves/envs/app_auto/lib/python3.11/site-packages/sklearn/svm/_base.py:1235: ConvergenceWarning: Liblinear failed to converge, increase the number of iterations.\n",
      "  warnings.warn(\n"
     ]
    },
    {
     "name": "stdout",
     "output_type": "stream",
     "text": [
      "[CV] END C=10, class_weight=balanced, dual=True, max_iter=700; total time= 1.5min\n"
     ]
    },
    {
     "name": "stderr",
     "output_type": "stream",
     "text": [
      "/Users/manongourves/envs/app_auto/lib/python3.11/site-packages/sklearn/svm/_base.py:1235: ConvergenceWarning: Liblinear failed to converge, increase the number of iterations.\n",
      "  warnings.warn(\n"
     ]
    },
    {
     "name": "stdout",
     "output_type": "stream",
     "text": [
      "[CV] END C=10, class_weight=balanced, dual=True, max_iter=700; total time= 1.6min\n"
     ]
    },
    {
     "name": "stderr",
     "output_type": "stream",
     "text": [
      "/Users/manongourves/envs/app_auto/lib/python3.11/site-packages/sklearn/svm/_base.py:1235: ConvergenceWarning: Liblinear failed to converge, increase the number of iterations.\n",
      "  warnings.warn(\n"
     ]
    },
    {
     "name": "stdout",
     "output_type": "stream",
     "text": [
      "[CV] END C=10, class_weight=balanced, dual=True, max_iter=700; total time= 1.5min\n"
     ]
    },
    {
     "name": "stderr",
     "output_type": "stream",
     "text": [
      "/Users/manongourves/envs/app_auto/lib/python3.11/site-packages/sklearn/svm/_base.py:1235: ConvergenceWarning: Liblinear failed to converge, increase the number of iterations.\n",
      "  warnings.warn(\n"
     ]
    },
    {
     "name": "stdout",
     "output_type": "stream",
     "text": [
      "[CV] END C=10, class_weight=balanced, dual=True, max_iter=700; total time= 1.6min\n"
     ]
    },
    {
     "name": "stderr",
     "output_type": "stream",
     "text": [
      "/Users/manongourves/envs/app_auto/lib/python3.11/site-packages/sklearn/svm/_base.py:1235: ConvergenceWarning: Liblinear failed to converge, increase the number of iterations.\n",
      "  warnings.warn(\n"
     ]
    },
    {
     "name": "stdout",
     "output_type": "stream",
     "text": [
      "[CV] END C=10, class_weight=balanced, dual=True, max_iter=700; total time= 1.5min\n",
      "[CV] END C=10, class_weight=balanced, dual=True, max_iter=1000; total time= 1.5min\n",
      "[CV] END C=10, class_weight=balanced, dual=True, max_iter=1000; total time= 1.5min\n",
      "[CV] END C=10, class_weight=balanced, dual=True, max_iter=1000; total time= 1.7min\n",
      "[CV] END C=10, class_weight=balanced, dual=True, max_iter=1000; total time= 1.5min\n",
      "[CV] END C=10, class_weight=balanced, dual=False, max_iter=700; total time= 1.2min\n",
      "[CV] END C=10, class_weight=balanced, dual=True, max_iter=1000; total time= 1.6min\n",
      "[CV] END C=10, class_weight=balanced, dual=False, max_iter=700; total time= 1.1min\n",
      "[CV] END C=10, class_weight=balanced, dual=False, max_iter=700; total time= 1.0min\n",
      "[CV] END C=10, class_weight=balanced, dual=False, max_iter=700; total time= 1.2min\n",
      "[CV] END C=10, class_weight=balanced, dual=False, max_iter=1000; total time= 1.1min\n",
      "[CV] END C=10, class_weight=balanced, dual=False, max_iter=700; total time= 1.3min\n",
      "[CV] END C=10, class_weight=balanced, dual=False, max_iter=1000; total time= 1.1min\n",
      "[CV] END C=10, class_weight=balanced, dual=False, max_iter=1000; total time= 1.0min\n",
      "[CV] END C=10, class_weight=balanced, dual=False, max_iter=1000; total time= 1.2min\n",
      "[CV] END C=10, class_weight=balanced, dual=False, max_iter=1000; total time= 1.3min\n",
      "[CV] END ...C=10, class_weight=None, dual=True, max_iter=700; total time= 1.3min\n",
      "[CV] END ...C=10, class_weight=None, dual=True, max_iter=700; total time= 1.3min\n",
      "[CV] END ...C=10, class_weight=None, dual=True, max_iter=700; total time= 1.4min\n",
      "[CV] END ...C=10, class_weight=None, dual=True, max_iter=700; total time= 1.4min\n",
      "[CV] END ...C=10, class_weight=None, dual=True, max_iter=700; total time= 1.3min\n",
      "[CV] END ..C=10, class_weight=None, dual=True, max_iter=1000; total time= 1.3min\n",
      "[CV] END ..C=10, class_weight=None, dual=True, max_iter=1000; total time= 1.3min\n",
      "[CV] END ..C=10, class_weight=None, dual=True, max_iter=1000; total time= 1.3min\n",
      "[CV] END ..C=10, class_weight=None, dual=True, max_iter=1000; total time= 1.3min\n",
      "[CV] END ..C=10, class_weight=None, dual=False, max_iter=700; total time= 1.3min\n",
      "[CV] END ..C=10, class_weight=None, dual=True, max_iter=1000; total time= 1.4min\n",
      "[CV] END ..C=10, class_weight=None, dual=False, max_iter=700; total time= 1.3min\n",
      "[CV] END ..C=10, class_weight=None, dual=False, max_iter=700; total time= 1.2min\n",
      "[CV] END ..C=10, class_weight=None, dual=False, max_iter=700; total time= 1.1min\n",
      "[CV] END ..C=10, class_weight=None, dual=False, max_iter=700; total time= 1.2min\n",
      "[CV] END .C=10, class_weight=None, dual=False, max_iter=1000; total time= 1.3min\n",
      "[CV] END .C=10, class_weight=None, dual=False, max_iter=1000; total time= 1.3min\n",
      "[CV] END .C=10, class_weight=None, dual=False, max_iter=1000; total time= 1.2min\n",
      "[CV] END .C=10, class_weight=None, dual=False, max_iter=1000; total time= 1.1min\n",
      "[CV] END .C=10, class_weight=None, dual=False, max_iter=1000; total time= 1.0min\n",
      "Meilleurs paramètres :  {'C': 0.2, 'class_weight': None, 'dual': False, 'max_iter': 700}\n",
      "Rapport de Classification SVM :\n",
      "\n"
     ]
    },
    {
     "name": "stderr",
     "output_type": "stream",
     "text": [
      "/Users/manongourves/envs/app_auto/lib/python3.11/site-packages/sklearn/metrics/_classification.py:1531: UndefinedMetricWarning: Precision is ill-defined and being set to 0.0 in labels with no predicted samples. Use `zero_division` parameter to control this behavior.\n",
      "  _warn_prf(average, modifier, f\"{metric.capitalize()} is\", len(result))\n"
     ]
    },
    {
     "name": "stdout",
     "output_type": "stream",
     "text": [
      "              precision    recall  f1-score   support\n",
      "\n",
      "        ELDR       0.28      0.09      0.14      4017\n",
      "     GUE-NGL       0.31      0.31      0.31      5379\n",
      "      PPE-DE       0.42      0.60      0.49     13713\n",
      "         PSE       0.36      0.35      0.36     10881\n",
      "     Unknown       0.00      0.00      0.00         6\n",
      "   Verts-ALE       0.30      0.13      0.18      4755\n",
      "\n",
      "    accuracy                           0.38     38751\n",
      "   macro avg       0.28      0.25      0.25     38751\n",
      "weighted avg       0.36      0.38      0.35     38751\n",
      "\n"
     ]
    },
    {
     "name": "stderr",
     "output_type": "stream",
     "text": [
      "/Users/manongourves/envs/app_auto/lib/python3.11/site-packages/sklearn/metrics/_classification.py:1531: UndefinedMetricWarning: Precision is ill-defined and being set to 0.0 in labels with no predicted samples. Use `zero_division` parameter to control this behavior.\n",
      "  _warn_prf(average, modifier, f\"{metric.capitalize()} is\", len(result))\n",
      "/Users/manongourves/envs/app_auto/lib/python3.11/site-packages/sklearn/metrics/_classification.py:1531: UndefinedMetricWarning: Precision is ill-defined and being set to 0.0 in labels with no predicted samples. Use `zero_division` parameter to control this behavior.\n",
      "  _warn_prf(average, modifier, f\"{metric.capitalize()} is\", len(result))\n"
     ]
    }
   ],
   "source": [
    "param_gridSVM = { \n",
    "    \"C\" : [0.2, 1, 10],\n",
    "    \"dual\": [True, False],\n",
    "    \"class_weight\" : [\"balanced\", None],\n",
    "    \"max_iter\" : [700, 1000]\n",
    "}\n",
    "\n",
    "#Initialisation\n",
    "svm = LinearSVC()\n",
    "svm_grid = GridSearchCV(svm, param_gridSVM, cv=5, verbose=2, n_jobs=-1)\n",
    "\n",
    "#Entraînement du modèle\n",
    "svm_grid.fit(X_train, y_train)\n",
    "\n",
    "#Afficher les meilleurs paramètres\n",
    "print(\"Meilleurs paramètres : \", svm_grid.best_params_)\n",
    "\n",
    "#Prédiction avec les meilleurs paramètres obtenus\n",
    "best_svm = svm_grid.best_estimator_\n",
    "y_pred_best_svm = best_svm.predict(X_test)\n",
    "\n",
    "#Résultats\n",
    "print(\"Rapport de Classification SVM :\\n\")\n",
    "print(classification_report(y_test, y_pred_best_svm))"
   ]
  },
  {
   "cell_type": "markdown",
   "metadata": {},
   "source": [
    "## Logistic Regression "
   ]
  },
  {
   "cell_type": "code",
   "execution_count": 47,
   "metadata": {},
   "outputs": [
    {
     "name": "stdout",
     "output_type": "stream",
     "text": [
      "Fitting 5 folds for each of 12 candidates, totalling 60 fits\n",
      "Meilleurs paramètres :  {'C': 0.2, 'class_weight': None, 'max_iter': 1000}\n",
      "Rapport de Classification SVM :\n",
      "\n"
     ]
    },
    {
     "name": "stderr",
     "output_type": "stream",
     "text": [
      "/Users/manongourves/envs/app_auto/lib/python3.11/site-packages/sklearn/metrics/_classification.py:1531: UndefinedMetricWarning: Precision is ill-defined and being set to 0.0 in labels with no predicted samples. Use `zero_division` parameter to control this behavior.\n",
      "  _warn_prf(average, modifier, f\"{metric.capitalize()} is\", len(result))\n"
     ]
    },
    {
     "name": "stdout",
     "output_type": "stream",
     "text": [
      "              precision    recall  f1-score   support\n",
      "\n",
      "        ELDR       0.28      0.09      0.14      4017\n",
      "     GUE-NGL       0.31      0.31      0.31      5379\n",
      "      PPE-DE       0.42      0.60      0.49     13713\n",
      "         PSE       0.36      0.35      0.35     10881\n",
      "     Unknown       0.00      0.00      0.00         6\n",
      "   Verts-ALE       0.30      0.13      0.18      4755\n",
      "\n",
      "    accuracy                           0.38     38751\n",
      "   macro avg       0.28      0.25      0.25     38751\n",
      "weighted avg       0.36      0.38      0.35     38751\n",
      "\n"
     ]
    },
    {
     "name": "stderr",
     "output_type": "stream",
     "text": [
      "/Users/manongourves/envs/app_auto/lib/python3.11/site-packages/sklearn/metrics/_classification.py:1531: UndefinedMetricWarning: Precision is ill-defined and being set to 0.0 in labels with no predicted samples. Use `zero_division` parameter to control this behavior.\n",
      "  _warn_prf(average, modifier, f\"{metric.capitalize()} is\", len(result))\n",
      "/Users/manongourves/envs/app_auto/lib/python3.11/site-packages/sklearn/metrics/_classification.py:1531: UndefinedMetricWarning: Precision is ill-defined and being set to 0.0 in labels with no predicted samples. Use `zero_division` parameter to control this behavior.\n",
      "  _warn_prf(average, modifier, f\"{metric.capitalize()} is\", len(result))\n"
     ]
    }
   ],
   "source": [
    "param_gridLR = { \n",
    "    \"C\" : [0.2, 1, 10],\n",
    "    \"class_weight\" : [\"balanced\", None],\n",
    "    \"max_iter\" : [1000, 2000]\n",
    "}\n",
    "\n",
    "#Initialisation\n",
    "LR = LogisticRegression()\n",
    "LR_grid = GridSearchCV(LR, param_gridLR, cv=5, verbose=2, n_jobs=-1)\n",
    "\n",
    "#Entraînement du modèle\n",
    "LR_grid.fit(X_train, y_train)\n",
    "\n",
    "#Afficher les meilleurs paramètres\n",
    "print(\"Meilleurs paramètres : \", LR_grid.best_params_)\n",
    "\n",
    "#Prédiction avec les meilleurs paramètres obtenus\n",
    "best_LR = LR_grid.best_estimator_\n",
    "y_pred_best_LR = best_LR.predict(X_test)\n",
    "\n",
    "#Résultats\n",
    "print(\"Rapport de Classification Logistic Regression :\\n\")\n",
    "print(classification_report(y_test, y_pred_best_LR))"
   ]
  },
  {
   "cell_type": "markdown",
   "metadata": {},
   "source": [
    "## Random Forest"
   ]
  },
  {
   "cell_type": "code",
   "execution_count": 51,
   "metadata": {},
   "outputs": [
    {
     "name": "stdout",
     "output_type": "stream",
     "text": [
      "Fitting 5 folds for each of 18 candidates, totalling 90 fits\n",
      "[CV] END max_depth=100, min_samples_split=2, n_estimators=50; total time= 2.6min\n",
      "[CV] END max_depth=100, min_samples_split=2, n_estimators=50; total time= 2.6min\n",
      "[CV] END max_depth=100, min_samples_split=2, n_estimators=50; total time= 2.6min\n",
      "[CV] END max_depth=100, min_samples_split=2, n_estimators=50; total time= 2.6min\n",
      "[CV] END max_depth=100, min_samples_split=2, n_estimators=50; total time= 2.6min\n",
      "[CV] END max_depth=100, min_samples_split=2, n_estimators=100; total time= 5.8min\n",
      "[CV] END max_depth=100, min_samples_split=2, n_estimators=100; total time= 5.9min\n",
      "[CV] END max_depth=100, min_samples_split=2, n_estimators=100; total time= 5.9min\n",
      "[CV] END max_depth=100, min_samples_split=2, n_estimators=100; total time= 7.0min\n",
      "[CV] END max_depth=100, min_samples_split=2, n_estimators=100; total time= 7.1min\n",
      "[CV] END max_depth=100, min_samples_split=2, n_estimators=150; total time=10.3min\n",
      "[CV] END max_depth=100, min_samples_split=2, n_estimators=150; total time=10.5min\n",
      "[CV] END max_depth=100, min_samples_split=5, n_estimators=50; total time= 2.3min\n",
      "[CV] END max_depth=100, min_samples_split=2, n_estimators=150; total time= 9.6min\n",
      "[CV] END max_depth=100, min_samples_split=5, n_estimators=50; total time= 2.3min\n",
      "[CV] END max_depth=100, min_samples_split=5, n_estimators=50; total time= 2.2min\n",
      "[CV] END max_depth=100, min_samples_split=2, n_estimators=150; total time= 9.5min\n",
      "[CV] END max_depth=100, min_samples_split=5, n_estimators=50; total time= 2.3min\n",
      "[CV] END max_depth=100, min_samples_split=5, n_estimators=50; total time= 2.3min\n",
      "[CV] END max_depth=100, min_samples_split=2, n_estimators=150; total time= 9.5min\n",
      "[CV] END max_depth=100, min_samples_split=5, n_estimators=100; total time= 4.7min\n",
      "[CV] END max_depth=100, min_samples_split=5, n_estimators=100; total time= 4.7min\n",
      "[CV] END max_depth=100, min_samples_split=5, n_estimators=100; total time= 4.6min\n",
      "[CV] END max_depth=100, min_samples_split=5, n_estimators=100; total time= 4.7min\n",
      "[CV] END max_depth=100, min_samples_split=5, n_estimators=100; total time= 4.6min\n",
      "[CV] END max_depth=100, min_samples_split=5, n_estimators=150; total time= 6.8min\n",
      "[CV] END max_depth=100, min_samples_split=5, n_estimators=150; total time= 6.9min\n",
      "[CV] END max_depth=100, min_samples_split=5, n_estimators=150; total time= 6.8min\n",
      "[CV] END max_depth=100, min_samples_split=5, n_estimators=150; total time= 6.8min\n",
      "[CV] END max_depth=100, min_samples_split=5, n_estimators=150; total time= 6.5min\n",
      "[CV] END max_depth=250, min_samples_split=2, n_estimators=50; total time=19.3min\n",
      "[CV] END max_depth=250, min_samples_split=2, n_estimators=50; total time=19.6min\n",
      "[CV] END max_depth=250, min_samples_split=2, n_estimators=50; total time=19.6min\n",
      "[CV] END max_depth=250, min_samples_split=2, n_estimators=50; total time=20.5min\n",
      "[CV] END max_depth=250, min_samples_split=2, n_estimators=50; total time= 8.4min\n",
      "[CV] END max_depth=250, min_samples_split=2, n_estimators=100; total time=17.4min\n",
      "[CV] END max_depth=250, min_samples_split=2, n_estimators=100; total time=17.6min\n",
      "[CV] END max_depth=250, min_samples_split=2, n_estimators=100; total time=18.5min\n",
      "[CV] END max_depth=250, min_samples_split=2, n_estimators=100; total time=18.6min\n",
      "[CV] END max_depth=250, min_samples_split=2, n_estimators=100; total time=21.1min\n",
      "[CV] END max_depth=250, min_samples_split=2, n_estimators=150; total time=28.9min\n",
      "[CV] END max_depth=250, min_samples_split=2, n_estimators=150; total time=27.5min\n",
      "[CV] END max_depth=250, min_samples_split=2, n_estimators=150; total time=27.4min\n",
      "[CV] END max_depth=250, min_samples_split=5, n_estimators=50; total time= 5.1min\n",
      "[CV] END max_depth=250, min_samples_split=5, n_estimators=50; total time= 5.3min\n",
      "[CV] END max_depth=250, min_samples_split=5, n_estimators=50; total time=31.3min\n",
      "[CV] END max_depth=250, min_samples_split=2, n_estimators=150; total time=49.7min\n",
      "[CV] END max_depth=250, min_samples_split=5, n_estimators=50; total time=31.2min\n",
      "[CV] END max_depth=250, min_samples_split=5, n_estimators=50; total time=19.1min\n",
      "[CV] END max_depth=250, min_samples_split=2, n_estimators=150; total time=86.1min\n",
      "[CV] END max_depth=250, min_samples_split=5, n_estimators=100; total time=47.1min\n",
      "[CV] END max_depth=250, min_samples_split=5, n_estimators=100; total time=47.3min\n",
      "[CV] END max_depth=250, min_samples_split=5, n_estimators=100; total time=47.6min\n",
      "[CV] END max_depth=250, min_samples_split=5, n_estimators=100; total time=24.4min\n",
      "[CV] END max_depth=250, min_samples_split=5, n_estimators=100; total time=24.3min\n",
      "[CV] END max_depth=250, min_samples_split=5, n_estimators=150; total time=28.8min\n",
      "[CV] END max_depth=250, min_samples_split=5, n_estimators=150; total time=14.4min\n",
      "[CV] END max_depth=250, min_samples_split=5, n_estimators=150; total time=14.3min\n",
      "[CV] END max_depth=250, min_samples_split=5, n_estimators=150; total time=14.3min\n",
      "[CV] END max_depth=300, min_samples_split=2, n_estimators=50; total time= 7.9min\n",
      "[CV] END max_depth=250, min_samples_split=5, n_estimators=150; total time=14.3min\n",
      "[CV] END max_depth=300, min_samples_split=2, n_estimators=50; total time= 8.0min\n",
      "[CV] END max_depth=300, min_samples_split=2, n_estimators=50; total time= 7.9min\n",
      "[CV] END max_depth=300, min_samples_split=2, n_estimators=50; total time= 8.1min\n",
      "[CV] END max_depth=300, min_samples_split=2, n_estimators=50; total time= 8.6min\n",
      "[CV] END max_depth=300, min_samples_split=2, n_estimators=100; total time=16.9min\n",
      "[CV] END max_depth=300, min_samples_split=2, n_estimators=100; total time=16.9min\n",
      "[CV] END max_depth=300, min_samples_split=2, n_estimators=100; total time=16.8min\n",
      "[CV] END max_depth=300, min_samples_split=2, n_estimators=100; total time=16.4min\n",
      "[CV] END max_depth=300, min_samples_split=2, n_estimators=100; total time=16.4min\n",
      "[CV] END max_depth=300, min_samples_split=2, n_estimators=150; total time=24.1min\n",
      "[CV] END max_depth=300, min_samples_split=2, n_estimators=150; total time=24.2min\n",
      "[CV] END max_depth=300, min_samples_split=2, n_estimators=150; total time=24.3min\n",
      "[CV] END max_depth=300, min_samples_split=5, n_estimators=50; total time= 5.1min\n",
      "[CV] END max_depth=300, min_samples_split=5, n_estimators=50; total time= 5.1min\n",
      "[CV] END max_depth=300, min_samples_split=5, n_estimators=50; total time= 5.0min\n",
      "[CV] END max_depth=300, min_samples_split=2, n_estimators=150; total time=23.1min\n",
      "[CV] END max_depth=300, min_samples_split=5, n_estimators=50; total time= 4.8min\n",
      "[CV] END max_depth=300, min_samples_split=5, n_estimators=50; total time= 4.6min\n",
      "[CV] END max_depth=300, min_samples_split=2, n_estimators=150; total time=21.8min\n",
      "[CV] END max_depth=300, min_samples_split=5, n_estimators=100; total time= 8.9min\n",
      "[CV] END max_depth=300, min_samples_split=5, n_estimators=100; total time= 9.0min\n",
      "[CV] END max_depth=300, min_samples_split=5, n_estimators=100; total time= 8.9min\n",
      "[CV] END max_depth=300, min_samples_split=5, n_estimators=100; total time= 8.7min\n",
      "[CV] END max_depth=300, min_samples_split=5, n_estimators=100; total time= 8.7min\n",
      "[CV] END max_depth=300, min_samples_split=5, n_estimators=150; total time=13.0min\n",
      "[CV] END max_depth=300, min_samples_split=5, n_estimators=150; total time=13.0min\n",
      "[CV] END max_depth=300, min_samples_split=5, n_estimators=150; total time=12.6min\n",
      "[CV] END max_depth=300, min_samples_split=5, n_estimators=150; total time=12.1min\n",
      "[CV] END max_depth=300, min_samples_split=5, n_estimators=150; total time= 9.8min\n"
     ]
    },
    {
     "name": "stderr",
     "output_type": "stream",
     "text": [
      "/Users/manongourves/envs/app_auto/lib/python3.11/site-packages/numpy/ma/core.py:2846: RuntimeWarning: invalid value encountered in cast\n",
      "  _data = np.array(data, dtype=dtype, copy=copy,\n"
     ]
    },
    {
     "name": "stdout",
     "output_type": "stream",
     "text": [
      "Meilleurs paramètres :  {'max_depth': 300, 'min_samples_split': 5, 'n_estimators': 150}\n",
      "Rapport de Classification Random Forest :\n",
      "\n"
     ]
    },
    {
     "name": "stderr",
     "output_type": "stream",
     "text": [
      "/Users/manongourves/envs/app_auto/lib/python3.11/site-packages/sklearn/metrics/_classification.py:1531: UndefinedMetricWarning: Precision is ill-defined and being set to 0.0 in labels with no predicted samples. Use `zero_division` parameter to control this behavior.\n",
      "  _warn_prf(average, modifier, f\"{metric.capitalize()} is\", len(result))\n"
     ]
    },
    {
     "name": "stdout",
     "output_type": "stream",
     "text": [
      "              precision    recall  f1-score   support\n",
      "\n",
      "        ELDR       0.36      0.05      0.09      4017\n",
      "     GUE-NGL       0.28      0.30      0.29      5379\n",
      "      PPE-DE       0.39      0.75      0.51     13713\n",
      "         PSE       0.39      0.20      0.26     10881\n",
      "     Unknown       0.00      0.00      0.00         6\n",
      "   Verts-ALE       0.41      0.05      0.09      4755\n",
      "\n",
      "    accuracy                           0.37     38751\n",
      "   macro avg       0.31      0.22      0.21     38751\n",
      "weighted avg       0.37      0.37      0.32     38751\n",
      "\n"
     ]
    },
    {
     "name": "stderr",
     "output_type": "stream",
     "text": [
      "/Users/manongourves/envs/app_auto/lib/python3.11/site-packages/sklearn/metrics/_classification.py:1531: UndefinedMetricWarning: Precision is ill-defined and being set to 0.0 in labels with no predicted samples. Use `zero_division` parameter to control this behavior.\n",
      "  _warn_prf(average, modifier, f\"{metric.capitalize()} is\", len(result))\n",
      "/Users/manongourves/envs/app_auto/lib/python3.11/site-packages/sklearn/metrics/_classification.py:1531: UndefinedMetricWarning: Precision is ill-defined and being set to 0.0 in labels with no predicted samples. Use `zero_division` parameter to control this behavior.\n",
      "  _warn_prf(average, modifier, f\"{metric.capitalize()} is\", len(result))\n"
     ]
    }
   ],
   "source": [
    "param_gridRF = {\n",
    "    \"n_estimators\" : [50, 100, 150], \n",
    "    \"max_depth\" : [100, 250, 300], \n",
    "    \"min_samples_split\" : [2, 5], \n",
    "}\n",
    "\n",
    "#Initialisation\n",
    "RF = RandomForestClassifier(random_state=42)\n",
    "RF_grid = GridSearchCV(RF, param_gridRF, cv=5, verbose=2, n_jobs=-1)\n",
    "\n",
    "#Entraînement du modèle\n",
    "RF_grid.fit(X_train, y_train)\n",
    "\n",
    "#Afficher les meilleurs paramètres\n",
    "print(\"Meilleurs paramètres : \", RF_grid.best_params_)\n",
    "\n",
    "#Prédiction avec les meilleurs paramètres obtenus\n",
    "best_RF = RF_grid.best_estimator_\n",
    "y_pred_best_RF = best_RF.predict(X_test)\n",
    "\n",
    "#Résultats\n",
    "print(\"Rapport de Classification Random Forest :\\n\")\n",
    "print(classification_report(y_test, y_pred_best_RF))\n"
   ]
  },
  {
   "cell_type": "markdown",
   "metadata": {},
   "source": [
    "## COMPARAISON DES PERFORMANCES DES MODÈLES"
   ]
  },
  {
   "cell_type": "code",
   "execution_count": 52,
   "metadata": {},
   "outputs": [
    {
     "name": "stderr",
     "output_type": "stream",
     "text": [
      "/Users/manongourves/envs/app_auto/lib/python3.11/site-packages/sklearn/metrics/_classification.py:1531: UndefinedMetricWarning: Precision is ill-defined and being set to 0.0 in labels with no predicted samples. Use `zero_division` parameter to control this behavior.\n",
      "  _warn_prf(average, modifier, f\"{metric.capitalize()} is\", len(result))\n",
      "/Users/manongourves/envs/app_auto/lib/python3.11/site-packages/sklearn/metrics/_classification.py:1531: UndefinedMetricWarning: Precision is ill-defined and being set to 0.0 in labels with no predicted samples. Use `zero_division` parameter to control this behavior.\n",
      "  _warn_prf(average, modifier, f\"{metric.capitalize()} is\", len(result))\n",
      "/Users/manongourves/envs/app_auto/lib/python3.11/site-packages/sklearn/metrics/_classification.py:1531: UndefinedMetricWarning: Precision is ill-defined and being set to 0.0 in labels with no predicted samples. Use `zero_division` parameter to control this behavior.\n",
      "  _warn_prf(average, modifier, f\"{metric.capitalize()} is\", len(result))\n",
      "/Users/manongourves/envs/app_auto/lib/python3.11/site-packages/sklearn/metrics/_classification.py:1531: UndefinedMetricWarning: Precision is ill-defined and being set to 0.0 in labels with no predicted samples. Use `zero_division` parameter to control this behavior.\n",
      "  _warn_prf(average, modifier, f\"{metric.capitalize()} is\", len(result))\n",
      "/Users/manongourves/envs/app_auto/lib/python3.11/site-packages/sklearn/metrics/_classification.py:1531: UndefinedMetricWarning: Precision is ill-defined and being set to 0.0 in labels with no predicted samples. Use `zero_division` parameter to control this behavior.\n",
      "  _warn_prf(average, modifier, f\"{metric.capitalize()} is\", len(result))\n",
      "/Users/manongourves/envs/app_auto/lib/python3.11/site-packages/sklearn/metrics/_classification.py:1531: UndefinedMetricWarning: Precision is ill-defined and being set to 0.0 in labels with no predicted samples. Use `zero_division` parameter to control this behavior.\n",
      "  _warn_prf(average, modifier, f\"{metric.capitalize()} is\", len(result))\n"
     ]
    },
    {
     "name": "stdout",
     "output_type": "stream",
     "text": [
      "                    Modèle  Accuracy  Précision    Rappel  F-mesure\n",
      "0               KNeighbors  0.300637   0.428805  0.300637  0.183984\n",
      "1  Multinomial Naive Bayes  0.384016   0.371498  0.384016  0.349194\n",
      "2   Complement Naive Bayes  0.387603   0.376307  0.387603  0.340061\n",
      "3                      SVM  0.376764   0.358612  0.376764  0.352585\n",
      "4      Logistic Regression  0.376790   0.358668  0.376790  0.352614\n",
      "5            Random Forest  0.373848   0.373984  0.373848  0.316030\n"
     ]
    }
   ],
   "source": [
    "resultats = pd.DataFrame({\n",
    "    \"Modèle\": [\"KNeighbors\", \"Multinomial Naive Bayes\", \"Complement Naive Bayes\", \"SVM\", \"Logistic Regression\", \"Random Forest\"],\n",
    "    \"Accuracy\" : \n",
    "        [accuracy_score(y_test, y_pred_best_KNN),\n",
    "        accuracy_score(y_test, y_pred_best_MultiNB),\n",
    "        accuracy_score(y_test, y_pred_best_ComplNB),\n",
    "        accuracy_score(y_test, y_pred_best_svm),\n",
    "        accuracy_score(y_test, y_pred_best_LR),\n",
    "        accuracy_score(y_test, y_pred_best_RF)],\n",
    "    \"Précision\": \n",
    "        [precision_score(y_test, y_pred_best_KNN, average=\"weighted\"),\n",
    "        precision_score(y_test, y_pred_best_MultiNB, average=\"weighted\"),\n",
    "        precision_score(y_test, y_pred_best_ComplNB, average=\"weighted\"),\n",
    "        precision_score(y_test, y_pred_best_svm, average=\"weighted\"),\n",
    "        precision_score(y_test, y_pred_best_LR, average=\"weighted\"),\n",
    "        precision_score(y_test, y_pred_best_RF, average=\"weighted\")],\n",
    "    \"Rappel\" : \n",
    "        [recall_score(y_test, y_pred_best_KNN, average=\"weighted\"),\n",
    "        recall_score(y_test, y_pred_best_MultiNB, average=\"weighted\"),\n",
    "        recall_score(y_test, y_pred_best_ComplNB, average=\"weighted\"),\n",
    "        recall_score(y_test, y_pred_best_svm, average=\"weighted\"),\n",
    "        recall_score(y_test, y_pred_best_LR, average=\"weighted\"),\n",
    "        recall_score(y_test, y_pred_best_RF, average=\"weighted\")],\n",
    "    \"F-mesure\" : \n",
    "        [f1_score(y_test, y_pred_best_KNN, average=\"weighted\"),\n",
    "        f1_score(y_test, y_pred_best_MultiNB, average=\"weighted\"),\n",
    "        f1_score(y_test, y_pred_best_ComplNB, average=\"weighted\"),\n",
    "        f1_score(y_test, y_pred_best_svm, average=\"weighted\"),\n",
    "        f1_score(y_test, y_pred_best_LR, average=\"weighted\"),\n",
    "        f1_score(y_test, y_pred_best_RF, average=\"weighted\")]\n",
    "})\n",
    "\n",
    "print(resultats)"
   ]
  }
 ],
 "metadata": {
  "kernelspec": {
   "display_name": "app_auto",
   "language": "python",
   "name": "python3"
  },
  "language_info": {
   "codemirror_mode": {
    "name": "ipython",
    "version": 3
   },
   "file_extension": ".py",
   "mimetype": "text/x-python",
   "name": "python",
   "nbconvert_exporter": "python",
   "pygments_lexer": "ipython3",
   "version": "3.11.7"
  }
 },
 "nbformat": 4,
 "nbformat_minor": 2
}
