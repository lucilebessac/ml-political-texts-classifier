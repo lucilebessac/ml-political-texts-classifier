{
 "cells": [
  {
   "cell_type": "markdown",
   "metadata": {},
   "source": [
    "# Tâche 3 DEFT 2009: Classification par parti politique d’interventions au Parlement européen.\n",
    "\n",
    "## 1. Imports"
   ]
  },
  {
   "cell_type": "code",
   "execution_count": 44,
   "metadata": {},
   "outputs": [],
   "source": [
    "# Librairies Standard\n",
    "import os\n",
    "import xml.etree.ElementTree as ET\n",
    "\n",
    "# NLTK\n",
    "import nltk\n",
    "from nltk.corpus import stopwords\n",
    "from nltk.tokenize import word_tokenize\n",
    "\n",
    "# Scikit-learn\n",
    "from sklearn.feature_extraction.text import TfidfVectorizer\n",
    "from sklearn.model_selection import train_test_split, GridSearchCV\n",
    "from sklearn.neighbors import KNeighborsClassifier\n",
    "from sklearn.naive_bayes import MultinomialNB, ComplementNB\n",
    "from sklearn.svm import LinearSVC\n",
    "from sklearn.linear_model import LogisticRegression\n",
    "from sklearn.ensemble import RandomForestClassifier\n",
    "from sklearn.metrics import (\n",
    "    classification_report, \n",
    "    confusion_matrix, \n",
    "    ConfusionMatrixDisplay, \n",
    "    accuracy_score, \n",
    "    precision_score, \n",
    "    recall_score, \n",
    "    f1_score\n",
    ")\n",
    "\n",
    "# Gensim (Word2Vec et Doc2Vec)\n",
    "from gensim.models import Word2Vec, Doc2Vec\n",
    "from gensim.models.doc2vec import TaggedDocument\n",
    "\n",
    "# Data & DataViz\n",
    "import pandas as pd\n",
    "import numpy as np\n",
    "import matplotlib.pyplot as plt\n"
   ]
  },
  {
   "cell_type": "markdown",
   "metadata": {},
   "source": [
    "## 2. Récupération du corpus\n",
    "\n",
    "Pour le corpus de test, les données textuelles et les métadonnées sont stockées dans des fichiers différents. Il convient donc d'associer chaque document à ses métadonnées."
   ]
  },
  {
   "cell_type": "code",
   "execution_count": 3,
   "metadata": {},
   "outputs": [],
   "source": [
    "dossier_train = \"../../deft09/corpus_train\"\n",
    "dossier_test = \"../../deft09/corpus_test\"\n",
    "dossier_ref = \"../../deft09/donnees_ref\""
   ]
  },
  {
   "cell_type": "code",
   "execution_count": 4,
   "metadata": {},
   "outputs": [],
   "source": [
    "def recup_train_data(dossier) : \n",
    "    \"\"\"\n",
    "    extraction du texte et des étiquettes des documents XML d'un répertoire.\n",
    "    \"\"\"\n",
    "    train_textes = []\n",
    "    labels_train = []\n",
    "    for fichier in os.listdir(dossier) : \n",
    "        if fichier.endswith(\".xml\"):\n",
    "            chemin_fichier = os.path.join(dossier, fichier)\n",
    "            tree = ET.parse(chemin_fichier) #analyse et parsing du fichier\n",
    "            root = tree.getroot() #obtient l'élément racine de l'arbre XML (le noeud principal de l'arbre)\n",
    "\n",
    "            for doc in root.findall(\"doc\") : \n",
    "                intervention = doc.find(\".//texte/p\")\n",
    "                if intervention is not None and intervention.text is not None : \n",
    "                    texte = intervention.text\n",
    "                else : \n",
    "                    texte = \"\"\n",
    "                parti = doc.find(\".//EVALUATION/EVAL_PARTI/PARTI\")\n",
    "                if parti is not None and \"valeur\" in parti.attrib : \n",
    "                    label = parti.get(\"valeur\")\n",
    "                else : \n",
    "                    label = \"Unknown\"\n",
    "\n",
    "                train_textes.append(texte)\n",
    "                labels_train.append(label)\n",
    "                \n",
    "    print(f\"Nb textes train : {len(train_textes)}\")\n",
    "    print(f\"Nb labels train : {len(labels_train)}\")\n",
    "\n",
    "    return train_textes, labels_train\n",
    "\n",
    "def recup_test_data(dossier) : \n",
    "    \"\"\"\n",
    "    extraction du texte des documents XML d'un répertoire.\n",
    "    \"\"\"\n",
    "    test_textes = []\n",
    "    for fichier in os.listdir(dossier) : \n",
    "        if fichier.endswith(\".xml\"):\n",
    "            chemin_fichier = os.path.join(dossier, fichier)\n",
    "\n",
    "            tree = ET.parse(chemin_fichier) #analyse et parsing du fichier\n",
    "            root = tree.getroot() #obtient l'élément racine de l'arbre XML (le noeud principal de l'arbre)\n",
    "\n",
    "            for doc in root.findall('doc'):\n",
    "                texte_complet = \"\"\n",
    "                for p in doc.find('texte').findall('p'):\n",
    "                    if p.text : \n",
    "                        texte_complet += p.text.strip() + \" \"\n",
    "                test_textes.append(texte_complet.strip())\n",
    "\n",
    "    print(f\"Nb textes test : {len(test_textes)}\")\n",
    "\n",
    "    return test_textes\n",
    "    \n",
    "def recup_donnees_ref(dossier) :\n",
    "    \"\"\"\n",
    "    extraction des étiquettes des documents XML d'un répertoire.\n",
    "    \"\"\"\n",
    "    labels_test = []\n",
    "    for fichier in os.listdir(dossier) : \n",
    "        if fichier.endswith(\".txt\"):\n",
    "            chemin_fichier = os.path.join(dossier, fichier)\n",
    "\n",
    "            with open(chemin_fichier, \"r\", encoding=\"latin1\") as file : \n",
    "                for ligne in file : \n",
    "                    ligne = ligne.strip()\n",
    "                    ligne = ligne.replace(\"\\t\", \" \")\n",
    "                    parties = ligne.split()\n",
    "                    if len(parties) > 1: \n",
    "                        labels_test.append(parties[1])\n",
    "                    else:\n",
    "                        print(f\"Ligne ignorée : {ligne} sur le fichier {fichier}\")\n",
    "                        labels_test.append(\"Unknown\")\n",
    "\n",
    "    print(f\"Nb labels test : {len(labels_test)}\")\n",
    "    \n",
    "    return labels_test"
   ]
  },
  {
   "cell_type": "code",
   "execution_count": 5,
   "metadata": {},
   "outputs": [
    {
     "name": "stdout",
     "output_type": "stream",
     "text": [
      "Nb textes train : 19370\n",
      "Nb labels train : 19370\n"
     ]
    }
   ],
   "source": [
    "textes_train, y_train = recup_train_data(dossier_train)"
   ]
  },
  {
   "cell_type": "code",
   "execution_count": 6,
   "metadata": {},
   "outputs": [
    {
     "name": "stdout",
     "output_type": "stream",
     "text": [
      "Nb textes test : 12917\n",
      "Ligne ignorée : 1175 sur le fichier deft09_parlement_ref_fr.txt\n",
      "Ligne ignorée : 4574 sur le fichier deft09_parlement_ref_fr.txt\n",
      "Nb labels test : 12917\n"
     ]
    }
   ],
   "source": [
    "textes_test = recup_test_data(dossier_test)\n",
    "y_test = recup_donnees_ref(dossier_ref)"
   ]
  },
  {
   "cell_type": "code",
   "execution_count": null,
   "metadata": {},
   "outputs": [
    {
     "data": {
      "image/png": "[encoded data removed]",
      "text/plain": [
       "<Figure size 640x480 with 1 Axes>"
      ]
     },
     "metadata": {},
     "output_type": "display_data"
    }
   ],
   "source": [
    "#Répartition des classes dans train et test\n",
    "\n",
    "plt.hist(y_train, alpha=0.9, align=\"left\", width=0.4, label='train')\n",
    "plt.hist(y_test, alpha=0.9, align=\"mid\", width=0.4, label='test')\n",
    "plt.legend()\n",
    "plt.xlabel(\"Classe\")\n",
    "plt.ylabel(\"Nombre d'exemples\")\n",
    "plt.title(\"Répartition des classes\") \n",
    "plt.show()"
   ]
  },
  {
   "cell_type": "markdown",
   "metadata": {},
   "source": [
    "## 3. Preprocessing\n",
    "\n",
    "### Retrait des stopwords"
   ]
  },
  {
   "cell_type": "code",
   "execution_count": 8,
   "metadata": {},
   "outputs": [],
   "source": [
    "stopwords_list = stopwords.words(\"french\")"
   ]
  },
  {
   "cell_type": "markdown",
   "metadata": {},
   "source": [
    "## 4. Test des méthodes de l'expérience de 2009"
   ]
  },
  {
   "cell_type": "markdown",
   "metadata": {},
   "source": [
    "### Vectorisation avec tf-idf"
   ]
  },
  {
   "cell_type": "code",
   "execution_count": null,
   "metadata": {},
   "outputs": [],
   "source": [
    "tfidf = TfidfVectorizer(stop_words=stopwords_list)\n",
    "X_train = tfidf.fit_transform(textes_train)\n",
    "X_test = tfidf.transform(textes_test)"
   ]
  },
  {
   "cell_type": "markdown",
   "metadata": {},
   "source": [
    "### Avec KNeighbors Classifier"
   ]
  },
  {
   "cell_type": "code",
   "execution_count": null,
   "metadata": {},
   "outputs": [
    {
     "name": "stdout",
     "output_type": "stream",
     "text": [
      "Fitting 5 folds for each of 1 candidates, totalling 5 fits\n",
      "[CV] END ...................n_neighbors=15, weights=distance; total time=  36.1s\n",
      "[CV] END ...................n_neighbors=15, weights=distance; total time=  35.9s\n",
      "[CV] END ...................n_neighbors=15, weights=distance; total time=  40.2s\n",
      "[CV] END ...................n_neighbors=15, weights=distance; total time=  44.2s\n",
      "[CV] END ...................n_neighbors=15, weights=distance; total time=  46.9s\n",
      "Meilleurs paramètres :  {'n_neighbors': 15, 'weights': 'distance'}\n",
      "Rapport de Classification KNeighbors Classifier:\n",
      "\n"
     ]
    },
    {
     "name": "stderr",
     "output_type": "stream",
     "text": [
      "/home/lucile/S1/ApprentissageAutomatique/apprautovenv/lib/python3.11/site-packages/sklearn/metrics/_classification.py:1531: UndefinedMetricWarning: Precision is ill-defined and being set to 0.0 in labels with no predicted samples. Use `zero_division` parameter to control this behavior.\n",
      "  _warn_prf(average, modifier, f\"{metric.capitalize()} is\", len(result))\n",
      "/home/lucile/S1/ApprentissageAutomatique/apprautovenv/lib/python3.11/site-packages/sklearn/metrics/_classification.py:1531: UndefinedMetricWarning: Precision is ill-defined and being set to 0.0 in labels with no predicted samples. Use `zero_division` parameter to control this behavior.\n",
      "  _warn_prf(average, modifier, f\"{metric.capitalize()} is\", len(result))\n"
     ]
    },
    {
     "name": "stdout",
     "output_type": "stream",
     "text": [
      "              precision    recall  f1-score   support\n",
      "\n",
      "        ELDR       0.13      0.01      0.03      4017\n",
      "     GUE-NGL       0.14      0.01      0.03      5379\n",
      "      PPE-DE       0.38      0.03      0.06     13713\n",
      "         PSE       0.28      0.93      0.43     10881\n",
      "     Unknown       0.00      0.00      0.00         6\n",
      "   Verts-ALE       0.10      0.01      0.02      4755\n",
      "\n",
      "    accuracy                           0.28     38751\n",
      "   macro avg       0.17      0.17      0.09     38751\n",
      "weighted avg       0.26      0.28      0.15     38751\n",
      "\n"
     ]
    },
    {
     "name": "stderr",
     "output_type": "stream",
     "text": [
      "/home/lucile/S1/ApprentissageAutomatique/apprautovenv/lib/python3.11/site-packages/sklearn/metrics/_classification.py:1531: UndefinedMetricWarning: Precision is ill-defined and being set to 0.0 in labels with no predicted samples. Use `zero_division` parameter to control this behavior.\n",
      "  _warn_prf(average, modifier, f\"{metric.capitalize()} is\", len(result))\n"
     ]
    }
   ],
   "source": [
    "param_gridKNN = {\n",
    "    \"n_neighbors\" : [15],\n",
    "    \"weights\" : [\"distance\"], \n",
    "}\n",
    "\n",
    "#Initialisation\n",
    "KNN = KNeighborsClassifier()\n",
    "KNN_grid = GridSearchCV(KNN, param_gridKNN, cv=5, verbose=2, n_jobs=-1)\n",
    "\n",
    "#Entraînement du modèle\n",
    "KNN_grid.fit(X_train, y_train)\n",
    "\n",
    "#Afficher les meilleurs paramètres\n",
    "print(\"Meilleurs paramètres : \", KNN_grid.best_params_)\n",
    "\n",
    "#Prédiction avec les meilleurs paramètres obtenus\n",
    "best_KNN = KNN_grid.best_estimator_\n",
    "y_pred_best_KNN = best_KNN.predict(X_test)\n",
    "\n",
    "#Résultats\n",
    "print(\"Rapport de Classification KNeighbors Classifier:\\n\")\n",
    "print(classification_report(y_test, y_pred_best_KNN))"
   ]
  },
  {
   "cell_type": "markdown",
   "metadata": {},
   "source": [
    "### Avec Multinomial Naive Bayes"
   ]
  },
  {
   "cell_type": "code",
   "execution_count": null,
   "metadata": {},
   "outputs": [
    {
     "name": "stdout",
     "output_type": "stream",
     "text": [
      "Fitting 5 folds for each of 10 candidates, totalling 50 fits\n",
      "[CV] END .........................alpha=0.05, fit_prior=True; total time=   0.4s\n",
      "[CV] END .........................alpha=0.05, fit_prior=True; total time=   0.5s\n",
      "[CV] END .........................alpha=0.05, fit_prior=True; total time=   0.5s\n",
      "[CV] END .........................alpha=0.05, fit_prior=True; total time=   0.6s\n",
      "[CV] END .........................alpha=0.05, fit_prior=True; total time=   0.6s\n",
      "[CV] END ........................alpha=0.05, fit_prior=False; total time=   0.5s\n",
      "[CV] END ........................alpha=0.05, fit_prior=False; total time=   0.6s\n",
      "[CV] END ........................alpha=0.05, fit_prior=False; total time=   0.4s\n",
      "[CV] END ........................alpha=0.05, fit_prior=False; total time=   0.5s\n",
      "[CV] END ........................alpha=0.05, fit_prior=False; total time=   0.5s\n",
      "[CV] END ..........................alpha=0.2, fit_prior=True; total time=   0.4s\n",
      "[CV] END ..........................alpha=0.2, fit_prior=True; total time=   0.5s\n",
      "[CV] END ..........................alpha=0.2, fit_prior=True; total time=   0.4s\n",
      "[CV] END ..........................alpha=0.2, fit_prior=True; total time=   0.4s\n",
      "[CV] END ..........................alpha=0.2, fit_prior=True; total time=   0.4s\n",
      "[CV] END .........................alpha=0.2, fit_prior=False; total time=   0.3s\n",
      "[CV] END .........................alpha=0.2, fit_prior=False; total time=   0.4s\n",
      "[CV] END .........................alpha=0.2, fit_prior=False; total time=   0.4s\n",
      "[CV] END .........................alpha=0.2, fit_prior=False; total time=   0.4s\n",
      "[CV] END .........................alpha=0.2, fit_prior=False; total time=   0.3s\n",
      "[CV] END ..........................alpha=0.7, fit_prior=True; total time=   0.3s\n",
      "[CV] END ..........................alpha=0.7, fit_prior=True; total time=   0.4s\n",
      "[CV] END ..........................alpha=0.7, fit_prior=True; total time=   0.4s\n",
      "[CV] END ..........................alpha=0.7, fit_prior=True; total time=   0.3s\n",
      "[CV] END ..........................alpha=0.7, fit_prior=True; total time=   0.3s\n",
      "[CV] END .........................alpha=0.7, fit_prior=False; total time=   0.3s\n",
      "[CV] END .........................alpha=0.7, fit_prior=False; total time=   0.3s\n",
      "[CV] END .........................alpha=0.7, fit_prior=False; total time=   0.4s\n",
      "[CV] END .........................alpha=0.7, fit_prior=False; total time=   0.4s\n",
      "[CV] END .........................alpha=0.7, fit_prior=False; total time=   0.4s\n",
      "[CV] END ..........................alpha=1.0, fit_prior=True; total time=   0.3s\n",
      "[CV] END ..........................alpha=1.0, fit_prior=True; total time=   0.4s\n",
      "[CV] END ..........................alpha=1.0, fit_prior=True; total time=   0.3s\n",
      "[CV] END ..........................alpha=1.0, fit_prior=True; total time=   0.3s\n",
      "[CV] END ..........................alpha=1.0, fit_prior=True; total time=   0.3s\n",
      "[CV] END .........................alpha=1.0, fit_prior=False; total time=   0.4s\n",
      "[CV] END .........................alpha=1.0, fit_prior=False; total time=   0.3s\n",
      "[CV] END .........................alpha=1.0, fit_prior=False; total time=   0.4s\n",
      "[CV] END .........................alpha=1.0, fit_prior=False; total time=   0.4s\n",
      "[CV] END .........................alpha=1.0, fit_prior=False; total time=   0.4s\n",
      "[CV] END ............................alpha=2, fit_prior=True; total time=   0.4s\n",
      "[CV] END ............................alpha=2, fit_prior=True; total time=   0.4s\n",
      "[CV] END ............................alpha=2, fit_prior=True; total time=   0.3s\n",
      "[CV] END ............................alpha=2, fit_prior=True; total time=   0.4s\n",
      "[CV] END ............................alpha=2, fit_prior=True; total time=   0.4s\n",
      "[CV] END ...........................alpha=2, fit_prior=False; total time=   0.3s\n",
      "[CV] END ...........................alpha=2, fit_prior=False; total time=   0.3s\n",
      "[CV] END ...........................alpha=2, fit_prior=False; total time=   0.3s\n",
      "[CV] END ...........................alpha=2, fit_prior=False; total time=   0.3s\n",
      "[CV] END ...........................alpha=2, fit_prior=False; total time=   0.3s\n",
      "Meilleurs paramètres :  {'alpha': 0.05, 'fit_prior': True}\n",
      "Rapport de Classification Multinomial Naive Bayes:\n",
      "\n"
     ]
    },
    {
     "name": "stderr",
     "output_type": "stream",
     "text": [
      "/Users/manongourves/envs/app_auto/lib/python3.11/site-packages/sklearn/metrics/_classification.py:1531: UndefinedMetricWarning: Precision is ill-defined and being set to 0.0 in labels with no predicted samples. Use `zero_division` parameter to control this behavior.\n",
      "  _warn_prf(average, modifier, f\"{metric.capitalize()} is\", len(result))\n"
     ]
    },
    {
     "name": "stdout",
     "output_type": "stream",
     "text": [
      "              precision    recall  f1-score   support\n",
      "\n",
      "        ELDR       0.35      0.06      0.10      4017\n",
      "     GUE-NGL       0.31      0.29      0.30      5379\n",
      "      PPE-DE       0.41      0.65      0.50     13713\n",
      "         PSE       0.37      0.34      0.35     10881\n",
      "     Unknown       0.00      0.00      0.00         6\n",
      "   Verts-ALE       0.35      0.10      0.16      4755\n",
      "\n",
      "    accuracy                           0.38     38751\n",
      "   macro avg       0.30      0.24      0.24     38751\n",
      "weighted avg       0.37      0.38      0.35     38751\n",
      "\n"
     ]
    },
    {
     "name": "stderr",
     "output_type": "stream",
     "text": [
      "/Users/manongourves/envs/app_auto/lib/python3.11/site-packages/sklearn/metrics/_classification.py:1531: UndefinedMetricWarning: Precision is ill-defined and being set to 0.0 in labels with no predicted samples. Use `zero_division` parameter to control this behavior.\n",
      "  _warn_prf(average, modifier, f\"{metric.capitalize()} is\", len(result))\n",
      "/Users/manongourves/envs/app_auto/lib/python3.11/site-packages/sklearn/metrics/_classification.py:1531: UndefinedMetricWarning: Precision is ill-defined and being set to 0.0 in labels with no predicted samples. Use `zero_division` parameter to control this behavior.\n",
      "  _warn_prf(average, modifier, f\"{metric.capitalize()} is\", len(result))\n"
     ]
    }
   ],
   "source": [
    "param_gridMultiNB = {\n",
    "    \"alpha\": [0.05, 0.2, 0.7, 1.0, 2],\n",
    "    \"fit_prior\": [True, False]\n",
    "}\n",
    "\n",
    "#Initialisation\n",
    "MultiNB = MultinomialNB()\n",
    "MultiNB_grid = GridSearchCV(MultiNB, param_gridMultiNB, cv=5, verbose=2, n_jobs=-1)\n",
    "\n",
    "#Entraînement du modèle\n",
    "MultiNB_grid.fit(X_train, y_train)\n",
    "\n",
    "#Afficher les meilleurs paramètres\n",
    "print(\"Meilleurs paramètres : \", MultiNB_grid.best_params_)\n",
    "\n",
    "#Prédiction avec les meilleurs paramètres obtenus\n",
    "best_MultiNB = MultiNB_grid.best_estimator_\n",
    "y_pred_best_MultiNB = best_MultiNB.predict(X_test)\n",
    "\n",
    "#Résultats\n",
    "print(\"Rapport de Classification Multinomial Naive Bayes:\\n\")\n",
    "print(classification_report(y_test, y_pred_best_MultiNB))"
   ]
  },
  {
   "cell_type": "markdown",
   "metadata": {},
   "source": [
    "## 5. Test de nouveaux algorithmes\n",
    "\n",
    "En gardant le même preprocessing, nous avons voulu tester d'autres algorithmes que ceux testés en 2009."
   ]
  },
  {
   "cell_type": "markdown",
   "metadata": {},
   "source": [
    "### a. Complement Naive Bayes"
   ]
  },
  {
   "cell_type": "code",
   "execution_count": null,
   "metadata": {},
   "outputs": [
    {
     "name": "stdout",
     "output_type": "stream",
     "text": [
      "Fitting 5 folds for each of 20 candidates, totalling 100 fits\n",
      "[CV] END ..............alpha=0.05, fit_prior=True, norm=True; total time=   0.4s\n",
      "[CV] END ..............alpha=0.05, fit_prior=True, norm=True; total time=   0.4s\n",
      "[CV] END ..............alpha=0.05, fit_prior=True, norm=True; total time=   0.5s\n",
      "[CV] END ..............alpha=0.05, fit_prior=True, norm=True; total time=   0.5s\n",
      "[CV] END ..............alpha=0.05, fit_prior=True, norm=True; total time=   0.4s\n",
      "[CV] END .............alpha=0.05, fit_prior=True, norm=False; total time=   0.4s\n",
      "[CV] END .............alpha=0.05, fit_prior=True, norm=False; total time=   0.4s\n",
      "[CV] END .............alpha=0.05, fit_prior=True, norm=False; total time=   0.3s\n",
      "[CV] END .............alpha=0.05, fit_prior=True, norm=False; total time=   0.7s\n",
      "[CV] END .............alpha=0.05, fit_prior=True, norm=False; total time=   0.7s\n",
      "[CV] END .............alpha=0.05, fit_prior=False, norm=True; total time=   0.7s\n",
      "[CV] END .............alpha=0.05, fit_prior=False, norm=True; total time=   0.7s\n",
      "[CV] END .............alpha=0.05, fit_prior=False, norm=True; total time=   0.9s\n",
      "[CV] END .............alpha=0.05, fit_prior=False, norm=True; total time=   0.9s\n",
      "[CV] END .............alpha=0.05, fit_prior=False, norm=True; total time=   0.9s\n",
      "[CV] END ............alpha=0.05, fit_prior=False, norm=False; total time=   0.8s\n",
      "[CV] END ............alpha=0.05, fit_prior=False, norm=False; total time=   0.4s\n",
      "[CV] END ............alpha=0.05, fit_prior=False, norm=False; total time=   0.3s\n",
      "[CV] END ............alpha=0.05, fit_prior=False, norm=False; total time=   0.3s\n",
      "[CV] END ............alpha=0.05, fit_prior=False, norm=False; total time=   0.3s\n",
      "[CV] END ...............alpha=0.2, fit_prior=True, norm=True; total time=   0.3s\n",
      "[CV] END ...............alpha=0.2, fit_prior=True, norm=True; total time=   0.4s\n",
      "[CV] END ...............alpha=0.2, fit_prior=True, norm=True; total time=   0.3s\n",
      "[CV] END ...............alpha=0.2, fit_prior=True, norm=True; total time=   0.3s\n",
      "[CV] END ...............alpha=0.2, fit_prior=True, norm=True; total time=   0.3s\n",
      "[CV] END ..............alpha=0.2, fit_prior=True, norm=False; total time=   0.4s\n",
      "[CV] END ..............alpha=0.2, fit_prior=True, norm=False; total time=   0.3s\n",
      "[CV] END ..............alpha=0.2, fit_prior=True, norm=False; total time=   0.4s\n",
      "[CV] END ..............alpha=0.2, fit_prior=True, norm=False; total time=   0.7s\n",
      "[CV] END ..............alpha=0.2, fit_prior=True, norm=False; total time=   0.7s\n",
      "[CV] END ..............alpha=0.2, fit_prior=False, norm=True; total time=   0.6s\n",
      "[CV] END ..............alpha=0.2, fit_prior=False, norm=True; total time=   0.5s\n",
      "[CV] END ..............alpha=0.2, fit_prior=False, norm=True; total time=   0.7s\n",
      "[CV] END ..............alpha=0.2, fit_prior=False, norm=True; total time=   0.7s\n",
      "[CV] END ..............alpha=0.2, fit_prior=False, norm=True; total time=   0.7s\n",
      "[CV] END .............alpha=0.2, fit_prior=False, norm=False; total time=   0.7s\n",
      "[CV] END .............alpha=0.2, fit_prior=False, norm=False; total time=   0.5s\n",
      "[CV] END .............alpha=0.2, fit_prior=False, norm=False; total time=   0.6s\n",
      "[CV] END .............alpha=0.2, fit_prior=False, norm=False; total time=   0.6s\n",
      "[CV] END .............alpha=0.2, fit_prior=False, norm=False; total time=   0.6s\n",
      "[CV] END ...............alpha=0.7, fit_prior=True, norm=True; total time=   0.4s[CV] END ...............alpha=0.7, fit_prior=True, norm=True; total time=   0.5s\n",
      "\n",
      "[CV] END ...............alpha=0.7, fit_prior=True, norm=True; total time=   0.4s\n",
      "[CV] END ...............alpha=0.7, fit_prior=True, norm=True; total time=   0.4s\n",
      "[CV] END ...............alpha=0.7, fit_prior=True, norm=True; total time=   0.4s\n",
      "[CV] END ..............alpha=0.7, fit_prior=True, norm=False; total time=   0.4s\n",
      "[CV] END ..............alpha=0.7, fit_prior=True, norm=False; total time=   0.4s\n",
      "[CV] END ..............alpha=0.7, fit_prior=True, norm=False; total time=   0.4s\n",
      "[CV] END ..............alpha=0.7, fit_prior=True, norm=False; total time=   0.3s\n",
      "[CV] END ..............alpha=0.7, fit_prior=True, norm=False; total time=   0.3s\n",
      "[CV] END ..............alpha=0.7, fit_prior=False, norm=True; total time=   0.4s\n",
      "[CV] END ..............alpha=0.7, fit_prior=False, norm=True; total time=   0.4s\n",
      "[CV] END ..............alpha=0.7, fit_prior=False, norm=True; total time=   0.4s\n",
      "[CV] END ..............alpha=0.7, fit_prior=False, norm=True; total time=   0.4s\n",
      "[CV] END ..............alpha=0.7, fit_prior=False, norm=True; total time=   0.4s\n",
      "[CV] END .............alpha=0.7, fit_prior=False, norm=False; total time=   0.4s\n",
      "[CV] END .............alpha=0.7, fit_prior=False, norm=False; total time=   0.3s\n",
      "[CV] END .............alpha=0.7, fit_prior=False, norm=False; total time=   0.4s\n",
      "[CV] END .............alpha=0.7, fit_prior=False, norm=False; total time=   0.4s\n",
      "[CV] END .............alpha=0.7, fit_prior=False, norm=False; total time=   0.4s\n",
      "[CV] END ...............alpha=1.0, fit_prior=True, norm=True; total time=   0.4s\n",
      "[CV] END ...............alpha=1.0, fit_prior=True, norm=True; total time=   0.3s\n",
      "[CV] END ...............alpha=1.0, fit_prior=True, norm=True; total time=   0.4s\n",
      "[CV] END ...............alpha=1.0, fit_prior=True, norm=True; total time=   0.4s\n",
      "[CV] END ..............alpha=1.0, fit_prior=True, norm=False; total time=   0.3s\n",
      "[CV] END ...............alpha=1.0, fit_prior=True, norm=True; total time=   0.4s\n",
      "[CV] END ..............alpha=1.0, fit_prior=True, norm=False; total time=   0.4s\n",
      "[CV] END ..............alpha=1.0, fit_prior=True, norm=False; total time=   0.3s\n",
      "[CV] END ..............alpha=1.0, fit_prior=True, norm=False; total time=   0.3s\n",
      "[CV] END ..............alpha=1.0, fit_prior=True, norm=False; total time=   0.4s\n",
      "[CV] END ..............alpha=1.0, fit_prior=False, norm=True; total time=   0.3s\n",
      "[CV] END ..............alpha=1.0, fit_prior=False, norm=True; total time=   0.4s\n",
      "[CV] END ..............alpha=1.0, fit_prior=False, norm=True; total time=   0.4s\n",
      "[CV] END ..............alpha=1.0, fit_prior=False, norm=True; total time=   0.4s\n",
      "[CV] END ..............alpha=1.0, fit_prior=False, norm=True; total time=   0.4s\n",
      "[CV] END .............alpha=1.0, fit_prior=False, norm=False; total time=   0.4s\n",
      "[CV] END .............alpha=1.0, fit_prior=False, norm=False; total time=   0.4s\n",
      "[CV] END .............alpha=1.0, fit_prior=False, norm=False; total time=   0.4s\n",
      "[CV] END .............alpha=1.0, fit_prior=False, norm=False; total time=   0.4s\n",
      "[CV] END .............alpha=1.0, fit_prior=False, norm=False; total time=   0.4s\n",
      "[CV] END .................alpha=2, fit_prior=True, norm=True; total time=   0.3s\n",
      "[CV] END .................alpha=2, fit_prior=True, norm=True; total time=   0.4s\n",
      "[CV] END .................alpha=2, fit_prior=True, norm=True; total time=   0.4s\n",
      "[CV] END .................alpha=2, fit_prior=True, norm=True; total time=   0.3s\n",
      "[CV] END .................alpha=2, fit_prior=True, norm=True; total time=   0.3s\n",
      "[CV] END ................alpha=2, fit_prior=True, norm=False; total time=   0.3s\n",
      "[CV] END ................alpha=2, fit_prior=True, norm=False; total time=   0.3s\n",
      "[CV] END ................alpha=2, fit_prior=True, norm=False; total time=   0.3s\n",
      "[CV] END ................alpha=2, fit_prior=True, norm=False; total time=   0.4s\n",
      "[CV] END ................alpha=2, fit_prior=False, norm=True; total time=   0.3s\n",
      "[CV] END ................alpha=2, fit_prior=True, norm=False; total time=   0.3s\n",
      "[CV] END ................alpha=2, fit_prior=False, norm=True; total time=   0.3s\n",
      "[CV] END ................alpha=2, fit_prior=False, norm=True; total time=   0.4s\n",
      "[CV] END ................alpha=2, fit_prior=False, norm=True; total time=   0.4s\n",
      "[CV] END ................alpha=2, fit_prior=False, norm=True; total time=   0.3s\n",
      "[CV] END ...............alpha=2, fit_prior=False, norm=False; total time=   0.3s\n",
      "[CV] END ...............alpha=2, fit_prior=False, norm=False; total time=   0.4s\n",
      "[CV] END ...............alpha=2, fit_prior=False, norm=False; total time=   0.3s\n",
      "[CV] END ...............alpha=2, fit_prior=False, norm=False; total time=   0.3s\n",
      "[CV] END ...............alpha=2, fit_prior=False, norm=False; total time=   0.3s\n",
      "Meilleurs paramètres :  {'alpha': 0.2, 'fit_prior': True, 'norm': True}\n",
      "Rapport de Classification Complement Naive Bayes :\n",
      "\n"
     ]
    },
    {
     "name": "stderr",
     "output_type": "stream",
     "text": [
      "/Users/manongourves/envs/app_auto/lib/python3.11/site-packages/sklearn/metrics/_classification.py:1531: UndefinedMetricWarning: Precision is ill-defined and being set to 0.0 in labels with no predicted samples. Use `zero_division` parameter to control this behavior.\n",
      "  _warn_prf(average, modifier, f\"{metric.capitalize()} is\", len(result))\n"
     ]
    },
    {
     "name": "stdout",
     "output_type": "stream",
     "text": [
      "              precision    recall  f1-score   support\n",
      "\n",
      "        ELDR       0.36      0.05      0.09      4017\n",
      "     GUE-NGL       0.36      0.22      0.28      5379\n",
      "      PPE-DE       0.40      0.71      0.51     13713\n",
      "         PSE       0.37      0.32      0.34     10881\n",
      "     Unknown       0.00      0.00      0.00         6\n",
      "   Verts-ALE       0.36      0.07      0.12      4755\n",
      "\n",
      "    accuracy                           0.39     38751\n",
      "   macro avg       0.31      0.23      0.22     38751\n",
      "weighted avg       0.38      0.39      0.34     38751\n",
      "\n"
     ]
    },
    {
     "name": "stderr",
     "output_type": "stream",
     "text": [
      "/Users/manongourves/envs/app_auto/lib/python3.11/site-packages/sklearn/metrics/_classification.py:1531: UndefinedMetricWarning: Precision is ill-defined and being set to 0.0 in labels with no predicted samples. Use `zero_division` parameter to control this behavior.\n",
      "  _warn_prf(average, modifier, f\"{metric.capitalize()} is\", len(result))\n",
      "/Users/manongourves/envs/app_auto/lib/python3.11/site-packages/sklearn/metrics/_classification.py:1531: UndefinedMetricWarning: Precision is ill-defined and being set to 0.0 in labels with no predicted samples. Use `zero_division` parameter to control this behavior.\n",
      "  _warn_prf(average, modifier, f\"{metric.capitalize()} is\", len(result))\n"
     ]
    }
   ],
   "source": [
    "param_gridComplNB = {\n",
    "    \"alpha\": [0.05, 0.2, 0.7, 1.0, 2],\n",
    "    \"fit_prior\": [True, False],\n",
    "    \"norm\": [True, False]\n",
    "}\n",
    "\n",
    "#Initialisation\n",
    "ComplNB = ComplementNB()\n",
    "ComplNB_grid = GridSearchCV(ComplNB, param_gridComplNB, cv=5, verbose=2, n_jobs=-1)\n",
    "\n",
    "#Entraînement du modèle\n",
    "ComplNB_grid.fit(X_train, y_train)\n",
    "\n",
    "#Afficher les meilleurs paramètres\n",
    "print(\"Meilleurs paramètres : \", ComplNB_grid.best_params_)\n",
    "\n",
    "#Prédiction avec les meilleurs paramètres obtenus\n",
    "best_ComplNB = ComplNB_grid.best_estimator_\n",
    "y_pred_best_ComplNB = best_ComplNB.predict(X_test)\n",
    "\n",
    "#Résultats\n",
    "print(\"Rapport de Classification Complement Naive Bayes :\\n\")\n",
    "print(classification_report(y_test, y_pred_best_ComplNB))"
   ]
  },
  {
   "cell_type": "markdown",
   "metadata": {},
   "source": [
    "### b. SVM"
   ]
  },
  {
   "cell_type": "code",
   "execution_count": 46,
   "metadata": {},
   "outputs": [
    {
     "name": "stdout",
     "output_type": "stream",
     "text": [
      "Fitting 5 folds for each of 24 candidates, totalling 120 fits\n",
      "[CV] END C=0.2, class_weight=balanced, dual=True, max_iter=700; total time=   6.4s\n",
      "[CV] END C=0.2, class_weight=balanced, dual=True, max_iter=700; total time=   6.4s\n",
      "[CV] END C=0.2, class_weight=balanced, dual=True, max_iter=700; total time=   6.5s\n",
      "[CV] END C=0.2, class_weight=balanced, dual=True, max_iter=700; total time=   6.6s\n",
      "[CV] END C=0.2, class_weight=balanced, dual=True, max_iter=700; total time=   5.8s\n",
      "[CV] END C=0.2, class_weight=balanced, dual=True, max_iter=1000; total time=   5.7s\n",
      "[CV] END C=0.2, class_weight=balanced, dual=True, max_iter=1000; total time=   5.9s\n",
      "[CV] END C=0.2, class_weight=balanced, dual=True, max_iter=1000; total time=   5.8s\n",
      "[CV] END C=0.2, class_weight=balanced, dual=True, max_iter=1000; total time=   5.6s\n",
      "[CV] END C=0.2, class_weight=balanced, dual=True, max_iter=1000; total time=   5.7s\n",
      "[CV] END C=0.2, class_weight=balanced, dual=False, max_iter=700; total time=  17.3s\n",
      "[CV] END C=0.2, class_weight=balanced, dual=False, max_iter=700; total time=  18.0s\n",
      "[CV] END C=0.2, class_weight=balanced, dual=False, max_iter=700; total time=  16.4s\n",
      "[CV] END C=0.2, class_weight=balanced, dual=False, max_iter=700; total time=  18.2s\n",
      "[CV] END C=0.2, class_weight=balanced, dual=False, max_iter=700; total time=  17.3s\n",
      "[CV] END C=0.2, class_weight=balanced, dual=False, max_iter=1000; total time=  17.3s\n",
      "[CV] END C=0.2, class_weight=balanced, dual=False, max_iter=1000; total time=  17.0s\n",
      "[CV] END C=0.2, class_weight=balanced, dual=False, max_iter=1000; total time=  18.7s\n",
      "[CV] END ..C=0.2, class_weight=None, dual=True, max_iter=700; total time=   5.3s\n",
      "[CV] END ..C=0.2, class_weight=None, dual=True, max_iter=700; total time=   5.2s\n",
      "[CV] END ..C=0.2, class_weight=None, dual=True, max_iter=700; total time=   5.3s\n",
      "[CV] END C=0.2, class_weight=balanced, dual=False, max_iter=1000; total time=  17.4s\n",
      "[CV] END ..C=0.2, class_weight=None, dual=True, max_iter=700; total time=   5.9s\n",
      "[CV] END C=0.2, class_weight=balanced, dual=False, max_iter=1000; total time=  18.5s\n",
      "[CV] END ..C=0.2, class_weight=None, dual=True, max_iter=700; total time=   6.0s\n",
      "[CV] END .C=0.2, class_weight=None, dual=True, max_iter=1000; total time=   5.7s\n",
      "[CV] END .C=0.2, class_weight=None, dual=True, max_iter=1000; total time=   5.6s\n",
      "[CV] END .C=0.2, class_weight=None, dual=True, max_iter=1000; total time=   5.7s\n",
      "[CV] END .C=0.2, class_weight=None, dual=True, max_iter=1000; total time=   5.6s\n",
      "[CV] END .C=0.2, class_weight=None, dual=True, max_iter=1000; total time=   5.6s\n",
      "[CV] END .C=0.2, class_weight=None, dual=False, max_iter=700; total time=  18.5s\n",
      "[CV] END .C=0.2, class_weight=None, dual=False, max_iter=700; total time=  18.4s\n",
      "[CV] END .C=0.2, class_weight=None, dual=False, max_iter=700; total time=  18.3s\n",
      "[CV] END .C=0.2, class_weight=None, dual=False, max_iter=700; total time=  18.7s\n",
      "[CV] END .C=0.2, class_weight=None, dual=False, max_iter=700; total time=  17.7s\n",
      "[CV] END C=0.2, class_weight=None, dual=False, max_iter=1000; total time=  17.8s\n",
      "[CV] END C=0.2, class_weight=None, dual=False, max_iter=1000; total time=  17.7s\n",
      "[CV] END C=0.2, class_weight=None, dual=False, max_iter=1000; total time=  17.9s\n",
      "[CV] END C=1, class_weight=balanced, dual=True, max_iter=700; total time=  14.6s\n",
      "[CV] END C=0.2, class_weight=None, dual=False, max_iter=1000; total time=  18.2s\n",
      "[CV] END C=0.2, class_weight=None, dual=False, max_iter=1000; total time=  17.9s\n",
      "[CV] END C=1, class_weight=balanced, dual=True, max_iter=700; total time=  14.9s\n",
      "[CV] END C=1, class_weight=balanced, dual=True, max_iter=700; total time=  16.2s\n",
      "[CV] END C=1, class_weight=balanced, dual=True, max_iter=700; total time=  16.2s\n",
      "[CV] END C=1, class_weight=balanced, dual=True, max_iter=700; total time=  16.0s\n",
      "[CV] END C=1, class_weight=balanced, dual=True, max_iter=1000; total time=  15.9s\n",
      "[CV] END C=1, class_weight=balanced, dual=True, max_iter=1000; total time=  15.1s\n",
      "[CV] END C=1, class_weight=balanced, dual=True, max_iter=1000; total time=  15.4s\n",
      "[CV] END C=1, class_weight=balanced, dual=True, max_iter=1000; total time=  15.5s\n",
      "[CV] END C=1, class_weight=balanced, dual=True, max_iter=1000; total time=  15.5s\n",
      "[CV] END C=1, class_weight=balanced, dual=False, max_iter=700; total time=  33.7s\n",
      "[CV] END C=1, class_weight=balanced, dual=False, max_iter=700; total time=  30.9s\n",
      "[CV] END C=1, class_weight=balanced, dual=False, max_iter=700; total time=  32.3s\n",
      "[CV] END C=1, class_weight=balanced, dual=False, max_iter=700; total time=  35.9s\n",
      "[CV] END C=1, class_weight=balanced, dual=False, max_iter=1000; total time=  31.1s\n",
      "[CV] END C=1, class_weight=balanced, dual=False, max_iter=1000; total time=  32.0s\n",
      "[CV] END C=1, class_weight=balanced, dual=False, max_iter=700; total time=  32.5s\n",
      "[CV] END C=1, class_weight=balanced, dual=False, max_iter=1000; total time=  34.9s\n",
      "[CV] END ....C=1, class_weight=None, dual=True, max_iter=700; total time=  13.7s\n",
      "[CV] END ....C=1, class_weight=None, dual=True, max_iter=700; total time=  13.8s\n",
      "[CV] END ....C=1, class_weight=None, dual=True, max_iter=700; total time=  13.0s\n",
      "[CV] END C=1, class_weight=balanced, dual=False, max_iter=1000; total time=  30.4s\n",
      "[CV] END C=1, class_weight=balanced, dual=False, max_iter=1000; total time=  33.2s\n",
      "[CV] END ....C=1, class_weight=None, dual=True, max_iter=700; total time=  12.8s\n",
      "[CV] END ....C=1, class_weight=None, dual=True, max_iter=700; total time=  12.9s\n",
      "[CV] END ...C=1, class_weight=None, dual=True, max_iter=1000; total time=  12.9s\n",
      "[CV] END ...C=1, class_weight=None, dual=True, max_iter=1000; total time=  13.0s\n",
      "[CV] END ...C=1, class_weight=None, dual=True, max_iter=1000; total time=  13.1s\n",
      "[CV] END ...C=1, class_weight=None, dual=True, max_iter=1000; total time=  13.2s\n",
      "[CV] END ...C=1, class_weight=None, dual=True, max_iter=1000; total time=  13.3s\n",
      "[CV] END ...C=1, class_weight=None, dual=False, max_iter=700; total time=  32.0s\n",
      "[CV] END ...C=1, class_weight=None, dual=False, max_iter=700; total time=  32.4s\n",
      "[CV] END ...C=1, class_weight=None, dual=False, max_iter=700; total time=  31.1s\n",
      "[CV] END ...C=1, class_weight=None, dual=False, max_iter=700; total time=  31.3s\n",
      "[CV] END ...C=1, class_weight=None, dual=False, max_iter=700; total time=  29.7s\n",
      "[CV] END ..C=1, class_weight=None, dual=False, max_iter=1000; total time=  30.5s\n",
      "[CV] END ..C=1, class_weight=None, dual=False, max_iter=1000; total time=  29.3s\n",
      "[CV] END ..C=1, class_weight=None, dual=False, max_iter=1000; total time=  29.1s\n",
      "[CV] END ..C=1, class_weight=None, dual=False, max_iter=1000; total time=  30.6s\n",
      "[CV] END ..C=1, class_weight=None, dual=False, max_iter=1000; total time=  30.5s\n"
     ]
    },
    {
     "name": "stderr",
     "output_type": "stream",
     "text": [
      "/Users/manongourves/envs/app_auto/lib/python3.11/site-packages/sklearn/svm/_base.py:1235: ConvergenceWarning: Liblinear failed to converge, increase the number of iterations.\n",
      "  warnings.warn(\n"
     ]
    },
    {
     "name": "stdout",
     "output_type": "stream",
     "text": [
      "[CV] END C=10, class_weight=balanced, dual=True, max_iter=700; total time= 1.5min\n"
     ]
    },
    {
     "name": "stderr",
     "output_type": "stream",
     "text": [
      "/Users/manongourves/envs/app_auto/lib/python3.11/site-packages/sklearn/svm/_base.py:1235: ConvergenceWarning: Liblinear failed to converge, increase the number of iterations.\n",
      "  warnings.warn(\n"
     ]
    },
    {
     "name": "stdout",
     "output_type": "stream",
     "text": [
      "[CV] END C=10, class_weight=balanced, dual=True, max_iter=700; total time= 1.6min\n"
     ]
    },
    {
     "name": "stderr",
     "output_type": "stream",
     "text": [
      "/Users/manongourves/envs/app_auto/lib/python3.11/site-packages/sklearn/svm/_base.py:1235: ConvergenceWarning: Liblinear failed to converge, increase the number of iterations.\n",
      "  warnings.warn(\n"
     ]
    },
    {
     "name": "stdout",
     "output_type": "stream",
     "text": [
      "[CV] END C=10, class_weight=balanced, dual=True, max_iter=700; total time= 1.5min\n"
     ]
    },
    {
     "name": "stderr",
     "output_type": "stream",
     "text": [
      "/Users/manongourves/envs/app_auto/lib/python3.11/site-packages/sklearn/svm/_base.py:1235: ConvergenceWarning: Liblinear failed to converge, increase the number of iterations.\n",
      "  warnings.warn(\n"
     ]
    },
    {
     "name": "stdout",
     "output_type": "stream",
     "text": [
      "[CV] END C=10, class_weight=balanced, dual=True, max_iter=700; total time= 1.6min\n"
     ]
    },
    {
     "name": "stderr",
     "output_type": "stream",
     "text": [
      "/Users/manongourves/envs/app_auto/lib/python3.11/site-packages/sklearn/svm/_base.py:1235: ConvergenceWarning: Liblinear failed to converge, increase the number of iterations.\n",
      "  warnings.warn(\n"
     ]
    },
    {
     "name": "stdout",
     "output_type": "stream",
     "text": [
      "[CV] END C=10, class_weight=balanced, dual=True, max_iter=700; total time= 1.5min\n",
      "[CV] END C=10, class_weight=balanced, dual=True, max_iter=1000; total time= 1.5min\n",
      "[CV] END C=10, class_weight=balanced, dual=True, max_iter=1000; total time= 1.5min\n",
      "[CV] END C=10, class_weight=balanced, dual=True, max_iter=1000; total time= 1.7min\n",
      "[CV] END C=10, class_weight=balanced, dual=True, max_iter=1000; total time= 1.5min\n",
      "[CV] END C=10, class_weight=balanced, dual=False, max_iter=700; total time= 1.2min\n",
      "[CV] END C=10, class_weight=balanced, dual=True, max_iter=1000; total time= 1.6min\n",
      "[CV] END C=10, class_weight=balanced, dual=False, max_iter=700; total time= 1.1min\n",
      "[CV] END C=10, class_weight=balanced, dual=False, max_iter=700; total time= 1.0min\n",
      "[CV] END C=10, class_weight=balanced, dual=False, max_iter=700; total time= 1.2min\n",
      "[CV] END C=10, class_weight=balanced, dual=False, max_iter=1000; total time= 1.1min\n",
      "[CV] END C=10, class_weight=balanced, dual=False, max_iter=700; total time= 1.3min\n",
      "[CV] END C=10, class_weight=balanced, dual=False, max_iter=1000; total time= 1.1min\n",
      "[CV] END C=10, class_weight=balanced, dual=False, max_iter=1000; total time= 1.0min\n",
      "[CV] END C=10, class_weight=balanced, dual=False, max_iter=1000; total time= 1.2min\n",
      "[CV] END C=10, class_weight=balanced, dual=False, max_iter=1000; total time= 1.3min\n",
      "[CV] END ...C=10, class_weight=None, dual=True, max_iter=700; total time= 1.3min\n",
      "[CV] END ...C=10, class_weight=None, dual=True, max_iter=700; total time= 1.3min\n",
      "[CV] END ...C=10, class_weight=None, dual=True, max_iter=700; total time= 1.4min\n",
      "[CV] END ...C=10, class_weight=None, dual=True, max_iter=700; total time= 1.4min\n",
      "[CV] END ...C=10, class_weight=None, dual=True, max_iter=700; total time= 1.3min\n",
      "[CV] END ..C=10, class_weight=None, dual=True, max_iter=1000; total time= 1.3min\n",
      "[CV] END ..C=10, class_weight=None, dual=True, max_iter=1000; total time= 1.3min\n",
      "[CV] END ..C=10, class_weight=None, dual=True, max_iter=1000; total time= 1.3min\n",
      "[CV] END ..C=10, class_weight=None, dual=True, max_iter=1000; total time= 1.3min\n",
      "[CV] END ..C=10, class_weight=None, dual=False, max_iter=700; total time= 1.3min\n",
      "[CV] END ..C=10, class_weight=None, dual=True, max_iter=1000; total time= 1.4min\n",
      "[CV] END ..C=10, class_weight=None, dual=False, max_iter=700; total time= 1.3min\n",
      "[CV] END ..C=10, class_weight=None, dual=False, max_iter=700; total time= 1.2min\n",
      "[CV] END ..C=10, class_weight=None, dual=False, max_iter=700; total time= 1.1min\n",
      "[CV] END ..C=10, class_weight=None, dual=False, max_iter=700; total time= 1.2min\n",
      "[CV] END .C=10, class_weight=None, dual=False, max_iter=1000; total time= 1.3min\n",
      "[CV] END .C=10, class_weight=None, dual=False, max_iter=1000; total time= 1.3min\n",
      "[CV] END .C=10, class_weight=None, dual=False, max_iter=1000; total time= 1.2min\n",
      "[CV] END .C=10, class_weight=None, dual=False, max_iter=1000; total time= 1.1min\n",
      "[CV] END .C=10, class_weight=None, dual=False, max_iter=1000; total time= 1.0min\n",
      "Meilleurs paramètres :  {'C': 0.2, 'class_weight': None, 'dual': False, 'max_iter': 700}\n",
      "Rapport de Classification SVM :\n",
      "\n"
     ]
    },
    {
     "name": "stderr",
     "output_type": "stream",
     "text": [
      "/Users/manongourves/envs/app_auto/lib/python3.11/site-packages/sklearn/metrics/_classification.py:1531: UndefinedMetricWarning: Precision is ill-defined and being set to 0.0 in labels with no predicted samples. Use `zero_division` parameter to control this behavior.\n",
      "  _warn_prf(average, modifier, f\"{metric.capitalize()} is\", len(result))\n"
     ]
    },
    {
     "name": "stdout",
     "output_type": "stream",
     "text": [
      "              precision    recall  f1-score   support\n",
      "\n",
      "        ELDR       0.28      0.09      0.14      4017\n",
      "     GUE-NGL       0.31      0.31      0.31      5379\n",
      "      PPE-DE       0.42      0.60      0.49     13713\n",
      "         PSE       0.36      0.35      0.36     10881\n",
      "     Unknown       0.00      0.00      0.00         6\n",
      "   Verts-ALE       0.30      0.13      0.18      4755\n",
      "\n",
      "    accuracy                           0.38     38751\n",
      "   macro avg       0.28      0.25      0.25     38751\n",
      "weighted avg       0.36      0.38      0.35     38751\n",
      "\n"
     ]
    },
    {
     "name": "stderr",
     "output_type": "stream",
     "text": [
      "/Users/manongourves/envs/app_auto/lib/python3.11/site-packages/sklearn/metrics/_classification.py:1531: UndefinedMetricWarning: Precision is ill-defined and being set to 0.0 in labels with no predicted samples. Use `zero_division` parameter to control this behavior.\n",
      "  _warn_prf(average, modifier, f\"{metric.capitalize()} is\", len(result))\n",
      "/Users/manongourves/envs/app_auto/lib/python3.11/site-packages/sklearn/metrics/_classification.py:1531: UndefinedMetricWarning: Precision is ill-defined and being set to 0.0 in labels with no predicted samples. Use `zero_division` parameter to control this behavior.\n",
      "  _warn_prf(average, modifier, f\"{metric.capitalize()} is\", len(result))\n"
     ]
    }
   ],
   "source": [
    "param_gridSVM = { \n",
    "    \"C\" : [0.2, 1, 10],\n",
    "    \"dual\": [True, False],\n",
    "    \"class_weight\" : [\"balanced\", None],\n",
    "    \"max_iter\" : [700, 1000]\n",
    "}\n",
    "\n",
    "#Initialisation\n",
    "svm = LinearSVC()\n",
    "svm_grid = GridSearchCV(svm, param_gridSVM, cv=5, verbose=2, n_jobs=-1)\n",
    "\n",
    "#Entraînement du modèle\n",
    "svm_grid.fit(X_train, y_train)\n",
    "\n",
    "#Afficher les meilleurs paramètres\n",
    "print(\"Meilleurs paramètres : \", svm_grid.best_params_)\n",
    "\n",
    "#Prédiction avec les meilleurs paramètres obtenus\n",
    "best_svm = svm_grid.best_estimator_\n",
    "y_pred_best_svm = best_svm.predict(X_test)\n",
    "\n",
    "#Résultats\n",
    "print(\"Rapport de Classification SVM :\\n\")\n",
    "print(classification_report(y_test, y_pred_best_svm))"
   ]
  },
  {
   "cell_type": "markdown",
   "metadata": {},
   "source": [
    "### c. Logistic Regression "
   ]
  },
  {
   "cell_type": "code",
   "execution_count": 15,
   "metadata": {},
   "outputs": [
    {
     "name": "stdout",
     "output_type": "stream",
     "text": [
      "Fitting 5 folds for each of 12 candidates, totalling 60 fits\n",
      "[CV] END ........C=0.2, class_weight=balanced, max_iter=2000; total time=  56.0s\n",
      "[CV] END ........C=0.2, class_weight=balanced, max_iter=1000; total time= 1.0min\n",
      "[CV] END ........C=0.2, class_weight=balanced, max_iter=1000; total time= 1.0min\n",
      "[CV] END ........C=0.2, class_weight=balanced, max_iter=1000; total time= 1.2min\n",
      "[CV] END ........C=0.2, class_weight=balanced, max_iter=2000; total time= 1.2min\n",
      "[CV] END ........C=0.2, class_weight=balanced, max_iter=1000; total time= 1.3min\n",
      "[CV] END ........C=0.2, class_weight=balanced, max_iter=1000; total time= 1.3min\n",
      "[CV] END ........C=0.2, class_weight=balanced, max_iter=2000; total time= 1.4min\n",
      "[CV] END ........C=0.2, class_weight=balanced, max_iter=2000; total time= 1.0min\n",
      "[CV] END ............C=0.2, class_weight=None, max_iter=1000; total time= 1.1min\n",
      "[CV] END ........C=0.2, class_weight=balanced, max_iter=2000; total time= 1.3min\n",
      "[CV] END ............C=0.2, class_weight=None, max_iter=1000; total time= 1.1min\n",
      "[CV] END ............C=0.2, class_weight=None, max_iter=1000; total time= 1.2min\n",
      "[CV] END ............C=0.2, class_weight=None, max_iter=1000; total time= 1.2min\n",
      "[CV] END ............C=0.2, class_weight=None, max_iter=1000; total time= 1.3min\n",
      "[CV] END ............C=0.2, class_weight=None, max_iter=2000; total time= 1.1min\n",
      "[CV] END ............C=0.2, class_weight=None, max_iter=2000; total time= 1.2min\n",
      "[CV] END ............C=0.2, class_weight=None, max_iter=2000; total time= 1.1min\n",
      "[CV] END ............C=0.2, class_weight=None, max_iter=2000; total time= 1.1min\n",
      "[CV] END ............C=0.2, class_weight=None, max_iter=2000; total time= 1.2min\n",
      "[CV] END ..........C=1, class_weight=balanced, max_iter=1000; total time= 2.2min\n",
      "[CV] END ..........C=1, class_weight=balanced, max_iter=1000; total time= 2.2min\n",
      "[CV] END ..........C=1, class_weight=balanced, max_iter=1000; total time= 2.2min\n",
      "[CV] END ..........C=1, class_weight=balanced, max_iter=1000; total time= 2.0min\n",
      "[CV] END ..........C=1, class_weight=balanced, max_iter=1000; total time= 2.9min\n",
      "[CV] END ..........C=1, class_weight=balanced, max_iter=2000; total time= 2.0min\n",
      "[CV] END ..........C=1, class_weight=balanced, max_iter=2000; total time= 2.3min\n",
      "[CV] END ..........C=1, class_weight=balanced, max_iter=2000; total time= 2.7min\n",
      "[CV] END ..........C=1, class_weight=balanced, max_iter=2000; total time= 2.0min\n",
      "[CV] END ..........C=1, class_weight=balanced, max_iter=2000; total time= 2.2min\n",
      "[CV] END ..............C=1, class_weight=None, max_iter=1000; total time= 2.2min\n",
      "[CV] END ..............C=1, class_weight=None, max_iter=1000; total time= 1.9min\n",
      "[CV] END ..............C=1, class_weight=None, max_iter=1000; total time= 2.2min\n",
      "[CV] END ..............C=1, class_weight=None, max_iter=1000; total time= 2.5min\n",
      "[CV] END ..............C=1, class_weight=None, max_iter=1000; total time= 2.2min\n",
      "[CV] END ..............C=1, class_weight=None, max_iter=2000; total time= 2.4min\n",
      "[CV] END ..............C=1, class_weight=None, max_iter=2000; total time= 2.0min\n",
      "[CV] END ..............C=1, class_weight=None, max_iter=2000; total time= 2.3min\n",
      "[CV] END ..............C=1, class_weight=None, max_iter=2000; total time= 2.5min\n",
      "[CV] END ..............C=1, class_weight=None, max_iter=2000; total time= 2.3min\n",
      "[CV] END .........C=10, class_weight=balanced, max_iter=1000; total time= 4.7min\n",
      "[CV] END .........C=10, class_weight=balanced, max_iter=1000; total time= 5.4min\n",
      "[CV] END .........C=10, class_weight=balanced, max_iter=1000; total time= 4.9min\n",
      "[CV] END .........C=10, class_weight=balanced, max_iter=1000; total time= 5.0min\n",
      "[CV] END .........C=10, class_weight=balanced, max_iter=1000; total time= 4.8min\n",
      "[CV] END .........C=10, class_weight=balanced, max_iter=2000; total time= 4.9min\n",
      "[CV] END .........C=10, class_weight=balanced, max_iter=2000; total time= 4.9min\n",
      "[CV] END .........C=10, class_weight=balanced, max_iter=2000; total time= 5.5min\n",
      "[CV] END .........C=10, class_weight=balanced, max_iter=2000; total time= 4.9min\n",
      "[CV] END .........C=10, class_weight=balanced, max_iter=2000; total time= 5.5min\n",
      "[CV] END .............C=10, class_weight=None, max_iter=1000; total time= 6.1min\n",
      "[CV] END .............C=10, class_weight=None, max_iter=1000; total time= 5.0min\n",
      "[CV] END .............C=10, class_weight=None, max_iter=1000; total time= 6.1min\n",
      "[CV] END .............C=10, class_weight=None, max_iter=1000; total time= 5.3min\n",
      "[CV] END .............C=10, class_weight=None, max_iter=1000; total time= 6.0min\n",
      "[CV] END .............C=10, class_weight=None, max_iter=2000; total time= 5.5min\n",
      "[CV] END .............C=10, class_weight=None, max_iter=2000; total time= 4.1min\n",
      "[CV] END .............C=10, class_weight=None, max_iter=2000; total time= 4.0min\n",
      "[CV] END .............C=10, class_weight=None, max_iter=2000; total time= 2.9min\n",
      "[CV] END .............C=10, class_weight=None, max_iter=2000; total time= 2.8min\n",
      "Meilleurs paramètres :  {'C': 1, 'class_weight': None, 'max_iter': 1000}\n",
      "Rapport de Classification Logistic Regression :\n",
      "\n"
     ]
    },
    {
     "name": "stderr",
     "output_type": "stream",
     "text": [
      "/home/lucile/S1/ApprentissageAutomatique/apprautovenv/lib/python3.11/site-packages/sklearn/metrics/_classification.py:1531: UndefinedMetricWarning: Precision is ill-defined and being set to 0.0 in labels with no predicted samples. Use `zero_division` parameter to control this behavior.\n",
      "  _warn_prf(average, modifier, f\"{metric.capitalize()} is\", len(result))\n",
      "/home/lucile/S1/ApprentissageAutomatique/apprautovenv/lib/python3.11/site-packages/sklearn/metrics/_classification.py:1531: UndefinedMetricWarning: Precision is ill-defined and being set to 0.0 in labels with no predicted samples. Use `zero_division` parameter to control this behavior.\n",
      "  _warn_prf(average, modifier, f\"{metric.capitalize()} is\", len(result))\n"
     ]
    },
    {
     "name": "stdout",
     "output_type": "stream",
     "text": [
      "              precision    recall  f1-score   support\n",
      "\n",
      "        ELDR       0.10      0.03      0.04      4017\n",
      "     GUE-NGL       0.14      0.13      0.14      5379\n",
      "      PPE-DE       0.36      0.53      0.43     13713\n",
      "         PSE       0.28      0.28      0.28     10881\n",
      "     Unknown       0.00      0.00      0.00         6\n",
      "   Verts-ALE       0.14      0.05      0.07      4755\n",
      "\n",
      "    accuracy                           0.29     38751\n",
      "   macro avg       0.17      0.17      0.16     38751\n",
      "weighted avg       0.25      0.29      0.26     38751\n",
      "\n"
     ]
    },
    {
     "name": "stderr",
     "output_type": "stream",
     "text": [
      "/home/lucile/S1/ApprentissageAutomatique/apprautovenv/lib/python3.11/site-packages/sklearn/metrics/_classification.py:1531: UndefinedMetricWarning: Precision is ill-defined and being set to 0.0 in labels with no predicted samples. Use `zero_division` parameter to control this behavior.\n",
      "  _warn_prf(average, modifier, f\"{metric.capitalize()} is\", len(result))\n"
     ]
    }
   ],
   "source": [
    "param_gridLR = { \n",
    "    \"C\" : [0.2, 1, 10],\n",
    "    \"class_weight\" : [\"balanced\", None],\n",
    "    \"max_iter\" : [1000, 2000]\n",
    "}\n",
    "\n",
    "#Initialisation\n",
    "LR = LogisticRegression()\n",
    "LR_grid = GridSearchCV(LR, param_gridLR, cv=5, verbose=2, n_jobs=-1)\n",
    "\n",
    "#Entraînement du modèle\n",
    "LR_grid.fit(X_train, y_train)\n",
    "\n",
    "#Afficher les meilleurs paramètres\n",
    "print(\"Meilleurs paramètres : \", LR_grid.best_params_)\n",
    "\n",
    "#Prédiction avec les meilleurs paramètres obtenus\n",
    "best_LR = LR_grid.best_estimator_\n",
    "y_pred_best_LR = best_LR.predict(X_test)\n",
    "\n",
    "#Résultats\n",
    "print(\"Rapport de Classification Logistic Regression :\\n\")\n",
    "print(classification_report(y_test, y_pred_best_LR))"
   ]
  },
  {
   "cell_type": "markdown",
   "metadata": {},
   "source": [
    "### d. Random Forest\n",
    "\n",
    "Avec notre matériel, l'exécution de la cellule suivante pour effectuer de Grid Search sur Random Forest a pris 100minutes soit 1h40.\n",
    "De plus, les résultats ne sont pas intéressants car moins bons que d'autres méthodes.\n",
    "\n",
    "Nous ne trouvons donc pas pertinent d'exécuter la cellule suivante et vous le déconseillons donc."
   ]
  },
  {
   "cell_type": "code",
   "execution_count": 17,
   "metadata": {},
   "outputs": [
    {
     "name": "stdout",
     "output_type": "stream",
     "text": [
      "Fitting 5 folds for each of 8 candidates, totalling 40 fits\n",
      "[CV] END max_depth=100, min_samples_split=2, n_estimators=50; total time= 8.2min\n",
      "[CV] END max_depth=100, min_samples_split=2, n_estimators=50; total time= 8.4min\n",
      "[CV] END max_depth=100, min_samples_split=2, n_estimators=50; total time= 8.5min\n",
      "[CV] END max_depth=100, min_samples_split=2, n_estimators=50; total time= 8.7min\n",
      "[CV] END max_depth=100, min_samples_split=2, n_estimators=50; total time= 8.8min\n",
      "[CV] END max_depth=100, min_samples_split=5, n_estimators=50; total time= 6.2min\n",
      "[CV] END max_depth=100, min_samples_split=5, n_estimators=50; total time= 6.2min\n",
      "[CV] END max_depth=100, min_samples_split=5, n_estimators=50; total time= 6.3min\n",
      "[CV] END max_depth=100, min_samples_split=2, n_estimators=100; total time=16.2min\n",
      "[CV] END max_depth=100, min_samples_split=2, n_estimators=100; total time=16.3min\n",
      "[CV] END max_depth=100, min_samples_split=2, n_estimators=100; total time=17.3min\n",
      "[CV] END max_depth=100, min_samples_split=5, n_estimators=50; total time= 5.9min\n",
      "[CV] END max_depth=100, min_samples_split=5, n_estimators=50; total time= 6.1min\n",
      "[CV] END max_depth=100, min_samples_split=2, n_estimators=100; total time=16.6min\n",
      "[CV] END max_depth=100, min_samples_split=2, n_estimators=100; total time=16.6min\n",
      "[CV] END max_depth=100, min_samples_split=5, n_estimators=100; total time=12.0min\n",
      "[CV] END max_depth=100, min_samples_split=5, n_estimators=100; total time=11.9min\n",
      "[CV] END max_depth=100, min_samples_split=5, n_estimators=100; total time=12.5min\n",
      "[CV] END max_depth=100, min_samples_split=5, n_estimators=100; total time=12.3min\n",
      "[CV] END max_depth=100, min_samples_split=5, n_estimators=100; total time=12.7min\n",
      "[CV] END max_depth=250, min_samples_split=2, n_estimators=50; total time=18.4min\n",
      "[CV] END max_depth=250, min_samples_split=2, n_estimators=50; total time=19.4min\n",
      "[CV] END max_depth=250, min_samples_split=2, n_estimators=50; total time=19.6min\n",
      "[CV] END max_depth=250, min_samples_split=2, n_estimators=50; total time=19.8min\n",
      "[CV] END max_depth=250, min_samples_split=2, n_estimators=50; total time=19.7min\n",
      "[CV] END max_depth=250, min_samples_split=5, n_estimators=50; total time=13.2min\n",
      "[CV] END max_depth=250, min_samples_split=5, n_estimators=50; total time=14.0min\n",
      "[CV] END max_depth=250, min_samples_split=5, n_estimators=50; total time=13.5min\n",
      "[CV] END max_depth=250, min_samples_split=2, n_estimators=100; total time=38.7min\n",
      "[CV] END max_depth=250, min_samples_split=2, n_estimators=100; total time=39.1min\n",
      "[CV] END max_depth=250, min_samples_split=5, n_estimators=50; total time=13.1min\n",
      "[CV] END max_depth=250, min_samples_split=2, n_estimators=100; total time=39.1min\n",
      "[CV] END max_depth=250, min_samples_split=5, n_estimators=50; total time=13.7min\n",
      "[CV] END max_depth=250, min_samples_split=2, n_estimators=100; total time=37.5min\n",
      "[CV] END max_depth=250, min_samples_split=2, n_estimators=100; total time=37.2min\n",
      "[CV] END max_depth=250, min_samples_split=5, n_estimators=100; total time=22.7min\n",
      "[CV] END max_depth=250, min_samples_split=5, n_estimators=100; total time=20.2min\n",
      "[CV] END max_depth=250, min_samples_split=5, n_estimators=100; total time=20.4min\n",
      "[CV] END max_depth=250, min_samples_split=5, n_estimators=100; total time=19.7min\n",
      "[CV] END max_depth=250, min_samples_split=5, n_estimators=100; total time=19.4min\n",
      "Meilleurs paramètres :  {'max_depth': 250, 'min_samples_split': 5, 'n_estimators': 100}\n",
      "Rapport de Classification Random Forest :\n",
      "\n"
     ]
    },
    {
     "name": "stderr",
     "output_type": "stream",
     "text": [
      "/home/lucile/S1/ApprentissageAutomatique/apprautovenv/lib/python3.11/site-packages/sklearn/metrics/_classification.py:1531: UndefinedMetricWarning: Precision is ill-defined and being set to 0.0 in labels with no predicted samples. Use `zero_division` parameter to control this behavior.\n",
      "  _warn_prf(average, modifier, f\"{metric.capitalize()} is\", len(result))\n",
      "/home/lucile/S1/ApprentissageAutomatique/apprautovenv/lib/python3.11/site-packages/sklearn/metrics/_classification.py:1531: UndefinedMetricWarning: Precision is ill-defined and being set to 0.0 in labels with no predicted samples. Use `zero_division` parameter to control this behavior.\n",
      "  _warn_prf(average, modifier, f\"{metric.capitalize()} is\", len(result))\n"
     ]
    },
    {
     "name": "stdout",
     "output_type": "stream",
     "text": [
      "              precision    recall  f1-score   support\n",
      "\n",
      "        ELDR       0.10      0.01      0.02      4017\n",
      "     GUE-NGL       0.14      0.15      0.14      5379\n",
      "      PPE-DE       0.35      0.67      0.46     13713\n",
      "         PSE       0.28      0.15      0.20     10881\n",
      "     Unknown       0.00      0.00      0.00         6\n",
      "   Verts-ALE       0.12      0.01      0.02      4755\n",
      "\n",
      "    accuracy                           0.30     38751\n",
      "   macro avg       0.17      0.17      0.14     38751\n",
      "weighted avg       0.25      0.30      0.24     38751\n",
      "\n"
     ]
    },
    {
     "name": "stderr",
     "output_type": "stream",
     "text": [
      "/home/lucile/S1/ApprentissageAutomatique/apprautovenv/lib/python3.11/site-packages/sklearn/metrics/_classification.py:1531: UndefinedMetricWarning: Precision is ill-defined and being set to 0.0 in labels with no predicted samples. Use `zero_division` parameter to control this behavior.\n",
      "  _warn_prf(average, modifier, f\"{metric.capitalize()} is\", len(result))\n"
     ]
    }
   ],
   "source": [
    "# param_gridRF = {\n",
    "#     \"n_estimators\" : [50, 100], \n",
    "#     \"max_depth\" : [100, 250], \n",
    "#     \"min_samples_split\" : [2, 5], \n",
    "# }\n",
    "\n",
    "# #Initialisation\n",
    "# RF = RandomForestClassifier(random_state=42)\n",
    "# RF_grid = GridSearchCV(RF, param_gridRF, cv=5, verbose=2, n_jobs=-1)\n",
    "\n",
    "# #Entraînement du modèle\n",
    "# RF_grid.fit(X_train, y_train)\n",
    "\n",
    "# #Afficher les meilleurs paramètres\n",
    "# print(\"Meilleurs paramètres : \", RF_grid.best_params_)\n",
    "\n",
    "# #Prédiction avec les meilleurs paramètres obtenus\n",
    "# best_RF = RF_grid.best_estimator_\n",
    "# y_pred_best_RF = best_RF.predict(X_test)\n",
    "\n",
    "# #Résultats\n",
    "# print(\"Rapport de Classification Random Forest :\\n\")\n",
    "# print(classification_report(y_test, y_pred_best_RF))\n"
   ]
  },
  {
   "cell_type": "markdown",
   "metadata": {},
   "source": [
    "## 6. Test de nouvelles vectorisations\n",
    "\n",
    "Les résultats de 2009 laissant à penser que les mauvais résultats obtenus étaient en partie dus aux traits discriminants sélectionnées, nous avons voulu tester d'autres méthodes de vectorisation avec les algorithmes précédemment testés.\n",
    "\n",
    "Nous avons sélectionné 3 vectorisations à tester :\n",
    "\n",
    "- tf-idf vectoriser prenant en compte le contexte avec des bigrammes\n",
    "- Word2Vec\n",
    "- Doc2Vec\n",
    "\n",
    "### tf-idf Vectoriser & bigrammes"
   ]
  },
  {
   "cell_type": "code",
   "execution_count": null,
   "metadata": {},
   "outputs": [],
   "source": [
    "tfidf = TfidfVectorizer(stop_words=stopwords_list, ngram_range=(1,2))\n",
    "X_train = tfidf.fit_transform(textes_train)\n",
    "X_test = tfidf.transform(textes_test)"
   ]
  },
  {
   "cell_type": "markdown",
   "metadata": {},
   "source": [
    "#### tf-idf Vectoriser &  + KNN"
   ]
  },
  {
   "cell_type": "code",
   "execution_count": null,
   "metadata": {},
   "outputs": [],
   "source": [
    "param_gridKNN = {\n",
    "    \"n_neighbors\" : [1, 2, 10, 15],\n",
    "    \"weights\" : [\"uniform\", \"distance\"], \n",
    "}\n",
    "\n",
    "#Initialisation\n",
    "KNN = KNeighborsClassifier()\n",
    "KNN_grid = GridSearchCV(KNN, param_gridKNN, cv=5, verbose=2, n_jobs=-1)\n",
    "\n",
    "#Entraînement du modèle\n",
    "KNN_grid.fit(X_train, y_train)\n",
    "\n",
    "#Afficher les meilleurs paramètres\n",
    "print(\"Meilleurs paramètres : \", KNN_grid.best_params_)\n",
    "\n",
    "#Prédiction avec les meilleurs paramètres obtenus\n",
    "best_KNN = KNN_grid.best_estimator_\n",
    "y_pred_best_KNN = best_KNN.predict(X_test)\n",
    "\n",
    "#Résultats\n",
    "print(\"Rapport de Classification KNeighbors Classifier:\\n\")\n",
    "print(classification_report(y_test, y_pred_best_KNN))"
   ]
  },
  {
   "cell_type": "markdown",
   "metadata": {},
   "source": [
    "#### tf-idf Vectoriser &  + MultiNB"
   ]
  },
  {
   "cell_type": "code",
   "execution_count": null,
   "metadata": {},
   "outputs": [],
   "source": [
    "param_gridMultiNB = {\n",
    "    \"alpha\": [0.05, 0.2, 0.7, 1.0, 2],\n",
    "    \"fit_prior\": [True, False]\n",
    "}\n",
    "\n",
    "#Initialisation\n",
    "MultiNB = MultinomialNB()\n",
    "MultiNB_grid = GridSearchCV(MultiNB, param_gridMultiNB, cv=5, verbose=2, n_jobs=-1)\n",
    "\n",
    "#Entraînement du modèle\n",
    "MultiNB_grid.fit(X_train, y_train)\n",
    "\n",
    "#Afficher les meilleurs paramètres\n",
    "print(\"Meilleurs paramètres : \", MultiNB_grid.best_params_)\n",
    "\n",
    "#Prédiction avec les meilleurs paramètres obtenus\n",
    "best_MultiNB = MultiNB_grid.best_estimator_\n",
    "y_pred_best_MultiNB = best_MultiNB.predict(X_test)\n",
    "\n",
    "#Résultats\n",
    "print(\"Rapport de Classification Multinomial Naive Bayes:\\n\")\n",
    "print(classification_report(y_test, y_pred_best_MultiNB))"
   ]
  },
  {
   "cell_type": "markdown",
   "metadata": {},
   "source": [
    "#### tf-idf Vectoriser &  + ComplNB"
   ]
  },
  {
   "cell_type": "code",
   "execution_count": null,
   "metadata": {},
   "outputs": [],
   "source": [
    "param_gridComplNB = {\n",
    "    \"alpha\": [0.05, 0.2, 0.7, 1.0, 2],\n",
    "    \"fit_prior\": [True, False],\n",
    "    \"norm\": [True, False]\n",
    "}\n",
    "\n",
    "#Initialisation\n",
    "ComplNB = ComplementNB()\n",
    "ComplNB_grid = GridSearchCV(ComplNB, param_gridComplNB, cv=5, verbose=2, n_jobs=-1)\n",
    "\n",
    "#Entraînement du modèle\n",
    "ComplNB_grid.fit(X_train, y_train)\n",
    "\n",
    "#Afficher les meilleurs paramètres\n",
    "print(\"Meilleurs paramètres : \", ComplNB_grid.best_params_)\n",
    "\n",
    "#Prédiction avec les meilleurs paramètres obtenus\n",
    "best_ComplNB = ComplNB_grid.best_estimator_\n",
    "y_pred_best_ComplNB = best_ComplNB.predict(X_test)\n",
    "\n",
    "#Résultats\n",
    "print(\"Rapport de Classification Complement Naive Bayes :\\n\")\n",
    "print(classification_report(y_test, y_pred_best_ComplNB))\n"
   ]
  },
  {
   "cell_type": "markdown",
   "metadata": {},
   "source": [
    "#### tf-idf Vectoriser & bigrammes  + SVM"
   ]
  },
  {
   "cell_type": "code",
   "execution_count": null,
   "metadata": {},
   "outputs": [],
   "source": [
    "param_gridSVM = { \n",
    "    \"C\" : [0.2, 1, 10],\n",
    "    \"dual\": [True, False],\n",
    "    \"class_weight\" : [\"balanced\", None],\n",
    "    \"max_iter\" : [700, 1000]\n",
    "}\n",
    "\n",
    "#Initialisation\n",
    "svm = LinearSVC()\n",
    "svm_grid = GridSearchCV(svm, param_gridSVM, cv=5, verbose=2, n_jobs=-1)\n",
    "\n",
    "#Entraînement du modèle\n",
    "svm_grid.fit(X_train, y_train)\n",
    "\n",
    "#Afficher les meilleurs paramètres\n",
    "print(\"Meilleurs paramètres : \", svm_grid.best_params_)\n",
    "\n",
    "#Prédiction avec les meilleurs paramètres obtenus\n",
    "best_svm = svm_grid.best_estimator_\n",
    "y_pred_best_svm = best_svm.predict(X_test)\n",
    "\n",
    "#Résultats\n",
    "print(\"Rapport de Classification SVM :\\n\")\n",
    "print(classification_report(y_test, y_pred_best_svm))"
   ]
  },
  {
   "cell_type": "markdown",
   "metadata": {},
   "source": [
    "#### tf-idf Vectoriser & bigrammes + Logistic Regression"
   ]
  },
  {
   "cell_type": "code",
   "execution_count": null,
   "metadata": {},
   "outputs": [],
   "source": [
    "param_gridLR = { \n",
    "    \"C\" : [0.2, 1, 10],\n",
    "    \"class_weight\" : [\"balanced\", None],\n",
    "    \"max_iter\" : [1000, 2000]\n",
    "}\n",
    "\n",
    "#Initialisation\n",
    "LR = LogisticRegression()\n",
    "LR_grid = GridSearchCV(LR, param_gridLR, cv=5, verbose=2, n_jobs=-1)\n",
    "\n",
    "#Entraînement du modèle\n",
    "LR_grid.fit(X_train, y_train)\n",
    "\n",
    "#Afficher les meilleurs paramètres\n",
    "print(\"Meilleurs paramètres : \", LR_grid.best_params_)\n",
    "\n",
    "#Prédiction avec les meilleurs paramètres obtenus\n",
    "best_LR = LR_grid.best_estimator_\n",
    "y_pred_best_LR = best_LR.predict(X_test)\n",
    "\n",
    "#Résultats\n",
    "print(\"Rapport de Classification Logistic Regression :\\n\")\n",
    "print(classification_report(y_test, y_pred_best_LR))"
   ]
  },
  {
   "cell_type": "markdown",
   "metadata": {},
   "source": [
    "### Comparaison des performances des modèles tf-idf + bigrammes"
   ]
  },
  {
   "cell_type": "code",
   "execution_count": null,
   "metadata": {},
   "outputs": [],
   "source": [
    "# comparaison des performances des modèles\n",
    "resultats = pd.DataFrame({\n",
    "    \"Modèle\" : [\"KNeighbors Classifier\", \"Multinomial Naive Bayes\", \"Complement Naive Bayes\", \"SVM\", \"Logistic Regression\"],\n",
    "    \"Accuracy\" : [\n",
    "        accuracy_score(y_test, y_pred_best_KNN), \n",
    "        accuracy_score(y_test, y_pred_best_MultiNB), \n",
    "        accuracy_score(y_test, y_pred_best_ComplNB), \n",
    "        accuracy_score(y_test, y_pred_best_svm),\n",
    "        accuracy_score(y_test, y_pred_best_LR)],\n",
    "    \"Precision\" : [\n",
    "        precision_score(y_test, y_pred_best_KNN, average=\"weighted\"), \n",
    "        precision_score(y_test, y_pred_best_MultiNB, average=\"weighted\"), \n",
    "        precision_score(y_test, y_pred_best_ComplNB, average=\"weighted\"), \n",
    "        precision_score(y_test, y_pred_best_svm, average=\"weighted\"),\n",
    "        precision_score(y_test, y_pred_best_LR, average=\"weighted\")],\n",
    "    \"Recall\" : [\n",
    "        recall_score(y_test, y_pred_best_KNN, average=\"weighted\"), \n",
    "        recall_score(y_test, y_pred_best_MultiNB, average=\"weighted\"), \n",
    "        recall_score(y_test, y_pred_best_ComplNB, average=\"weighted\"), \n",
    "        recall_score(y_test, y_pred_best_svm, average=\"weighted\"),\n",
    "        recall_score(y_test, y_pred_best_LR, average=\"weighted\")],\n",
    "    \"F-mesure\" : [\n",
    "        f1_score(y_test, y_pred_best_KNN, average=\"weighted\"), \n",
    "        f1_score(y_test, y_pred_best_MultiNB, average=\"weighted\"), \n",
    "        f1_score(y_test, y_pred_best_ComplNB, average=\"weighted\"), \n",
    "        f1_score(y_test, y_pred_best_svm, average=\"weighted\"),\n",
    "        f1_score(y_test, y_pred_best_LR, average=\"weighted\")]\n",
    "})\n",
    "print(resultats)"
   ]
  },
  {
   "cell_type": "markdown",
   "metadata": {},
   "source": [
    "### Word2Vec"
   ]
  },
  {
   "cell_type": "code",
   "execution_count": 14,
   "metadata": {},
   "outputs": [
    {
     "name": "stderr",
     "output_type": "stream",
     "text": [
      "[nltk_data] Downloading package punkt_tab to /home/lucile/nltk_data...\n",
      "[nltk_data]   Package punkt_tab is already up-to-date!\n"
     ]
    }
   ],
   "source": [
    "# Entraîner Word2Vec sur les données d'entraînement\n",
    "\n",
    "nltk.download('punkt_tab')\n",
    "\n",
    "X_train_tokenized = [word_tokenize(texte) for texte in textes_train]\n",
    "\n",
    "word2vec_model = Word2Vec(sentences=X_train_tokenized, vector_size=100, window=5, min_count=1, workers=4)"
   ]
  },
  {
   "cell_type": "markdown",
   "metadata": {},
   "source": [
    "Afin de classifier les documents, il convient d'avoir 1 vecteur par document. Nous avons donc calculé la moyenne des vecteurs de mots afin d'obtenir des vecteurs de documents.\n",
    "\n",
    "Après réflexion, il aurait été plus pertinent d'utiliser directement l'algorithme Doc2Vec afin d'obtenir les vecteurs documents. Chose que nous avons faite par la suite"
   ]
  },
  {
   "cell_type": "code",
   "execution_count": null,
   "metadata": {},
   "outputs": [],
   "source": [
    "# Moyenne des vecteurs de mots pour vectoriser les documents\n",
    "\n",
    "X_test_tokenized = [word_tokenize(texte) for texte in textes_test]\n",
    "\n",
    "def vectoriser_docs(text, word2vec_model) :\n",
    "    words = [word for word in text if word in word2vec_model.wv]\n",
    "    if words:  # S'assurer que le texte contient des mots connus du modèle\n",
    "        return np.mean(word2vec_model.wv[words], axis=0)\n",
    "    else:\n",
    "        return np.zeros(word2vec_model.vector_size)\n",
    "\n",
    "X_train_vectors = [vectoriser_docs(text, word2vec_model) for text in X_train_tokenized]\n",
    "X_test_vectors = [vectoriser_docs(text, word2vec_model) for text in X_test_tokenized]"
   ]
  },
  {
   "cell_type": "markdown",
   "metadata": {},
   "source": [
    "#### Word2Vec + Logistic Regression"
   ]
  },
  {
   "cell_type": "code",
   "execution_count": 32,
   "metadata": {},
   "outputs": [
    {
     "name": "stdout",
     "output_type": "stream",
     "text": [
      "Fitting 5 folds for each of 12 candidates, totalling 60 fits\n",
      "[CV] END ........C=0.2, class_weight=balanced, max_iter=1000; total time=   8.4s\n",
      "[CV] END ........C=0.2, class_weight=balanced, max_iter=1000; total time=   8.6s\n",
      "[CV] END ........C=0.2, class_weight=balanced, max_iter=2000; total time=   8.9s\n",
      "[CV] END ........C=0.2, class_weight=balanced, max_iter=1000; total time=   9.1s\n",
      "[CV] END ........C=0.2, class_weight=balanced, max_iter=1000; total time=   9.1s\n",
      "[CV] END ........C=0.2, class_weight=balanced, max_iter=2000; total time=   9.0s\n",
      "[CV] END ........C=0.2, class_weight=balanced, max_iter=2000; total time=   9.2s\n",
      "[CV] END ........C=0.2, class_weight=balanced, max_iter=1000; total time=  10.0s\n",
      "[CV] END ........C=0.2, class_weight=balanced, max_iter=2000; total time=   6.4s\n",
      "[CV] END ............C=0.2, class_weight=None, max_iter=1000; total time=   7.3s\n",
      "[CV] END ............C=0.2, class_weight=None, max_iter=1000; total time=   8.4s\n",
      "[CV] END ............C=0.2, class_weight=None, max_iter=1000; total time=   8.7s\n",
      "[CV] END ............C=0.2, class_weight=None, max_iter=2000; total time=   8.6s\n",
      "[CV] END ............C=0.2, class_weight=None, max_iter=1000; total time=  10.0s\n",
      "[CV] END ............C=0.2, class_weight=None, max_iter=1000; total time=  10.0s\n",
      "[CV] END ........C=0.2, class_weight=balanced, max_iter=2000; total time=  11.1s\n",
      "[CV] END ............C=0.2, class_weight=None, max_iter=2000; total time=   8.7s\n",
      "[CV] END ............C=0.2, class_weight=None, max_iter=2000; total time=   8.3s\n",
      "[CV] END ............C=0.2, class_weight=None, max_iter=2000; total time=  10.7s\n",
      "[CV] END ............C=0.2, class_weight=None, max_iter=2000; total time=  10.1s\n",
      "[CV] END ..........C=1, class_weight=balanced, max_iter=1000; total time=  15.9s\n",
      "[CV] END ..........C=1, class_weight=balanced, max_iter=1000; total time=  16.8s\n",
      "[CV] END ..........C=1, class_weight=balanced, max_iter=1000; total time=  19.6s\n",
      "[CV] END ..........C=1, class_weight=balanced, max_iter=1000; total time=  15.8s\n",
      "[CV] END ..........C=1, class_weight=balanced, max_iter=1000; total time=  21.2s\n",
      "[CV] END ..........C=1, class_weight=balanced, max_iter=2000; total time=  16.2s\n",
      "[CV] END ..........C=1, class_weight=balanced, max_iter=2000; total time=  18.1s\n",
      "[CV] END ..........C=1, class_weight=balanced, max_iter=2000; total time=  19.6s\n",
      "[CV] END ..........C=1, class_weight=balanced, max_iter=2000; total time=  16.9s\n",
      "[CV] END ..........C=1, class_weight=balanced, max_iter=2000; total time=  19.0s\n",
      "[CV] END ..............C=1, class_weight=None, max_iter=1000; total time=  16.6s\n",
      "[CV] END ..............C=1, class_weight=None, max_iter=1000; total time=  18.1s\n",
      "[CV] END ..............C=1, class_weight=None, max_iter=1000; total time=  17.3s\n",
      "[CV] END ..............C=1, class_weight=None, max_iter=1000; total time=  13.7s\n",
      "[CV] END ..............C=1, class_weight=None, max_iter=1000; total time=  15.5s\n",
      "[CV] END ..............C=1, class_weight=None, max_iter=2000; total time=  16.1s\n",
      "[CV] END ..............C=1, class_weight=None, max_iter=2000; total time=  16.2s\n",
      "[CV] END ..............C=1, class_weight=None, max_iter=2000; total time=  14.8s\n",
      "[CV] END ..............C=1, class_weight=None, max_iter=2000; total time=  16.3s\n",
      "[CV] END ..............C=1, class_weight=None, max_iter=2000; total time=  17.4s\n",
      "[CV] END .........C=10, class_weight=balanced, max_iter=1000; total time=  28.5s\n",
      "[CV] END .........C=10, class_weight=balanced, max_iter=1000; total time=  31.6s\n",
      "[CV] END .........C=10, class_weight=balanced, max_iter=1000; total time=  36.4s\n",
      "[CV] END .........C=10, class_weight=balanced, max_iter=1000; total time=  40.5s\n",
      "[CV] END .........C=10, class_weight=balanced, max_iter=1000; total time=  30.5s\n",
      "[CV] END .........C=10, class_weight=balanced, max_iter=2000; total time=  36.2s\n",
      "[CV] END .........C=10, class_weight=balanced, max_iter=2000; total time=  35.6s\n",
      "[CV] END .........C=10, class_weight=balanced, max_iter=2000; total time=  37.1s\n",
      "[CV] END .........C=10, class_weight=balanced, max_iter=2000; total time=  34.4s\n",
      "[CV] END .............C=10, class_weight=None, max_iter=1000; total time=  23.2s\n",
      "[CV] END .........C=10, class_weight=balanced, max_iter=2000; total time=  32.5s\n",
      "[CV] END .............C=10, class_weight=None, max_iter=1000; total time=  35.2s\n",
      "[CV] END .............C=10, class_weight=None, max_iter=1000; total time=  38.0s\n",
      "[CV] END .............C=10, class_weight=None, max_iter=1000; total time=  32.8s\n",
      "[CV] END .............C=10, class_weight=None, max_iter=1000; total time=  33.5s\n",
      "[CV] END .............C=10, class_weight=None, max_iter=2000; total time=  24.1s\n",
      "[CV] END .............C=10, class_weight=None, max_iter=2000; total time=  26.3s\n",
      "[CV] END .............C=10, class_weight=None, max_iter=2000; total time=  36.9s\n",
      "[CV] END .............C=10, class_weight=None, max_iter=2000; total time=  24.4s\n",
      "[CV] END .............C=10, class_weight=None, max_iter=2000; total time=  20.2s\n",
      "Meilleurs paramètres :  {'C': 1, 'class_weight': None, 'max_iter': 1000}\n",
      "Rapport de Classification Logistic Regression :\n",
      "\n"
     ]
    },
    {
     "name": "stderr",
     "output_type": "stream",
     "text": [
      "/home/lucile/S1/ApprentissageAutomatique/apprautovenv/lib/python3.11/site-packages/sklearn/metrics/_classification.py:1531: UndefinedMetricWarning: Precision is ill-defined and being set to 0.0 in labels with no predicted samples. Use `zero_division` parameter to control this behavior.\n",
      "  _warn_prf(average, modifier, f\"{metric.capitalize()} is\", len(result))\n",
      "/home/lucile/S1/ApprentissageAutomatique/apprautovenv/lib/python3.11/site-packages/sklearn/metrics/_classification.py:1531: UndefinedMetricWarning: Precision is ill-defined and being set to 0.0 in labels with no predicted samples. Use `zero_division` parameter to control this behavior.\n",
      "  _warn_prf(average, modifier, f\"{metric.capitalize()} is\", len(result))\n"
     ]
    },
    {
     "name": "stdout",
     "output_type": "stream",
     "text": [
      "              precision    recall  f1-score   support\n",
      "\n",
      "        ELDR       0.00      0.00      0.00      1339\n",
      "     GUE-NGL       0.15      0.95      0.26      1793\n",
      "      PPE-DE       0.00      0.00      0.00      4571\n",
      "         PSE       0.00      0.00      0.00      3627\n",
      "     Unknown       0.00      0.00      0.00         2\n",
      "   Verts-ALE       0.14      0.12      0.13      1585\n",
      "\n",
      "    accuracy                           0.15     12917\n",
      "   macro avg       0.05      0.18      0.06     12917\n",
      "weighted avg       0.04      0.15      0.05     12917\n",
      "\n"
     ]
    },
    {
     "name": "stderr",
     "output_type": "stream",
     "text": [
      "/home/lucile/S1/ApprentissageAutomatique/apprautovenv/lib/python3.11/site-packages/sklearn/metrics/_classification.py:1531: UndefinedMetricWarning: Precision is ill-defined and being set to 0.0 in labels with no predicted samples. Use `zero_division` parameter to control this behavior.\n",
      "  _warn_prf(average, modifier, f\"{metric.capitalize()} is\", len(result))\n"
     ]
    }
   ],
   "source": [
    "param_gridLR_W2V = { \n",
    "    \"C\" : [0.2, 1, 10],\n",
    "    \"class_weight\" : [\"balanced\", None],\n",
    "    \"max_iter\" : [1000, 2000]\n",
    "}\n",
    "\n",
    "#Initialisation\n",
    "LR_W2V = LogisticRegression()\n",
    "LR_W2V_grid = GridSearchCV(LR_W2V, param_gridLR_W2V, cv=5, verbose=2, n_jobs=-1)\n",
    "\n",
    "#Entraînement du modèle\n",
    "LR_W2V_grid.fit(X_train_vectors, y_train)\n",
    "\n",
    "#Afficher les meilleurs paramètres\n",
    "print(\"Meilleurs paramètres : \", LR_W2V_grid.best_params_)\n",
    "\n",
    "#Prédiction avec les meilleurs paramètres obtenus\n",
    "best_LR_W2V = LR_W2V_grid.best_estimator_\n",
    "y_pred_best_LR_W2V = best_LR_W2V.predict(X_test_vectors)\n",
    "\n",
    "#Résultats\n",
    "print(\"Rapport de Classification Logistic Regression :\\n\")\n",
    "print(classification_report(y_test, y_pred_best_LR_W2V))"
   ]
  },
  {
   "cell_type": "markdown",
   "metadata": {},
   "source": [
    "#### Word2Vec +  SVM"
   ]
  },
  {
   "cell_type": "code",
   "execution_count": 30,
   "metadata": {},
   "outputs": [
    {
     "name": "stdout",
     "output_type": "stream",
     "text": [
      "Fitting 5 folds for each of 24 candidates, totalling 120 fits\n",
      "[CV] END C=0.2, class_weight=balanced, dual=True, max_iter=700; total time=  53.2s\n",
      "[CV] END C=0.2, class_weight=balanced, dual=True, max_iter=1000; total time= 1.1min\n",
      "[CV] END C=0.2, class_weight=balanced, dual=True, max_iter=700; total time= 1.1min\n",
      "[CV] END C=0.2, class_weight=balanced, dual=True, max_iter=700; total time= 1.1min\n",
      "[CV] END C=0.2, class_weight=balanced, dual=True, max_iter=1000; total time= 1.2min\n",
      "[CV] END C=0.2, class_weight=balanced, dual=True, max_iter=700; total time= 1.2min\n",
      "[CV] END C=0.2, class_weight=balanced, dual=True, max_iter=1000; total time= 1.2min\n",
      "[CV] END C=0.2, class_weight=balanced, dual=True, max_iter=700; total time= 1.4min\n",
      "[CV] END C=0.2, class_weight=balanced, dual=False, max_iter=700; total time=  24.0s\n",
      "[CV] END C=0.2, class_weight=balanced, dual=False, max_iter=700; total time=  29.1s\n",
      "[CV] END C=0.2, class_weight=balanced, dual=False, max_iter=700; total time=  28.2s\n",
      "[CV] END C=0.2, class_weight=balanced, dual=False, max_iter=700; total time=  32.1s\n",
      "[CV] END C=0.2, class_weight=balanced, dual=False, max_iter=700; total time=  30.1s\n",
      "[CV] END C=0.2, class_weight=balanced, dual=False, max_iter=1000; total time=  28.2s\n",
      "[CV] END C=0.2, class_weight=balanced, dual=False, max_iter=1000; total time=  24.8s\n",
      "[CV] END C=0.2, class_weight=balanced, dual=False, max_iter=1000; total time=  29.0s\n",
      "[CV] END C=0.2, class_weight=balanced, dual=True, max_iter=1000; total time= 1.2min\n",
      "[CV] END C=0.2, class_weight=balanced, dual=False, max_iter=1000; total time=  30.1s\n",
      "[CV] END C=0.2, class_weight=balanced, dual=False, max_iter=1000; total time=  27.7s\n",
      "[CV] END C=0.2, class_weight=balanced, dual=True, max_iter=1000; total time= 1.4min\n",
      "[CV] END ..C=0.2, class_weight=None, dual=True, max_iter=700; total time=  45.7s\n",
      "[CV] END ..C=0.2, class_weight=None, dual=True, max_iter=700; total time=  57.6s\n",
      "[CV] END ..C=0.2, class_weight=None, dual=True, max_iter=700; total time=  49.9s\n",
      "[CV] END ..C=0.2, class_weight=None, dual=True, max_iter=700; total time=  47.2s\n",
      "[CV] END ..C=0.2, class_weight=None, dual=True, max_iter=700; total time=  49.2s\n",
      "[CV] END .C=0.2, class_weight=None, dual=True, max_iter=1000; total time=  50.2s\n",
      "[CV] END .C=0.2, class_weight=None, dual=True, max_iter=1000; total time=  58.9s\n",
      "[CV] END .C=0.2, class_weight=None, dual=False, max_iter=700; total time=  25.7s\n",
      "[CV] END .C=0.2, class_weight=None, dual=True, max_iter=1000; total time=  50.1s\n",
      "[CV] END .C=0.2, class_weight=None, dual=False, max_iter=700; total time=  28.8s\n",
      "[CV] END .C=0.2, class_weight=None, dual=False, max_iter=700; total time=  25.6s\n",
      "[CV] END .C=0.2, class_weight=None, dual=False, max_iter=700; total time=  29.8s\n",
      "[CV] END .C=0.2, class_weight=None, dual=True, max_iter=1000; total time=  50.2s\n",
      "[CV] END .C=0.2, class_weight=None, dual=True, max_iter=1000; total time=  58.0s\n",
      "[CV] END .C=0.2, class_weight=None, dual=False, max_iter=700; total time=  33.5s\n",
      "[CV] END C=0.2, class_weight=None, dual=False, max_iter=1000; total time=  22.8s\n",
      "[CV] END C=0.2, class_weight=None, dual=False, max_iter=1000; total time=  24.9s\n",
      "[CV] END C=0.2, class_weight=None, dual=False, max_iter=1000; total time=  27.5s\n",
      "[CV] END C=0.2, class_weight=None, dual=False, max_iter=1000; total time=  25.7s\n",
      "[CV] END C=0.2, class_weight=None, dual=False, max_iter=1000; total time=  29.9s\n"
     ]
    },
    {
     "name": "stderr",
     "output_type": "stream",
     "text": [
      "/home/lucile/S1/ApprentissageAutomatique/apprautovenv/lib/python3.11/site-packages/sklearn/svm/_base.py:1235: ConvergenceWarning: Liblinear failed to converge, increase the number of iterations.\n",
      "  warnings.warn(\n"
     ]
    },
    {
     "name": "stdout",
     "output_type": "stream",
     "text": [
      "[CV] END C=1, class_weight=balanced, dual=True, max_iter=700; total time= 3.8min\n"
     ]
    },
    {
     "name": "stderr",
     "output_type": "stream",
     "text": [
      "/home/lucile/S1/ApprentissageAutomatique/apprautovenv/lib/python3.11/site-packages/sklearn/svm/_base.py:1235: ConvergenceWarning: Liblinear failed to converge, increase the number of iterations.\n",
      "  warnings.warn(\n"
     ]
    },
    {
     "name": "stdout",
     "output_type": "stream",
     "text": [
      "[CV] END C=1, class_weight=balanced, dual=True, max_iter=700; total time= 3.7min\n"
     ]
    },
    {
     "name": "stderr",
     "output_type": "stream",
     "text": [
      "/home/lucile/S1/ApprentissageAutomatique/apprautovenv/lib/python3.11/site-packages/sklearn/svm/_base.py:1235: ConvergenceWarning: Liblinear failed to converge, increase the number of iterations.\n",
      "  warnings.warn(\n"
     ]
    },
    {
     "name": "stdout",
     "output_type": "stream",
     "text": [
      "[CV] END C=1, class_weight=balanced, dual=True, max_iter=700; total time= 3.6min\n"
     ]
    },
    {
     "name": "stderr",
     "output_type": "stream",
     "text": [
      "/home/lucile/S1/ApprentissageAutomatique/apprautovenv/lib/python3.11/site-packages/sklearn/svm/_base.py:1235: ConvergenceWarning: Liblinear failed to converge, increase the number of iterations.\n",
      "  warnings.warn(\n"
     ]
    },
    {
     "name": "stdout",
     "output_type": "stream",
     "text": [
      "[CV] END C=1, class_weight=balanced, dual=True, max_iter=700; total time= 3.6min\n"
     ]
    },
    {
     "name": "stderr",
     "output_type": "stream",
     "text": [
      "/home/lucile/S1/ApprentissageAutomatique/apprautovenv/lib/python3.11/site-packages/sklearn/svm/_base.py:1235: ConvergenceWarning: Liblinear failed to converge, increase the number of iterations.\n",
      "  warnings.warn(\n"
     ]
    },
    {
     "name": "stdout",
     "output_type": "stream",
     "text": [
      "[CV] END C=1, class_weight=balanced, dual=True, max_iter=700; total time= 3.9min\n",
      "[CV] END C=1, class_weight=balanced, dual=False, max_iter=700; total time=  38.5s\n",
      "[CV] END C=1, class_weight=balanced, dual=False, max_iter=700; total time=  40.1s\n",
      "[CV] END C=1, class_weight=balanced, dual=False, max_iter=700; total time=  49.2s\n"
     ]
    },
    {
     "name": "stderr",
     "output_type": "stream",
     "text": [
      "/home/lucile/S1/ApprentissageAutomatique/apprautovenv/lib/python3.11/site-packages/sklearn/svm/_base.py:1235: ConvergenceWarning: Liblinear failed to converge, increase the number of iterations.\n",
      "  warnings.warn(\n"
     ]
    },
    {
     "name": "stdout",
     "output_type": "stream",
     "text": [
      "[CV] END C=1, class_weight=balanced, dual=True, max_iter=1000; total time= 4.8min\n",
      "[CV] END C=1, class_weight=balanced, dual=False, max_iter=700; total time=  43.2s\n",
      "[CV] END C=1, class_weight=balanced, dual=False, max_iter=700; total time=  39.9s\n"
     ]
    },
    {
     "name": "stderr",
     "output_type": "stream",
     "text": [
      "/home/lucile/S1/ApprentissageAutomatique/apprautovenv/lib/python3.11/site-packages/sklearn/svm/_base.py:1235: ConvergenceWarning: Liblinear failed to converge, increase the number of iterations.\n",
      "  warnings.warn(\n"
     ]
    },
    {
     "name": "stdout",
     "output_type": "stream",
     "text": [
      "[CV] END C=1, class_weight=balanced, dual=True, max_iter=1000; total time= 5.1min\n",
      "[CV] END C=1, class_weight=balanced, dual=False, max_iter=1000; total time=  45.0s\n"
     ]
    },
    {
     "name": "stderr",
     "output_type": "stream",
     "text": [
      "/home/lucile/S1/ApprentissageAutomatique/apprautovenv/lib/python3.11/site-packages/sklearn/svm/_base.py:1235: ConvergenceWarning: Liblinear failed to converge, increase the number of iterations.\n",
      "  warnings.warn(\n"
     ]
    },
    {
     "name": "stdout",
     "output_type": "stream",
     "text": [
      "[CV] END C=1, class_weight=balanced, dual=True, max_iter=1000; total time= 5.4min\n",
      "[CV] END C=1, class_weight=balanced, dual=False, max_iter=1000; total time=  41.4s\n",
      "[CV] END C=1, class_weight=balanced, dual=False, max_iter=1000; total time=  40.3s\n",
      "[CV] END C=1, class_weight=balanced, dual=False, max_iter=1000; total time=  43.8s\n",
      "[CV] END C=1, class_weight=balanced, dual=False, max_iter=1000; total time=  38.1s\n"
     ]
    },
    {
     "name": "stderr",
     "output_type": "stream",
     "text": [
      "/home/lucile/S1/ApprentissageAutomatique/apprautovenv/lib/python3.11/site-packages/sklearn/svm/_base.py:1235: ConvergenceWarning: Liblinear failed to converge, increase the number of iterations.\n",
      "  warnings.warn(\n"
     ]
    },
    {
     "name": "stdout",
     "output_type": "stream",
     "text": [
      "[CV] END C=1, class_weight=balanced, dual=True, max_iter=1000; total time= 4.8min\n"
     ]
    },
    {
     "name": "stderr",
     "output_type": "stream",
     "text": [
      "/home/lucile/S1/ApprentissageAutomatique/apprautovenv/lib/python3.11/site-packages/sklearn/svm/_base.py:1235: ConvergenceWarning: Liblinear failed to converge, increase the number of iterations.\n",
      "  warnings.warn(\n"
     ]
    },
    {
     "name": "stdout",
     "output_type": "stream",
     "text": [
      "[CV] END C=1, class_weight=balanced, dual=True, max_iter=1000; total time= 4.8min\n"
     ]
    },
    {
     "name": "stderr",
     "output_type": "stream",
     "text": [
      "/home/lucile/S1/ApprentissageAutomatique/apprautovenv/lib/python3.11/site-packages/sklearn/svm/_base.py:1235: ConvergenceWarning: Liblinear failed to converge, increase the number of iterations.\n",
      "  warnings.warn(\n"
     ]
    },
    {
     "name": "stdout",
     "output_type": "stream",
     "text": [
      "[CV] END ....C=1, class_weight=None, dual=True, max_iter=700; total time= 3.2min\n"
     ]
    },
    {
     "name": "stderr",
     "output_type": "stream",
     "text": [
      "/home/lucile/S1/ApprentissageAutomatique/apprautovenv/lib/python3.11/site-packages/sklearn/svm/_base.py:1235: ConvergenceWarning: Liblinear failed to converge, increase the number of iterations.\n",
      "  warnings.warn(\n"
     ]
    },
    {
     "name": "stdout",
     "output_type": "stream",
     "text": [
      "[CV] END ....C=1, class_weight=None, dual=True, max_iter=700; total time= 3.3min\n"
     ]
    },
    {
     "name": "stderr",
     "output_type": "stream",
     "text": [
      "/home/lucile/S1/ApprentissageAutomatique/apprautovenv/lib/python3.11/site-packages/sklearn/svm/_base.py:1235: ConvergenceWarning: Liblinear failed to converge, increase the number of iterations.\n",
      "  warnings.warn(\n"
     ]
    },
    {
     "name": "stdout",
     "output_type": "stream",
     "text": [
      "[CV] END ....C=1, class_weight=None, dual=True, max_iter=700; total time= 3.5min\n"
     ]
    },
    {
     "name": "stderr",
     "output_type": "stream",
     "text": [
      "/home/lucile/S1/ApprentissageAutomatique/apprautovenv/lib/python3.11/site-packages/sklearn/svm/_base.py:1235: ConvergenceWarning: Liblinear failed to converge, increase the number of iterations.\n",
      "  warnings.warn(\n"
     ]
    },
    {
     "name": "stdout",
     "output_type": "stream",
     "text": [
      "[CV] END ....C=1, class_weight=None, dual=True, max_iter=700; total time= 3.2min\n"
     ]
    },
    {
     "name": "stderr",
     "output_type": "stream",
     "text": [
      "/home/lucile/S1/ApprentissageAutomatique/apprautovenv/lib/python3.11/site-packages/sklearn/svm/_base.py:1235: ConvergenceWarning: Liblinear failed to converge, increase the number of iterations.\n",
      "  warnings.warn(\n"
     ]
    },
    {
     "name": "stdout",
     "output_type": "stream",
     "text": [
      "[CV] END ....C=1, class_weight=None, dual=True, max_iter=700; total time= 3.4min\n",
      "[CV] END ...C=1, class_weight=None, dual=False, max_iter=700; total time=  35.3s\n",
      "[CV] END ...C=1, class_weight=None, dual=False, max_iter=700; total time=  36.3s\n",
      "[CV] END ...C=1, class_weight=None, dual=False, max_iter=700; total time=  33.4s\n",
      "[CV] END ...C=1, class_weight=None, dual=False, max_iter=700; total time=  28.4s\n",
      "[CV] END ...C=1, class_weight=None, dual=False, max_iter=700; total time=  36.7s\n",
      "[CV] END ..C=1, class_weight=None, dual=False, max_iter=1000; total time=  29.6s\n"
     ]
    },
    {
     "name": "stderr",
     "output_type": "stream",
     "text": [
      "/home/lucile/S1/ApprentissageAutomatique/apprautovenv/lib/python3.11/site-packages/sklearn/svm/_base.py:1235: ConvergenceWarning: Liblinear failed to converge, increase the number of iterations.\n",
      "  warnings.warn(\n"
     ]
    },
    {
     "name": "stdout",
     "output_type": "stream",
     "text": [
      "[CV] END ...C=1, class_weight=None, dual=True, max_iter=1000; total time= 4.4min\n",
      "[CV] END ..C=1, class_weight=None, dual=False, max_iter=1000; total time=  33.1s\n",
      "[CV] END ..C=1, class_weight=None, dual=False, max_iter=1000; total time=  35.8s\n",
      "[CV] END ..C=1, class_weight=None, dual=False, max_iter=1000; total time=  34.7s\n",
      "[CV] END ..C=1, class_weight=None, dual=False, max_iter=1000; total time=  34.1s\n"
     ]
    },
    {
     "name": "stderr",
     "output_type": "stream",
     "text": [
      "/home/lucile/S1/ApprentissageAutomatique/apprautovenv/lib/python3.11/site-packages/sklearn/svm/_base.py:1235: ConvergenceWarning: Liblinear failed to converge, increase the number of iterations.\n",
      "  warnings.warn(\n"
     ]
    },
    {
     "name": "stdout",
     "output_type": "stream",
     "text": [
      "[CV] END ...C=1, class_weight=None, dual=True, max_iter=1000; total time= 3.8min\n"
     ]
    },
    {
     "name": "stderr",
     "output_type": "stream",
     "text": [
      "/home/lucile/S1/ApprentissageAutomatique/apprautovenv/lib/python3.11/site-packages/sklearn/svm/_base.py:1235: ConvergenceWarning: Liblinear failed to converge, increase the number of iterations.\n",
      "  warnings.warn(\n"
     ]
    },
    {
     "name": "stdout",
     "output_type": "stream",
     "text": [
      "[CV] END ...C=1, class_weight=None, dual=True, max_iter=1000; total time= 4.3min\n"
     ]
    },
    {
     "name": "stderr",
     "output_type": "stream",
     "text": [
      "/home/lucile/S1/ApprentissageAutomatique/apprautovenv/lib/python3.11/site-packages/sklearn/svm/_base.py:1235: ConvergenceWarning: Liblinear failed to converge, increase the number of iterations.\n",
      "  warnings.warn(\n"
     ]
    },
    {
     "name": "stdout",
     "output_type": "stream",
     "text": [
      "[CV] END ...C=1, class_weight=None, dual=True, max_iter=1000; total time= 4.4min\n"
     ]
    },
    {
     "name": "stderr",
     "output_type": "stream",
     "text": [
      "/home/lucile/S1/ApprentissageAutomatique/apprautovenv/lib/python3.11/site-packages/sklearn/svm/_base.py:1235: ConvergenceWarning: Liblinear failed to converge, increase the number of iterations.\n",
      "  warnings.warn(\n"
     ]
    },
    {
     "name": "stdout",
     "output_type": "stream",
     "text": [
      "[CV] END ...C=1, class_weight=None, dual=True, max_iter=1000; total time= 4.1min\n"
     ]
    },
    {
     "name": "stderr",
     "output_type": "stream",
     "text": [
      "/home/lucile/S1/ApprentissageAutomatique/apprautovenv/lib/python3.11/site-packages/sklearn/svm/_base.py:1235: ConvergenceWarning: Liblinear failed to converge, increase the number of iterations.\n",
      "  warnings.warn(\n"
     ]
    },
    {
     "name": "stdout",
     "output_type": "stream",
     "text": [
      "[CV] END C=10, class_weight=balanced, dual=True, max_iter=700; total time= 2.9min\n"
     ]
    },
    {
     "name": "stderr",
     "output_type": "stream",
     "text": [
      "/home/lucile/S1/ApprentissageAutomatique/apprautovenv/lib/python3.11/site-packages/sklearn/svm/_base.py:1235: ConvergenceWarning: Liblinear failed to converge, increase the number of iterations.\n",
      "  warnings.warn(\n"
     ]
    },
    {
     "name": "stdout",
     "output_type": "stream",
     "text": [
      "[CV] END C=10, class_weight=balanced, dual=True, max_iter=700; total time= 3.0min\n"
     ]
    },
    {
     "name": "stderr",
     "output_type": "stream",
     "text": [
      "/home/lucile/S1/ApprentissageAutomatique/apprautovenv/lib/python3.11/site-packages/sklearn/svm/_base.py:1235: ConvergenceWarning: Liblinear failed to converge, increase the number of iterations.\n",
      "  warnings.warn(\n"
     ]
    },
    {
     "name": "stdout",
     "output_type": "stream",
     "text": [
      "[CV] END C=10, class_weight=balanced, dual=True, max_iter=700; total time= 3.1min\n"
     ]
    },
    {
     "name": "stderr",
     "output_type": "stream",
     "text": [
      "/home/lucile/S1/ApprentissageAutomatique/apprautovenv/lib/python3.11/site-packages/sklearn/svm/_base.py:1235: ConvergenceWarning: Liblinear failed to converge, increase the number of iterations.\n",
      "  warnings.warn(\n"
     ]
    },
    {
     "name": "stdout",
     "output_type": "stream",
     "text": [
      "[CV] END C=10, class_weight=balanced, dual=True, max_iter=700; total time= 3.2min\n",
      "[CV] END C=10, class_weight=balanced, dual=False, max_iter=700; total time= 1.1min\n",
      "[CV] END C=10, class_weight=balanced, dual=False, max_iter=700; total time= 1.0min\n"
     ]
    },
    {
     "name": "stderr",
     "output_type": "stream",
     "text": [
      "/home/lucile/S1/ApprentissageAutomatique/apprautovenv/lib/python3.11/site-packages/sklearn/svm/_base.py:1235: ConvergenceWarning: Liblinear failed to converge, increase the number of iterations.\n",
      "  warnings.warn(\n"
     ]
    },
    {
     "name": "stdout",
     "output_type": "stream",
     "text": [
      "[CV] END C=10, class_weight=balanced, dual=True, max_iter=700; total time= 3.2min\n",
      "[CV] END C=10, class_weight=balanced, dual=False, max_iter=700; total time= 1.1min\n",
      "[CV] END C=10, class_weight=balanced, dual=False, max_iter=700; total time= 1.2min\n",
      "[CV] END C=10, class_weight=balanced, dual=False, max_iter=700; total time= 1.1min\n",
      "[CV] END C=10, class_weight=balanced, dual=False, max_iter=1000; total time= 1.1min\n",
      "[CV] END C=10, class_weight=balanced, dual=False, max_iter=1000; total time= 1.3min\n"
     ]
    },
    {
     "name": "stderr",
     "output_type": "stream",
     "text": [
      "/home/lucile/S1/ApprentissageAutomatique/apprautovenv/lib/python3.11/site-packages/sklearn/svm/_base.py:1235: ConvergenceWarning: Liblinear failed to converge, increase the number of iterations.\n",
      "  warnings.warn(\n"
     ]
    },
    {
     "name": "stdout",
     "output_type": "stream",
     "text": [
      "[CV] END C=10, class_weight=balanced, dual=True, max_iter=1000; total time= 4.6min\n"
     ]
    },
    {
     "name": "stderr",
     "output_type": "stream",
     "text": [
      "/home/lucile/S1/ApprentissageAutomatique/apprautovenv/lib/python3.11/site-packages/sklearn/svm/_base.py:1235: ConvergenceWarning: Liblinear failed to converge, increase the number of iterations.\n",
      "  warnings.warn(\n"
     ]
    },
    {
     "name": "stdout",
     "output_type": "stream",
     "text": [
      "[CV] END C=10, class_weight=balanced, dual=True, max_iter=1000; total time= 4.9min\n"
     ]
    },
    {
     "name": "stderr",
     "output_type": "stream",
     "text": [
      "/home/lucile/S1/ApprentissageAutomatique/apprautovenv/lib/python3.11/site-packages/sklearn/svm/_base.py:1235: ConvergenceWarning: Liblinear failed to converge, increase the number of iterations.\n",
      "  warnings.warn(\n"
     ]
    },
    {
     "name": "stdout",
     "output_type": "stream",
     "text": [
      "[CV] END C=10, class_weight=balanced, dual=True, max_iter=1000; total time= 5.1min\n",
      "[CV] END C=10, class_weight=balanced, dual=False, max_iter=1000; total time= 1.5min\n"
     ]
    },
    {
     "name": "stderr",
     "output_type": "stream",
     "text": [
      "/home/lucile/S1/ApprentissageAutomatique/apprautovenv/lib/python3.11/site-packages/sklearn/svm/_base.py:1235: ConvergenceWarning: Liblinear failed to converge, increase the number of iterations.\n",
      "  warnings.warn(\n"
     ]
    },
    {
     "name": "stdout",
     "output_type": "stream",
     "text": [
      "[CV] END C=10, class_weight=balanced, dual=True, max_iter=1000; total time= 4.9min\n",
      "[CV] END C=10, class_weight=balanced, dual=False, max_iter=1000; total time= 1.2min\n",
      "[CV] END C=10, class_weight=balanced, dual=False, max_iter=1000; total time= 1.2min\n"
     ]
    },
    {
     "name": "stderr",
     "output_type": "stream",
     "text": [
      "/home/lucile/S1/ApprentissageAutomatique/apprautovenv/lib/python3.11/site-packages/sklearn/svm/_base.py:1235: ConvergenceWarning: Liblinear failed to converge, increase the number of iterations.\n",
      "  warnings.warn(\n"
     ]
    },
    {
     "name": "stdout",
     "output_type": "stream",
     "text": [
      "[CV] END C=10, class_weight=balanced, dual=True, max_iter=1000; total time= 5.2min\n"
     ]
    },
    {
     "name": "stderr",
     "output_type": "stream",
     "text": [
      "/home/lucile/S1/ApprentissageAutomatique/apprautovenv/lib/python3.11/site-packages/sklearn/svm/_base.py:1235: ConvergenceWarning: Liblinear failed to converge, increase the number of iterations.\n",
      "  warnings.warn(\n"
     ]
    },
    {
     "name": "stdout",
     "output_type": "stream",
     "text": [
      "[CV] END ...C=10, class_weight=None, dual=True, max_iter=700; total time= 3.6min\n"
     ]
    },
    {
     "name": "stderr",
     "output_type": "stream",
     "text": [
      "/home/lucile/S1/ApprentissageAutomatique/apprautovenv/lib/python3.11/site-packages/sklearn/svm/_base.py:1235: ConvergenceWarning: Liblinear failed to converge, increase the number of iterations.\n",
      "  warnings.warn(\n"
     ]
    },
    {
     "name": "stdout",
     "output_type": "stream",
     "text": [
      "[CV] END ...C=10, class_weight=None, dual=True, max_iter=700; total time= 3.9min\n"
     ]
    },
    {
     "name": "stderr",
     "output_type": "stream",
     "text": [
      "/home/lucile/S1/ApprentissageAutomatique/apprautovenv/lib/python3.11/site-packages/sklearn/svm/_base.py:1235: ConvergenceWarning: Liblinear failed to converge, increase the number of iterations.\n",
      "  warnings.warn(\n"
     ]
    },
    {
     "name": "stdout",
     "output_type": "stream",
     "text": [
      "[CV] END ...C=10, class_weight=None, dual=True, max_iter=700; total time= 3.6min\n"
     ]
    },
    {
     "name": "stderr",
     "output_type": "stream",
     "text": [
      "/home/lucile/S1/ApprentissageAutomatique/apprautovenv/lib/python3.11/site-packages/sklearn/svm/_base.py:1235: ConvergenceWarning: Liblinear failed to converge, increase the number of iterations.\n",
      "  warnings.warn(\n"
     ]
    },
    {
     "name": "stdout",
     "output_type": "stream",
     "text": [
      "[CV] END ...C=10, class_weight=None, dual=True, max_iter=700; total time= 3.7min\n"
     ]
    },
    {
     "name": "stderr",
     "output_type": "stream",
     "text": [
      "/home/lucile/S1/ApprentissageAutomatique/apprautovenv/lib/python3.11/site-packages/sklearn/svm/_base.py:1235: ConvergenceWarning: Liblinear failed to converge, increase the number of iterations.\n",
      "  warnings.warn(\n"
     ]
    },
    {
     "name": "stdout",
     "output_type": "stream",
     "text": [
      "[CV] END ...C=10, class_weight=None, dual=True, max_iter=700; total time= 4.0min\n",
      "[CV] END ..C=10, class_weight=None, dual=False, max_iter=700; total time= 1.2min\n",
      "[CV] END ..C=10, class_weight=None, dual=False, max_iter=700; total time= 1.4min\n",
      "[CV] END ..C=10, class_weight=None, dual=False, max_iter=700; total time= 1.1min\n"
     ]
    },
    {
     "name": "stderr",
     "output_type": "stream",
     "text": [
      "/home/lucile/S1/ApprentissageAutomatique/apprautovenv/lib/python3.11/site-packages/sklearn/svm/_base.py:1235: ConvergenceWarning: Liblinear failed to converge, increase the number of iterations.\n",
      "  warnings.warn(\n"
     ]
    },
    {
     "name": "stdout",
     "output_type": "stream",
     "text": [
      "[CV] END ..C=10, class_weight=None, dual=True, max_iter=1000; total time= 5.2min\n"
     ]
    },
    {
     "name": "stderr",
     "output_type": "stream",
     "text": [
      "/home/lucile/S1/ApprentissageAutomatique/apprautovenv/lib/python3.11/site-packages/sklearn/svm/_base.py:1235: ConvergenceWarning: Liblinear failed to converge, increase the number of iterations.\n",
      "  warnings.warn(\n"
     ]
    },
    {
     "name": "stdout",
     "output_type": "stream",
     "text": [
      "[CV] END ..C=10, class_weight=None, dual=True, max_iter=1000; total time= 5.4min\n",
      "[CV] END ..C=10, class_weight=None, dual=False, max_iter=700; total time= 1.2min\n",
      "[CV] END ..C=10, class_weight=None, dual=False, max_iter=700; total time= 1.2min\n",
      "[CV] END .C=10, class_weight=None, dual=False, max_iter=1000; total time= 1.1min\n"
     ]
    },
    {
     "name": "stderr",
     "output_type": "stream",
     "text": [
      "/home/lucile/S1/ApprentissageAutomatique/apprautovenv/lib/python3.11/site-packages/sklearn/svm/_base.py:1235: ConvergenceWarning: Liblinear failed to converge, increase the number of iterations.\n",
      "  warnings.warn(\n"
     ]
    },
    {
     "name": "stdout",
     "output_type": "stream",
     "text": [
      "[CV] END ..C=10, class_weight=None, dual=True, max_iter=1000; total time= 5.7min\n",
      "[CV] END .C=10, class_weight=None, dual=False, max_iter=1000; total time= 1.1min\n",
      "[CV] END .C=10, class_weight=None, dual=False, max_iter=1000; total time= 1.0min\n",
      "[CV] END .C=10, class_weight=None, dual=False, max_iter=1000; total time= 1.2min\n",
      "[CV] END .C=10, class_weight=None, dual=False, max_iter=1000; total time=  46.3s\n"
     ]
    },
    {
     "name": "stderr",
     "output_type": "stream",
     "text": [
      "/home/lucile/S1/ApprentissageAutomatique/apprautovenv/lib/python3.11/site-packages/sklearn/svm/_base.py:1235: ConvergenceWarning: Liblinear failed to converge, increase the number of iterations.\n",
      "  warnings.warn(\n"
     ]
    },
    {
     "name": "stdout",
     "output_type": "stream",
     "text": [
      "[CV] END ..C=10, class_weight=None, dual=True, max_iter=1000; total time= 4.4min\n"
     ]
    },
    {
     "name": "stderr",
     "output_type": "stream",
     "text": [
      "/home/lucile/S1/ApprentissageAutomatique/apprautovenv/lib/python3.11/site-packages/sklearn/svm/_base.py:1235: ConvergenceWarning: Liblinear failed to converge, increase the number of iterations.\n",
      "  warnings.warn(\n"
     ]
    },
    {
     "name": "stdout",
     "output_type": "stream",
     "text": [
      "[CV] END ..C=10, class_weight=None, dual=True, max_iter=1000; total time= 4.3min\n",
      "Meilleurs paramètres :  {'C': 10, 'class_weight': None, 'dual': False, 'max_iter': 700}\n",
      "Rapport de Classification SVM_W2V :\n",
      "\n"
     ]
    },
    {
     "name": "stderr",
     "output_type": "stream",
     "text": [
      "/home/lucile/S1/ApprentissageAutomatique/apprautovenv/lib/python3.11/site-packages/sklearn/metrics/_classification.py:1531: UndefinedMetricWarning: Precision is ill-defined and being set to 0.0 in labels with no predicted samples. Use `zero_division` parameter to control this behavior.\n",
      "  _warn_prf(average, modifier, f\"{metric.capitalize()} is\", len(result))\n"
     ]
    },
    {
     "name": "stdout",
     "output_type": "stream",
     "text": [
      "              precision    recall  f1-score   support\n",
      "\n",
      "        ELDR       0.00      0.00      0.00      1339\n",
      "     GUE-NGL       0.25      0.68      0.37      1793\n",
      "      PPE-DE       0.00      0.00      0.00      4571\n",
      "         PSE       0.00      0.00      0.00      3627\n",
      "     Unknown       0.00      0.00      0.00         2\n",
      "   Verts-ALE       0.13      0.69      0.22      1585\n",
      "\n",
      "    accuracy                           0.18     12917\n",
      "   macro avg       0.06      0.23      0.10     12917\n",
      "weighted avg       0.05      0.18      0.08     12917\n",
      "\n"
     ]
    },
    {
     "name": "stderr",
     "output_type": "stream",
     "text": [
      "/home/lucile/S1/ApprentissageAutomatique/apprautovenv/lib/python3.11/site-packages/sklearn/metrics/_classification.py:1531: UndefinedMetricWarning: Precision is ill-defined and being set to 0.0 in labels with no predicted samples. Use `zero_division` parameter to control this behavior.\n",
      "  _warn_prf(average, modifier, f\"{metric.capitalize()} is\", len(result))\n",
      "/home/lucile/S1/ApprentissageAutomatique/apprautovenv/lib/python3.11/site-packages/sklearn/metrics/_classification.py:1531: UndefinedMetricWarning: Precision is ill-defined and being set to 0.0 in labels with no predicted samples. Use `zero_division` parameter to control this behavior.\n",
      "  _warn_prf(average, modifier, f\"{metric.capitalize()} is\", len(result))\n"
     ]
    }
   ],
   "source": [
    "param_gridSVM_W2V = { \n",
    "    \"C\" : [0.2, 1, 10],\n",
    "    \"dual\": [True, False],\n",
    "    \"class_weight\" : [\"balanced\", None],\n",
    "    \"max_iter\" : [700, 1000]\n",
    "}\n",
    "\n",
    "#Initialisation\n",
    "svm_W2V = LinearSVC()\n",
    "svm_W2V_grid = GridSearchCV(svm_W2V, param_gridSVM_W2V, cv=5, verbose=2, n_jobs=-1)\n",
    "\n",
    "#Entraînement du modèle\n",
    "svm_W2V_grid.fit(X_train_vectors, y_train)\n",
    "\n",
    "#Afficher les meilleurs paramètres\n",
    "print(\"Meilleurs paramètres : \", svm_W2V_grid.best_params_)\n",
    "\n",
    "#Prédiction avec les meilleurs paramètres obtenus\n",
    "best_svm_W2V = svm_W2V_grid.best_estimator_\n",
    "y_pred_best_svm_W2V = best_svm_W2V.predict(X_test_vectors)\n",
    "\n",
    "#Résultats\n",
    "print(\"Rapport de Classification SVM_W2V :\\n\")\n",
    "print(classification_report(y_test, y_pred_best_svm_W2V))"
   ]
  },
  {
   "cell_type": "markdown",
   "metadata": {},
   "source": [
    "#### Comparaison des performances des modèles Word2Vec"
   ]
  },
  {
   "cell_type": "code",
   "execution_count": 36,
   "metadata": {},
   "outputs": [
    {
     "name": "stderr",
     "output_type": "stream",
     "text": [
      "/home/lucile/S1/ApprentissageAutomatique/apprautovenv/lib/python3.11/site-packages/sklearn/metrics/_classification.py:1531: UndefinedMetricWarning: Precision is ill-defined and being set to 0.0 in labels with no predicted samples. Use `zero_division` parameter to control this behavior.\n",
      "  _warn_prf(average, modifier, f\"{metric.capitalize()} is\", len(result))\n",
      "/home/lucile/S1/ApprentissageAutomatique/apprautovenv/lib/python3.11/site-packages/sklearn/metrics/_classification.py:1531: UndefinedMetricWarning: Precision is ill-defined and being set to 0.0 in labels with no predicted samples. Use `zero_division` parameter to control this behavior.\n",
      "  _warn_prf(average, modifier, f\"{metric.capitalize()} is\", len(result))\n"
     ]
    },
    {
     "name": "stdout",
     "output_type": "stream",
     "text": [
      "                    Modèle  Accuracy  Précision    Rappel  F-mesure\n",
      "0  Logistic Regression W2V  0.146783   0.047783  0.178559  0.064073\n",
      "1                  SVM W2V  0.178757   0.064591  0.227903  0.098982\n"
     ]
    }
   ],
   "source": [
    "resultats = pd.DataFrame({\n",
    "    \"Modèle\": [\"Logistic Regression W2V\", \"SVM W2V\"],\n",
    "    \"Accuracy\": \n",
    "        [accuracy_score(y_test, y_pred_best_LR_W2V),\n",
    "        accuracy_score(y_test, y_pred_best_svm_W2V)],\n",
    "    \"Précision\": \n",
    "        [precision_score(y_test, y_pred_best_LR_W2V, average=\"macro\"),\n",
    "        precision_score(y_test, y_pred_best_svm_W2V, average=\"macro\")],\n",
    "    \"Rappel\":\n",
    "        [recall_score(y_test, y_pred_best_LR_W2V, average=\"macro\"),\n",
    "        recall_score(y_test, y_pred_best_svm_W2V, average=\"macro\")],\n",
    "    \"F-mesure\":\n",
    "        [f1_score(y_test, y_pred_best_LR_W2V, average=\"macro\"),\n",
    "        f1_score(y_test, y_pred_best_svm_W2V, average=\"macro\")]\n",
    "})\n",
    "\n",
    "print(resultats)"
   ]
  },
  {
   "cell_type": "markdown",
   "metadata": {},
   "source": [
    "### Doc2Vec"
   ]
  },
  {
   "cell_type": "code",
   "execution_count": null,
   "metadata": {},
   "outputs": [],
   "source": [
    "# implémentation doc2vec\n",
    "\n",
    "documents = [TaggedDocument(doc, [i]) for i, doc in enumerate(X_train_tokenized)]\n",
    "doc2vec_model = Doc2Vec(documents, vector_size=50, window=5, min_count=2, workers=4)\n",
    "\n",
    "X_train_doc2vec = [doc2vec_model.infer_vector(doc) for doc in X_train_tokenized]\n",
    "X_test_doc2vec = [doc2vec_model.infer_vector(doc) for doc in X_test_tokenized]\n"
   ]
  },
  {
   "cell_type": "markdown",
   "metadata": {},
   "source": [
    "#### Doc2Vec + Logistic Regression"
   ]
  },
  {
   "cell_type": "code",
   "execution_count": 39,
   "metadata": {},
   "outputs": [
    {
     "name": "stdout",
     "output_type": "stream",
     "text": [
      "Fitting 5 folds for each of 12 candidates, totalling 60 fits\n",
      "[CV] END ........C=0.2, class_weight=balanced, max_iter=1000; total time=   0.8s\n",
      "[CV] END ........C=0.2, class_weight=balanced, max_iter=1000; total time=   1.0s\n",
      "[CV] END ........C=0.2, class_weight=balanced, max_iter=1000; total time=   0.9s\n",
      "[CV] END ........C=0.2, class_weight=balanced, max_iter=1000; total time=   0.7s\n",
      "[CV] END ........C=0.2, class_weight=balanced, max_iter=1000; total time=   0.9s\n",
      "[CV] END ........C=0.2, class_weight=balanced, max_iter=2000; total time=   1.2s\n",
      "[CV] END ........C=0.2, class_weight=balanced, max_iter=2000; total time=   1.1s\n",
      "[CV] END ........C=0.2, class_weight=balanced, max_iter=2000; total time=   0.7s\n",
      "[CV] END ........C=0.2, class_weight=balanced, max_iter=2000; total time=   0.9s\n",
      "[CV] END ........C=0.2, class_weight=balanced, max_iter=2000; total time=   0.8s\n",
      "[CV] END ............C=0.2, class_weight=None, max_iter=1000; total time=   0.8s\n",
      "[CV] END ............C=0.2, class_weight=None, max_iter=1000; total time=   0.8s\n",
      "[CV] END ............C=0.2, class_weight=None, max_iter=1000; total time=   0.8s\n",
      "[CV] END ............C=0.2, class_weight=None, max_iter=1000; total time=   0.9s\n",
      "[CV] END ............C=0.2, class_weight=None, max_iter=1000; total time=   0.9s\n",
      "[CV] END ............C=0.2, class_weight=None, max_iter=2000; total time=   0.8s\n",
      "[CV] END ............C=0.2, class_weight=None, max_iter=2000; total time=   0.9s\n",
      "[CV] END ............C=0.2, class_weight=None, max_iter=2000; total time=   0.8s\n",
      "[CV] END ............C=0.2, class_weight=None, max_iter=2000; total time=   0.9s\n",
      "[CV] END ............C=0.2, class_weight=None, max_iter=2000; total time=   0.8s\n",
      "[CV] END ..........C=1, class_weight=balanced, max_iter=1000; total time=   0.7s\n",
      "[CV] END ..........C=1, class_weight=balanced, max_iter=1000; total time=   0.7s\n",
      "[CV] END ..........C=1, class_weight=balanced, max_iter=1000; total time=   0.7s\n",
      "[CV] END ..........C=1, class_weight=balanced, max_iter=1000; total time=   0.9s\n",
      "[CV] END ..........C=1, class_weight=balanced, max_iter=1000; total time=   0.8s\n",
      "[CV] END ..........C=1, class_weight=balanced, max_iter=2000; total time=   0.7s\n",
      "[CV] END ..........C=1, class_weight=balanced, max_iter=2000; total time=   0.8s\n",
      "[CV] END ..........C=1, class_weight=balanced, max_iter=2000; total time=   0.7s\n",
      "[CV] END ..........C=1, class_weight=balanced, max_iter=2000; total time=   0.8s\n",
      "[CV] END ..........C=1, class_weight=balanced, max_iter=2000; total time=   0.8s\n",
      "[CV] END ..............C=1, class_weight=None, max_iter=1000; total time=   0.7s\n",
      "[CV] END ..............C=1, class_weight=None, max_iter=1000; total time=   0.8s\n",
      "[CV] END ..............C=1, class_weight=None, max_iter=1000; total time=   0.8s\n",
      "[CV] END ..............C=1, class_weight=None, max_iter=1000; total time=   0.8s\n",
      "[CV] END ..............C=1, class_weight=None, max_iter=1000; total time=   1.0s\n",
      "[CV] END ..............C=1, class_weight=None, max_iter=2000; total time=   0.8s\n",
      "[CV] END ..............C=1, class_weight=None, max_iter=2000; total time=   0.8s\n",
      "[CV] END ..............C=1, class_weight=None, max_iter=2000; total time=   0.8s\n",
      "[CV] END ..............C=1, class_weight=None, max_iter=2000; total time=   0.9s\n",
      "[CV] END ..............C=1, class_weight=None, max_iter=2000; total time=   0.9s\n",
      "[CV] END .........C=10, class_weight=balanced, max_iter=1000; total time=   0.7s\n",
      "[CV] END .........C=10, class_weight=balanced, max_iter=1000; total time=   0.7s\n",
      "[CV] END .........C=10, class_weight=balanced, max_iter=1000; total time=   0.6s\n",
      "[CV] END .........C=10, class_weight=balanced, max_iter=1000; total time=   0.8s\n",
      "[CV] END .........C=10, class_weight=balanced, max_iter=1000; total time=   0.8s\n",
      "[CV] END .........C=10, class_weight=balanced, max_iter=2000; total time=   0.7s\n",
      "[CV] END .........C=10, class_weight=balanced, max_iter=2000; total time=   1.0s\n",
      "[CV] END .........C=10, class_weight=balanced, max_iter=2000; total time=   0.6s\n",
      "[CV] END .........C=10, class_weight=balanced, max_iter=2000; total time=   0.8s\n",
      "[CV] END .........C=10, class_weight=balanced, max_iter=2000; total time=   0.8s\n",
      "[CV] END .............C=10, class_weight=None, max_iter=1000; total time=   0.9s\n",
      "[CV] END .............C=10, class_weight=None, max_iter=1000; total time=   1.0s\n",
      "[CV] END .............C=10, class_weight=None, max_iter=1000; total time=   0.8s\n",
      "[CV] END .............C=10, class_weight=None, max_iter=1000; total time=   0.8s\n",
      "[CV] END .............C=10, class_weight=None, max_iter=1000; total time=   0.9s\n",
      "[CV] END .............C=10, class_weight=None, max_iter=2000; total time=   0.9s\n",
      "[CV] END .............C=10, class_weight=None, max_iter=2000; total time=   1.0s\n",
      "[CV] END .............C=10, class_weight=None, max_iter=2000; total time=   0.9s\n",
      "[CV] END .............C=10, class_weight=None, max_iter=2000; total time=   0.8s\n",
      "[CV] END .............C=10, class_weight=None, max_iter=2000; total time=   0.8s\n",
      "Meilleurs paramètres :  {'C': 0.2, 'class_weight': None, 'max_iter': 1000}\n",
      "Rapport de Classification Logistic Regression D2V :\n",
      "\n"
     ]
    },
    {
     "name": "stderr",
     "output_type": "stream",
     "text": [
      "/home/lucile/S1/ApprentissageAutomatique/apprautovenv/lib/python3.11/site-packages/sklearn/metrics/_classification.py:1531: UndefinedMetricWarning: Precision is ill-defined and being set to 0.0 in labels with no predicted samples. Use `zero_division` parameter to control this behavior.\n",
      "  _warn_prf(average, modifier, f\"{metric.capitalize()} is\", len(result))\n",
      "/home/lucile/S1/ApprentissageAutomatique/apprautovenv/lib/python3.11/site-packages/sklearn/metrics/_classification.py:1531: UndefinedMetricWarning: Precision is ill-defined and being set to 0.0 in labels with no predicted samples. Use `zero_division` parameter to control this behavior.\n",
      "  _warn_prf(average, modifier, f\"{metric.capitalize()} is\", len(result))\n"
     ]
    },
    {
     "name": "stdout",
     "output_type": "stream",
     "text": [
      "              precision    recall  f1-score   support\n",
      "\n",
      "        ELDR       0.16      0.05      0.07      1339\n",
      "     GUE-NGL       0.28      0.53      0.36      1793\n",
      "      PPE-DE       0.38      0.53      0.45      4571\n",
      "         PSE       0.35      0.26      0.30      3627\n",
      "     Unknown       0.00      0.00      0.00         2\n",
      "   Verts-ALE       0.15      0.02      0.03      1585\n",
      "\n",
      "    accuracy                           0.34     12917\n",
      "   macro avg       0.22      0.23      0.20     12917\n",
      "weighted avg       0.31      0.34      0.30     12917\n",
      "\n"
     ]
    },
    {
     "name": "stderr",
     "output_type": "stream",
     "text": [
      "/home/lucile/S1/ApprentissageAutomatique/apprautovenv/lib/python3.11/site-packages/sklearn/metrics/_classification.py:1531: UndefinedMetricWarning: Precision is ill-defined and being set to 0.0 in labels with no predicted samples. Use `zero_division` parameter to control this behavior.\n",
      "  _warn_prf(average, modifier, f\"{metric.capitalize()} is\", len(result))\n"
     ]
    }
   ],
   "source": [
    "param_gridLR_D2V = {\n",
    "    \"C\" : [0.2, 1, 10],\n",
    "    \"class_weight\" : [\"balanced\", None],\n",
    "    \"max_iter\" : [1000, 2000]\n",
    "}\n",
    "\n",
    "#Initialisation\n",
    "LR_D2V = LogisticRegression()\n",
    "LR_D2V_grid = GridSearchCV(LR_D2V, param_gridLR_D2V, cv=5, verbose=2, n_jobs=-1)\n",
    "\n",
    "#Entraînement du modèle\n",
    "LR_D2V_grid.fit(X_train_doc2vec, y_train)\n",
    "\n",
    "#Afficher les meilleurs paramètres\n",
    "print(\"Meilleurs paramètres : \", LR_D2V_grid.best_params_)\n",
    "#Prédiction avec les meilleurs paramètres obtenus\n",
    "best_LR_D2V = LR_D2V_grid.best_estimator_\n",
    "y_pred_best_LR_D2V = best_LR_D2V.predict(X_test_doc2vec)\n",
    "\n",
    "#Résultats\n",
    "print(\"Rapport de Classification Logistic Regression D2V :\\n\")\n",
    "print(classification_report(y_test, y_pred_best_LR_D2V))"
   ]
  },
  {
   "cell_type": "markdown",
   "metadata": {},
   "source": [
    "#### Doc2Vec + SVM"
   ]
  },
  {
   "cell_type": "code",
   "execution_count": 41,
   "metadata": {},
   "outputs": [
    {
     "name": "stdout",
     "output_type": "stream",
     "text": [
      "Fitting 5 folds for each of 24 candidates, totalling 120 fits\n",
      "[CV] END C=0.2, class_weight=balanced, dual=True, max_iter=700; total time=  11.2s\n",
      "[CV] END C=0.2, class_weight=balanced, dual=True, max_iter=700; total time=  13.9s\n",
      "[CV] END C=0.2, class_weight=balanced, dual=True, max_iter=700; total time=  16.3s\n",
      "[CV] END C=0.2, class_weight=balanced, dual=True, max_iter=700; total time=  17.2s\n",
      "[CV] END C=0.2, class_weight=balanced, dual=True, max_iter=700; total time=  14.8s\n",
      "[CV] END C=0.2, class_weight=balanced, dual=True, max_iter=1000; total time=  17.2s\n",
      "[CV] END C=0.2, class_weight=balanced, dual=False, max_iter=700; total time=   4.1s\n",
      "[CV] END C=0.2, class_weight=balanced, dual=True, max_iter=1000; total time=  17.4s\n",
      "[CV] END C=0.2, class_weight=balanced, dual=True, max_iter=1000; total time=  15.4s\n",
      "[CV] END C=0.2, class_weight=balanced, dual=False, max_iter=700; total time=   3.6s\n",
      "[CV] END C=0.2, class_weight=balanced, dual=True, max_iter=1000; total time=  14.2s\n",
      "[CV] END C=0.2, class_weight=balanced, dual=False, max_iter=700; total time=   1.9s\n",
      "[CV] END C=0.2, class_weight=balanced, dual=True, max_iter=1000; total time=  12.7s\n",
      "[CV] END C=0.2, class_weight=balanced, dual=False, max_iter=700; total time=   2.2s\n",
      "[CV] END C=0.2, class_weight=balanced, dual=False, max_iter=700; total time=   2.0s\n",
      "[CV] END C=0.2, class_weight=balanced, dual=False, max_iter=1000; total time=   2.3s\n",
      "[CV] END C=0.2, class_weight=balanced, dual=False, max_iter=1000; total time=   2.4s\n",
      "[CV] END C=0.2, class_weight=balanced, dual=False, max_iter=1000; total time=   1.7s\n",
      "[CV] END C=0.2, class_weight=balanced, dual=False, max_iter=1000; total time=   2.1s\n",
      "[CV] END C=0.2, class_weight=balanced, dual=False, max_iter=1000; total time=   2.4s\n",
      "[CV] END ..C=0.2, class_weight=None, dual=True, max_iter=700; total time=   7.9s\n",
      "[CV] END ..C=0.2, class_weight=None, dual=True, max_iter=700; total time=  10.6s\n",
      "[CV] END ..C=0.2, class_weight=None, dual=True, max_iter=700; total time=  11.5s\n",
      "[CV] END ..C=0.2, class_weight=None, dual=True, max_iter=700; total time=  11.3s\n",
      "[CV] END ..C=0.2, class_weight=None, dual=True, max_iter=700; total time=  13.2s\n",
      "[CV] END .C=0.2, class_weight=None, dual=True, max_iter=1000; total time=  12.0s\n",
      "[CV] END .C=0.2, class_weight=None, dual=True, max_iter=1000; total time=  11.0s\n",
      "[CV] END .C=0.2, class_weight=None, dual=True, max_iter=1000; total time=  11.8s\n",
      "[CV] END .C=0.2, class_weight=None, dual=False, max_iter=700; total time=   3.2s\n",
      "[CV] END .C=0.2, class_weight=None, dual=False, max_iter=700; total time=   2.9s\n",
      "[CV] END .C=0.2, class_weight=None, dual=True, max_iter=1000; total time=  11.5s\n",
      "[CV] END .C=0.2, class_weight=None, dual=True, max_iter=1000; total time=  10.7s\n",
      "[CV] END .C=0.2, class_weight=None, dual=False, max_iter=700; total time=   2.2s\n",
      "[CV] END .C=0.2, class_weight=None, dual=False, max_iter=700; total time=   2.0s\n",
      "[CV] END .C=0.2, class_weight=None, dual=False, max_iter=700; total time=   1.9s\n",
      "[CV] END C=0.2, class_weight=None, dual=False, max_iter=1000; total time=   2.0s\n",
      "[CV] END C=0.2, class_weight=None, dual=False, max_iter=1000; total time=   1.8s\n",
      "[CV] END C=0.2, class_weight=None, dual=False, max_iter=1000; total time=   1.9s\n",
      "[CV] END C=0.2, class_weight=None, dual=False, max_iter=1000; total time=   2.1s\n",
      "[CV] END C=0.2, class_weight=None, dual=False, max_iter=1000; total time=   1.9s\n"
     ]
    },
    {
     "name": "stderr",
     "output_type": "stream",
     "text": [
      "/home/lucile/S1/ApprentissageAutomatique/apprautovenv/lib/python3.11/site-packages/sklearn/svm/_base.py:1235: ConvergenceWarning: Liblinear failed to converge, increase the number of iterations.\n",
      "  warnings.warn(\n"
     ]
    },
    {
     "name": "stdout",
     "output_type": "stream",
     "text": [
      "[CV] END C=1, class_weight=balanced, dual=True, max_iter=700; total time= 1.3min\n"
     ]
    },
    {
     "name": "stderr",
     "output_type": "stream",
     "text": [
      "/home/lucile/S1/ApprentissageAutomatique/apprautovenv/lib/python3.11/site-packages/sklearn/svm/_base.py:1235: ConvergenceWarning: Liblinear failed to converge, increase the number of iterations.\n",
      "  warnings.warn(\n"
     ]
    },
    {
     "name": "stdout",
     "output_type": "stream",
     "text": [
      "[CV] END C=1, class_weight=balanced, dual=True, max_iter=700; total time= 1.6min\n"
     ]
    },
    {
     "name": "stderr",
     "output_type": "stream",
     "text": [
      "/home/lucile/S1/ApprentissageAutomatique/apprautovenv/lib/python3.11/site-packages/sklearn/svm/_base.py:1235: ConvergenceWarning: Liblinear failed to converge, increase the number of iterations.\n",
      "  warnings.warn(\n"
     ]
    },
    {
     "name": "stdout",
     "output_type": "stream",
     "text": [
      "[CV] END C=1, class_weight=balanced, dual=True, max_iter=700; total time= 1.6min\n",
      "[CV] END C=1, class_weight=balanced, dual=False, max_iter=700; total time=   6.0s\n"
     ]
    },
    {
     "name": "stderr",
     "output_type": "stream",
     "text": [
      "/home/lucile/S1/ApprentissageAutomatique/apprautovenv/lib/python3.11/site-packages/sklearn/svm/_base.py:1235: ConvergenceWarning: Liblinear failed to converge, increase the number of iterations.\n",
      "  warnings.warn(\n"
     ]
    },
    {
     "name": "stdout",
     "output_type": "stream",
     "text": [
      "[CV] END C=1, class_weight=balanced, dual=True, max_iter=700; total time= 1.8min\n"
     ]
    },
    {
     "name": "stderr",
     "output_type": "stream",
     "text": [
      "/home/lucile/S1/ApprentissageAutomatique/apprautovenv/lib/python3.11/site-packages/sklearn/svm/_base.py:1235: ConvergenceWarning: Liblinear failed to converge, increase the number of iterations.\n",
      "  warnings.warn(\n"
     ]
    },
    {
     "name": "stdout",
     "output_type": "stream",
     "text": [
      "[CV] END C=1, class_weight=balanced, dual=True, max_iter=700; total time= 1.8min\n",
      "[CV] END C=1, class_weight=balanced, dual=True, max_iter=1000; total time= 1.7min\n",
      "[CV] END C=1, class_weight=balanced, dual=False, max_iter=700; total time=   5.5s\n",
      "[CV] END C=1, class_weight=balanced, dual=False, max_iter=700; total time=   3.8s\n",
      "[CV] END C=1, class_weight=balanced, dual=False, max_iter=700; total time=   3.7s\n",
      "[CV] END C=1, class_weight=balanced, dual=False, max_iter=700; total time=   3.8s\n",
      "[CV] END C=1, class_weight=balanced, dual=False, max_iter=1000; total time=   4.2s\n",
      "[CV] END C=1, class_weight=balanced, dual=True, max_iter=1000; total time= 1.8min\n",
      "[CV] END C=1, class_weight=balanced, dual=False, max_iter=1000; total time=   3.1s\n"
     ]
    },
    {
     "name": "stderr",
     "output_type": "stream",
     "text": [
      "/home/lucile/S1/ApprentissageAutomatique/apprautovenv/lib/python3.11/site-packages/sklearn/svm/_base.py:1235: ConvergenceWarning: Liblinear failed to converge, increase the number of iterations.\n",
      "  warnings.warn(\n"
     ]
    },
    {
     "name": "stdout",
     "output_type": "stream",
     "text": [
      "[CV] END C=1, class_weight=balanced, dual=True, max_iter=1000; total time= 2.0min\n",
      "[CV] END C=1, class_weight=balanced, dual=False, max_iter=1000; total time=   3.1s\n",
      "[CV] END C=1, class_weight=balanced, dual=False, max_iter=1000; total time=   2.7s\n",
      "[CV] END C=1, class_weight=balanced, dual=False, max_iter=1000; total time=   2.5s\n",
      "[CV] END C=1, class_weight=balanced, dual=True, max_iter=1000; total time= 1.4min\n",
      "[CV] END C=1, class_weight=balanced, dual=True, max_iter=1000; total time= 1.3min\n",
      "[CV] END ....C=1, class_weight=None, dual=True, max_iter=700; total time= 1.5min\n",
      "[CV] END ....C=1, class_weight=None, dual=True, max_iter=700; total time= 1.6min\n",
      "[CV] END ....C=1, class_weight=None, dual=True, max_iter=700; total time= 1.6min\n",
      "[CV] END ...C=1, class_weight=None, dual=True, max_iter=1000; total time= 1.6min\n",
      "[CV] END ....C=1, class_weight=None, dual=True, max_iter=700; total time= 1.7min\n",
      "[CV] END ...C=1, class_weight=None, dual=False, max_iter=700; total time=   5.4s\n"
     ]
    },
    {
     "name": "stderr",
     "output_type": "stream",
     "text": [
      "/home/lucile/S1/ApprentissageAutomatique/apprautovenv/lib/python3.11/site-packages/sklearn/svm/_base.py:1235: ConvergenceWarning: Liblinear failed to converge, increase the number of iterations.\n",
      "  warnings.warn(\n"
     ]
    },
    {
     "name": "stdout",
     "output_type": "stream",
     "text": [
      "[CV] END ....C=1, class_weight=None, dual=True, max_iter=700; total time= 1.7min\n",
      "[CV] END ...C=1, class_weight=None, dual=False, max_iter=700; total time=   4.6s\n",
      "[CV] END ...C=1, class_weight=None, dual=False, max_iter=700; total time=   3.8s\n",
      "[CV] END ...C=1, class_weight=None, dual=False, max_iter=700; total time=   4.2s\n",
      "[CV] END ...C=1, class_weight=None, dual=True, max_iter=1000; total time= 1.5min\n",
      "[CV] END ...C=1, class_weight=None, dual=False, max_iter=700; total time=   4.1s\n",
      "[CV] END ..C=1, class_weight=None, dual=False, max_iter=1000; total time=   3.5s\n",
      "[CV] END ..C=1, class_weight=None, dual=False, max_iter=1000; total time=   3.3s\n",
      "[CV] END ..C=1, class_weight=None, dual=False, max_iter=1000; total time=   3.2s\n",
      "[CV] END ...C=1, class_weight=None, dual=True, max_iter=1000; total time= 1.9min\n",
      "[CV] END ..C=1, class_weight=None, dual=False, max_iter=1000; total time=   3.0s\n",
      "[CV] END ..C=1, class_weight=None, dual=False, max_iter=1000; total time=   2.5s\n",
      "[CV] END ...C=1, class_weight=None, dual=True, max_iter=1000; total time= 1.3min\n",
      "[CV] END ...C=1, class_weight=None, dual=True, max_iter=1000; total time= 1.3min\n"
     ]
    },
    {
     "name": "stderr",
     "output_type": "stream",
     "text": [
      "/home/lucile/S1/ApprentissageAutomatique/apprautovenv/lib/python3.11/site-packages/sklearn/svm/_base.py:1235: ConvergenceWarning: Liblinear failed to converge, increase the number of iterations.\n",
      "  warnings.warn(\n"
     ]
    },
    {
     "name": "stdout",
     "output_type": "stream",
     "text": [
      "[CV] END C=10, class_weight=balanced, dual=True, max_iter=700; total time= 2.1min\n"
     ]
    },
    {
     "name": "stderr",
     "output_type": "stream",
     "text": [
      "/home/lucile/S1/ApprentissageAutomatique/apprautovenv/lib/python3.11/site-packages/sklearn/svm/_base.py:1235: ConvergenceWarning: Liblinear failed to converge, increase the number of iterations.\n",
      "  warnings.warn(\n"
     ]
    },
    {
     "name": "stdout",
     "output_type": "stream",
     "text": [
      "[CV] END C=10, class_weight=balanced, dual=True, max_iter=700; total time= 2.3min\n"
     ]
    },
    {
     "name": "stderr",
     "output_type": "stream",
     "text": [
      "/home/lucile/S1/ApprentissageAutomatique/apprautovenv/lib/python3.11/site-packages/sklearn/svm/_base.py:1235: ConvergenceWarning: Liblinear failed to converge, increase the number of iterations.\n",
      "  warnings.warn(\n",
      "/home/lucile/S1/ApprentissageAutomatique/apprautovenv/lib/python3.11/site-packages/sklearn/svm/_base.py:1235: ConvergenceWarning: Liblinear failed to converge, increase the number of iterations.\n",
      "  warnings.warn(\n"
     ]
    },
    {
     "name": "stdout",
     "output_type": "stream",
     "text": [
      "[CV] END C=10, class_weight=balanced, dual=True, max_iter=700; total time= 2.2min\n",
      "[CV] END C=10, class_weight=balanced, dual=True, max_iter=700; total time= 2.3min\n"
     ]
    },
    {
     "name": "stderr",
     "output_type": "stream",
     "text": [
      "/home/lucile/S1/ApprentissageAutomatique/apprautovenv/lib/python3.11/site-packages/sklearn/svm/_base.py:1235: ConvergenceWarning: Liblinear failed to converge, increase the number of iterations.\n",
      "  warnings.warn(\n"
     ]
    },
    {
     "name": "stdout",
     "output_type": "stream",
     "text": [
      "[CV] END C=10, class_weight=balanced, dual=True, max_iter=700; total time= 2.3min\n",
      "[CV] END C=10, class_weight=balanced, dual=False, max_iter=700; total time=   5.7s\n",
      "[CV] END C=10, class_weight=balanced, dual=False, max_iter=700; total time=   5.1s\n",
      "[CV] END C=10, class_weight=balanced, dual=False, max_iter=700; total time=   4.6s\n",
      "[CV] END C=10, class_weight=balanced, dual=False, max_iter=700; total time=   5.3s\n",
      "[CV] END C=10, class_weight=balanced, dual=False, max_iter=700; total time=   4.5s\n",
      "[CV] END C=10, class_weight=balanced, dual=False, max_iter=1000; total time=   5.6s\n",
      "[CV] END C=10, class_weight=balanced, dual=False, max_iter=1000; total time=   4.8s\n",
      "[CV] END C=10, class_weight=balanced, dual=False, max_iter=1000; total time=   4.2s\n",
      "[CV] END C=10, class_weight=balanced, dual=False, max_iter=1000; total time=   4.8s\n",
      "[CV] END C=10, class_weight=balanced, dual=False, max_iter=1000; total time=   4.5s\n"
     ]
    },
    {
     "name": "stderr",
     "output_type": "stream",
     "text": [
      "/home/lucile/S1/ApprentissageAutomatique/apprautovenv/lib/python3.11/site-packages/sklearn/svm/_base.py:1235: ConvergenceWarning: Liblinear failed to converge, increase the number of iterations.\n",
      "  warnings.warn(\n"
     ]
    },
    {
     "name": "stdout",
     "output_type": "stream",
     "text": [
      "[CV] END C=10, class_weight=balanced, dual=True, max_iter=1000; total time= 3.3min\n"
     ]
    },
    {
     "name": "stderr",
     "output_type": "stream",
     "text": [
      "/home/lucile/S1/ApprentissageAutomatique/apprautovenv/lib/python3.11/site-packages/sklearn/svm/_base.py:1235: ConvergenceWarning: Liblinear failed to converge, increase the number of iterations.\n",
      "  warnings.warn(\n"
     ]
    },
    {
     "name": "stdout",
     "output_type": "stream",
     "text": [
      "[CV] END C=10, class_weight=balanced, dual=True, max_iter=1000; total time= 3.2min\n"
     ]
    },
    {
     "name": "stderr",
     "output_type": "stream",
     "text": [
      "/home/lucile/S1/ApprentissageAutomatique/apprautovenv/lib/python3.11/site-packages/sklearn/svm/_base.py:1235: ConvergenceWarning: Liblinear failed to converge, increase the number of iterations.\n",
      "  warnings.warn(\n"
     ]
    },
    {
     "name": "stdout",
     "output_type": "stream",
     "text": [
      "[CV] END C=10, class_weight=balanced, dual=True, max_iter=1000; total time= 3.1min\n"
     ]
    },
    {
     "name": "stderr",
     "output_type": "stream",
     "text": [
      "/home/lucile/S1/ApprentissageAutomatique/apprautovenv/lib/python3.11/site-packages/sklearn/svm/_base.py:1235: ConvergenceWarning: Liblinear failed to converge, increase the number of iterations.\n",
      "  warnings.warn(\n"
     ]
    },
    {
     "name": "stdout",
     "output_type": "stream",
     "text": [
      "[CV] END C=10, class_weight=balanced, dual=True, max_iter=1000; total time= 3.1min\n"
     ]
    },
    {
     "name": "stderr",
     "output_type": "stream",
     "text": [
      "/home/lucile/S1/ApprentissageAutomatique/apprautovenv/lib/python3.11/site-packages/sklearn/svm/_base.py:1235: ConvergenceWarning: Liblinear failed to converge, increase the number of iterations.\n",
      "  warnings.warn(\n"
     ]
    },
    {
     "name": "stdout",
     "output_type": "stream",
     "text": [
      "[CV] END ...C=10, class_weight=None, dual=True, max_iter=700; total time= 2.3min\n"
     ]
    },
    {
     "name": "stderr",
     "output_type": "stream",
     "text": [
      "/home/lucile/S1/ApprentissageAutomatique/apprautovenv/lib/python3.11/site-packages/sklearn/svm/_base.py:1235: ConvergenceWarning: Liblinear failed to converge, increase the number of iterations.\n",
      "  warnings.warn(\n"
     ]
    },
    {
     "name": "stdout",
     "output_type": "stream",
     "text": [
      "[CV] END C=10, class_weight=balanced, dual=True, max_iter=1000; total time= 3.5min\n"
     ]
    },
    {
     "name": "stderr",
     "output_type": "stream",
     "text": [
      "/home/lucile/S1/ApprentissageAutomatique/apprautovenv/lib/python3.11/site-packages/sklearn/svm/_base.py:1235: ConvergenceWarning: Liblinear failed to converge, increase the number of iterations.\n",
      "  warnings.warn(\n"
     ]
    },
    {
     "name": "stdout",
     "output_type": "stream",
     "text": [
      "[CV] END ...C=10, class_weight=None, dual=True, max_iter=700; total time= 2.4min\n"
     ]
    },
    {
     "name": "stderr",
     "output_type": "stream",
     "text": [
      "/home/lucile/S1/ApprentissageAutomatique/apprautovenv/lib/python3.11/site-packages/sklearn/svm/_base.py:1235: ConvergenceWarning: Liblinear failed to converge, increase the number of iterations.\n",
      "  warnings.warn(\n"
     ]
    },
    {
     "name": "stdout",
     "output_type": "stream",
     "text": [
      "[CV] END ...C=10, class_weight=None, dual=True, max_iter=700; total time= 2.4min\n"
     ]
    },
    {
     "name": "stderr",
     "output_type": "stream",
     "text": [
      "/home/lucile/S1/ApprentissageAutomatique/apprautovenv/lib/python3.11/site-packages/sklearn/svm/_base.py:1235: ConvergenceWarning: Liblinear failed to converge, increase the number of iterations.\n",
      "  warnings.warn(\n"
     ]
    },
    {
     "name": "stdout",
     "output_type": "stream",
     "text": [
      "[CV] END ...C=10, class_weight=None, dual=True, max_iter=700; total time= 2.4min\n",
      "[CV] END ..C=10, class_weight=None, dual=False, max_iter=700; total time=   6.6s\n",
      "[CV] END ..C=10, class_weight=None, dual=False, max_iter=700; total time=   6.1s\n"
     ]
    },
    {
     "name": "stderr",
     "output_type": "stream",
     "text": [
      "/home/lucile/S1/ApprentissageAutomatique/apprautovenv/lib/python3.11/site-packages/sklearn/svm/_base.py:1235: ConvergenceWarning: Liblinear failed to converge, increase the number of iterations.\n",
      "  warnings.warn(\n"
     ]
    },
    {
     "name": "stdout",
     "output_type": "stream",
     "text": [
      "[CV] END ...C=10, class_weight=None, dual=True, max_iter=700; total time= 2.5min\n",
      "[CV] END ..C=10, class_weight=None, dual=False, max_iter=700; total time=   4.6s\n",
      "[CV] END ..C=10, class_weight=None, dual=False, max_iter=700; total time=   4.3s\n",
      "[CV] END ..C=10, class_weight=None, dual=False, max_iter=700; total time=   4.7s\n",
      "[CV] END .C=10, class_weight=None, dual=False, max_iter=1000; total time=   4.3s\n",
      "[CV] END .C=10, class_weight=None, dual=False, max_iter=1000; total time=   4.2s\n",
      "[CV] END .C=10, class_weight=None, dual=False, max_iter=1000; total time=   4.5s\n",
      "[CV] END .C=10, class_weight=None, dual=False, max_iter=1000; total time=   4.5s\n",
      "[CV] END .C=10, class_weight=None, dual=False, max_iter=1000; total time=   4.6s\n"
     ]
    },
    {
     "name": "stderr",
     "output_type": "stream",
     "text": [
      "/home/lucile/S1/ApprentissageAutomatique/apprautovenv/lib/python3.11/site-packages/sklearn/svm/_base.py:1235: ConvergenceWarning: Liblinear failed to converge, increase the number of iterations.\n",
      "  warnings.warn(\n"
     ]
    },
    {
     "name": "stdout",
     "output_type": "stream",
     "text": [
      "[CV] END ..C=10, class_weight=None, dual=True, max_iter=1000; total time= 3.2min\n"
     ]
    },
    {
     "name": "stderr",
     "output_type": "stream",
     "text": [
      "/home/lucile/S1/ApprentissageAutomatique/apprautovenv/lib/python3.11/site-packages/sklearn/svm/_base.py:1235: ConvergenceWarning: Liblinear failed to converge, increase the number of iterations.\n",
      "  warnings.warn(\n"
     ]
    },
    {
     "name": "stdout",
     "output_type": "stream",
     "text": [
      "[CV] END ..C=10, class_weight=None, dual=True, max_iter=1000; total time= 2.3min\n"
     ]
    },
    {
     "name": "stderr",
     "output_type": "stream",
     "text": [
      "/home/lucile/S1/ApprentissageAutomatique/apprautovenv/lib/python3.11/site-packages/sklearn/svm/_base.py:1235: ConvergenceWarning: Liblinear failed to converge, increase the number of iterations.\n",
      "  warnings.warn(\n"
     ]
    },
    {
     "name": "stdout",
     "output_type": "stream",
     "text": [
      "[CV] END ..C=10, class_weight=None, dual=True, max_iter=1000; total time= 2.2min\n"
     ]
    },
    {
     "name": "stderr",
     "output_type": "stream",
     "text": [
      "/home/lucile/S1/ApprentissageAutomatique/apprautovenv/lib/python3.11/site-packages/sklearn/svm/_base.py:1235: ConvergenceWarning: Liblinear failed to converge, increase the number of iterations.\n",
      "  warnings.warn(\n"
     ]
    },
    {
     "name": "stdout",
     "output_type": "stream",
     "text": [
      "[CV] END ..C=10, class_weight=None, dual=True, max_iter=1000; total time= 2.1min\n"
     ]
    },
    {
     "name": "stderr",
     "output_type": "stream",
     "text": [
      "/home/lucile/S1/ApprentissageAutomatique/apprautovenv/lib/python3.11/site-packages/sklearn/svm/_base.py:1235: ConvergenceWarning: Liblinear failed to converge, increase the number of iterations.\n",
      "  warnings.warn(\n"
     ]
    },
    {
     "name": "stdout",
     "output_type": "stream",
     "text": [
      "[CV] END ..C=10, class_weight=None, dual=True, max_iter=1000; total time= 2.2min\n"
     ]
    },
    {
     "name": "stderr",
     "output_type": "stream",
     "text": [
      "/home/lucile/S1/ApprentissageAutomatique/apprautovenv/lib/python3.11/site-packages/sklearn/svm/_base.py:1235: ConvergenceWarning: Liblinear failed to converge, increase the number of iterations.\n",
      "  warnings.warn(\n"
     ]
    },
    {
     "name": "stdout",
     "output_type": "stream",
     "text": [
      "Meilleurs paramètres :  {'C': 1, 'class_weight': None, 'dual': True, 'max_iter': 700}\n",
      "Rapport de Classification SVM D2V :\n",
      "\n"
     ]
    },
    {
     "name": "stderr",
     "output_type": "stream",
     "text": [
      "/home/lucile/S1/ApprentissageAutomatique/apprautovenv/lib/python3.11/site-packages/sklearn/metrics/_classification.py:1531: UndefinedMetricWarning: Precision is ill-defined and being set to 0.0 in labels with no predicted samples. Use `zero_division` parameter to control this behavior.\n",
      "  _warn_prf(average, modifier, f\"{metric.capitalize()} is\", len(result))\n"
     ]
    },
    {
     "name": "stdout",
     "output_type": "stream",
     "text": [
      "              precision    recall  f1-score   support\n",
      "\n",
      "        ELDR       0.12      0.01      0.01      1339\n",
      "     GUE-NGL       0.27      0.52      0.36      1793\n",
      "      PPE-DE       0.39      0.56      0.46      4571\n",
      "         PSE       0.34      0.26      0.29      3627\n",
      "     Unknown       0.00      0.00      0.00         2\n",
      "   Verts-ALE       0.13      0.01      0.01      1585\n",
      "\n",
      "    accuracy                           0.34     12917\n",
      "   macro avg       0.21      0.22      0.19     12917\n",
      "weighted avg       0.30      0.34      0.30     12917\n",
      "\n"
     ]
    },
    {
     "name": "stderr",
     "output_type": "stream",
     "text": [
      "/home/lucile/S1/ApprentissageAutomatique/apprautovenv/lib/python3.11/site-packages/sklearn/metrics/_classification.py:1531: UndefinedMetricWarning: Precision is ill-defined and being set to 0.0 in labels with no predicted samples. Use `zero_division` parameter to control this behavior.\n",
      "  _warn_prf(average, modifier, f\"{metric.capitalize()} is\", len(result))\n",
      "/home/lucile/S1/ApprentissageAutomatique/apprautovenv/lib/python3.11/site-packages/sklearn/metrics/_classification.py:1531: UndefinedMetricWarning: Precision is ill-defined and being set to 0.0 in labels with no predicted samples. Use `zero_division` parameter to control this behavior.\n",
      "  _warn_prf(average, modifier, f\"{metric.capitalize()} is\", len(result))\n"
     ]
    }
   ],
   "source": [
    "# grid search pour SVM avec Doc2Vec\n",
    "\n",
    "param_gridSVM_D2V = { \n",
    "    \"C\" : [0.2, 1, 10],\n",
    "    \"dual\": [True, False],\n",
    "    \"class_weight\" : [\"balanced\", None],\n",
    "    \"max_iter\" : [700, 1000]\n",
    "}\n",
    "\n",
    "#Initialisation\n",
    "svm_D2V = LinearSVC()\n",
    "svm_D2V_grid = GridSearchCV(svm_D2V, param_gridSVM_D2V, cv=5, verbose=2, n_jobs=-1)\n",
    "\n",
    "#Entraînement du modèle\n",
    "svm_D2V_grid.fit(X_train_doc2vec, y_train)\n",
    "\n",
    "#Afficher les meilleurs paramètres\n",
    "print(\"Meilleurs paramètres : \", svm_D2V_grid.best_params_)\n",
    "#Prédiction avec les meilleurs paramètres obtenus\n",
    "best_svm_D2V = svm_D2V_grid.best_estimator_\n",
    "y_pred_best_svm_D2V = best_svm_D2V.predict(X_test_doc2vec)\n",
    "\n",
    "#Résultats\n",
    "print(\"Rapport de Classification SVM D2V :\\n\")\n",
    "print(classification_report(y_test, y_pred_best_svm_D2V))\n"
   ]
  },
  {
   "cell_type": "markdown",
   "metadata": {},
   "source": [
    "### Comparaison des performances des modèles Doc2Vec"
   ]
  },
  {
   "cell_type": "code",
   "execution_count": 43,
   "metadata": {},
   "outputs": [
    {
     "name": "stderr",
     "output_type": "stream",
     "text": [
      "/home/lucile/S1/ApprentissageAutomatique/apprautovenv/lib/python3.11/site-packages/sklearn/metrics/_classification.py:1531: UndefinedMetricWarning: Precision is ill-defined and being set to 0.0 in labels with no predicted samples. Use `zero_division` parameter to control this behavior.\n",
      "  _warn_prf(average, modifier, f\"{metric.capitalize()} is\", len(result))\n",
      "/home/lucile/S1/ApprentissageAutomatique/apprautovenv/lib/python3.11/site-packages/sklearn/metrics/_classification.py:1531: UndefinedMetricWarning: Precision is ill-defined and being set to 0.0 in labels with no predicted samples. Use `zero_division` parameter to control this behavior.\n",
      "  _warn_prf(average, modifier, f\"{metric.capitalize()} is\", len(result))\n"
     ]
    },
    {
     "name": "stdout",
     "output_type": "stream",
     "text": [
      "                    Modèle  Accuracy  Précision    Rappel  F-mesure\n",
      "0  Logistic Regression D2V  0.340094   0.222185  0.230094  0.202776\n",
      "1                  SVM D2V  0.343810   0.207357  0.224468  0.188640\n"
     ]
    }
   ],
   "source": [
    "## comparaison des résultats Doc2Vec\n",
    "\n",
    "resultats = pd.DataFrame({\n",
    "    \"Modèle\": [\"Logistic Regression D2V\", \"SVM D2V\"],\n",
    "    \"Accuracy\": \n",
    "        [accuracy_score(y_test, y_pred_best_LR_D2V),\n",
    "        accuracy_score(y_test, y_pred_best_svm_D2V)],\n",
    "    \"Précision\": \n",
    "        [precision_score(y_test, y_pred_best_LR_D2V, average=\"macro\"),\n",
    "        precision_score(y_test, y_pred_best_svm_D2V, average=\"macro\")],\n",
    "    \"Rappel\":\n",
    "        [recall_score(y_test, y_pred_best_LR_D2V, average=\"macro\"),\n",
    "        recall_score(y_test, y_pred_best_svm_D2V, average=\"macro\")],\n",
    "    \"F-mesure\":\n",
    "        [f1_score(y_test, y_pred_best_LR_D2V, average=\"macro\"),\n",
    "        f1_score(y_test, y_pred_best_svm_D2V, average=\"macro\")]\n",
    "})\n",
    "\n",
    "print(resultats)"
   ]
  },
  {
   "cell_type": "markdown",
   "metadata": {},
   "source": [
    "## Meilleur modèle\n",
    "\n",
    "**Les meilleurs résultats sont obtenus en combinant une vectorisation tf-idf prenant en compte le contexte avec des bigrammes et un SVM comme algorithme de classification.**\n",
    "\n",
    "Les paramètres de l'algorithme offrant les meilleurs résultats sont les suivants :\n",
    "\n",
    "- C: 1\n",
    "- class_weight: None\n",
    "- dual: True\n",
    "- max_iter: 700"
   ]
  },
  {
   "cell_type": "code",
   "execution_count": null,
   "metadata": {},
   "outputs": [],
   "source": [
    "etiquettes = [\"ELDR\", \"GUE-NGL\", \"PPE-DE\", \"PSE\", \"Unknown\", \"Verts-ALE\"]\n",
    "\n",
    "matrice = confusion_matrix(y_test, y_pred_best_svm)\n",
    "disp = ConfusionMatrixDisplay(confusion_matrix=matrice, display_labels=etiquettes)\n",
    "\n",
    "plt.figure(figsize = (12, 7))\n",
    "disp.plot(ax=plt.gca())\n",
    "plt.title(\"Matrice de Confusion SVM (TF-IDF et n_grams=(1,2)): \")\n",
    "plt.show()\n"
   ]
  },
  {
   "cell_type": "markdown",
   "metadata": {},
   "source": [
    "![Matrice de confusion SVM TF-IDF (1,2)](../plots/Confusion_Matrix_SVM_TF-IDF_1-2.png)"
   ]
  },
  {
   "cell_type": "markdown",
   "metadata": {},
   "source": []
  }
 ],
 "metadata": {
  "kernelspec": {
   "display_name": "apprautovenv",
   "language": "python",
   "name": "python3"
  },
  "language_info": {
   "codemirror_mode": {
    "name": "ipython",
    "version": 3
   },
   "file_extension": ".py",
   "mimetype": "text/x-python",
   "name": "python",
   "nbconvert_exporter": "python",
   "pygments_lexer": "ipython3",
   "version": "3.11.4"
  }
 },
 "nbformat": 4,
 "nbformat_minor": 2
}
